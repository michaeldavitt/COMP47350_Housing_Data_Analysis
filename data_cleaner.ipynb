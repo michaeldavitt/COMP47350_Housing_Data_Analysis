{
 "cells": [
  {
   "cell_type": "markdown",
   "metadata": {},
   "source": [
    "# Data Cleaning/Prep Script"
   ]
  },
  {
   "cell_type": "markdown",
   "metadata": {},
   "source": [
    "## Section 0: Initial Setup"
   ]
  },
  {
   "cell_type": "markdown",
   "metadata": {},
   "source": [
    "### Section 0.1: Import required libraries"
   ]
  },
  {
   "cell_type": "code",
   "execution_count": 1,
   "metadata": {},
   "outputs": [],
   "source": [
    "import pandas as pd\n",
    "import datetime\n",
    "import numpy as np"
   ]
  },
  {
   "cell_type": "markdown",
   "metadata": {},
   "source": [
    "### Section 0.2: Read in the data"
   ]
  },
  {
   "cell_type": "code",
   "execution_count": 2,
   "metadata": {},
   "outputs": [],
   "source": [
    "df = pd.read_csv('22032022-PPR-Price-recent.csv', keep_default_na=True, sep=',', skipinitialspace=True, engine=\"python\")"
   ]
  },
  {
   "cell_type": "code",
   "execution_count": 3,
   "metadata": {},
   "outputs": [
    {
     "data": {
      "text/html": [
       "<div>\n",
       "<style scoped>\n",
       "    .dataframe tbody tr th:only-of-type {\n",
       "        vertical-align: middle;\n",
       "    }\n",
       "\n",
       "    .dataframe tbody tr th {\n",
       "        vertical-align: top;\n",
       "    }\n",
       "\n",
       "    .dataframe thead th {\n",
       "        text-align: right;\n",
       "    }\n",
       "</style>\n",
       "<table border=\"1\" class=\"dataframe\">\n",
       "  <thead>\n",
       "    <tr style=\"text-align: right;\">\n",
       "      <th></th>\n",
       "      <th>Date of Sale (dd/mm/yyyy)</th>\n",
       "      <th>Address</th>\n",
       "      <th>Postal Code</th>\n",
       "      <th>County</th>\n",
       "      <th>Price (€)</th>\n",
       "      <th>Not Full Market Price</th>\n",
       "      <th>VAT Exclusive</th>\n",
       "      <th>Description of Property</th>\n",
       "      <th>Property Size Description</th>\n",
       "    </tr>\n",
       "  </thead>\n",
       "  <tbody>\n",
       "    <tr>\n",
       "      <th>0</th>\n",
       "      <td>2022-01-15</td>\n",
       "      <td>24 FOREST WALK, SWORDS, DUBLIN</td>\n",
       "      <td>NaN</td>\n",
       "      <td>Dublin</td>\n",
       "      <td>154000.00</td>\n",
       "      <td>No</td>\n",
       "      <td>No</td>\n",
       "      <td>Second-Hand Dwelling house /Apartment</td>\n",
       "      <td>NaN</td>\n",
       "    </tr>\n",
       "    <tr>\n",
       "      <th>1</th>\n",
       "      <td>2022-01-15</td>\n",
       "      <td>5 CRAGAUN, FATHER RUSSELL ROAD, DOORADOYLE</td>\n",
       "      <td>NaN</td>\n",
       "      <td>Limerick</td>\n",
       "      <td>370000.00</td>\n",
       "      <td>No</td>\n",
       "      <td>No</td>\n",
       "      <td>Second-Hand Dwelling house /Apartment</td>\n",
       "      <td>NaN</td>\n",
       "    </tr>\n",
       "    <tr>\n",
       "      <th>2</th>\n",
       "      <td>2022-01-16</td>\n",
       "      <td>19  The Lawn, Mullen Park, Maynooth</td>\n",
       "      <td>NaN</td>\n",
       "      <td>Kildare</td>\n",
       "      <td>409691.63</td>\n",
       "      <td>No</td>\n",
       "      <td>Yes</td>\n",
       "      <td>New Dwelling house /Apartment</td>\n",
       "      <td>NaN</td>\n",
       "    </tr>\n",
       "    <tr>\n",
       "      <th>3</th>\n",
       "      <td>2022-01-16</td>\n",
       "      <td>MONTEVIDEO, HOSPITAL HILL, BUNCLODY</td>\n",
       "      <td>NaN</td>\n",
       "      <td>Wexford</td>\n",
       "      <td>100000.00</td>\n",
       "      <td>No</td>\n",
       "      <td>No</td>\n",
       "      <td>Second-Hand Dwelling house /Apartment</td>\n",
       "      <td>NaN</td>\n",
       "    </tr>\n",
       "    <tr>\n",
       "      <th>4</th>\n",
       "      <td>2022-01-17</td>\n",
       "      <td>1 CILL BEG MANOR, STRADBALLY, LAOIS</td>\n",
       "      <td>NaN</td>\n",
       "      <td>Laois</td>\n",
       "      <td>225000.00</td>\n",
       "      <td>No</td>\n",
       "      <td>No</td>\n",
       "      <td>Second-Hand Dwelling house /Apartment</td>\n",
       "      <td>NaN</td>\n",
       "    </tr>\n",
       "  </tbody>\n",
       "</table>\n",
       "</div>"
      ],
      "text/plain": [
       "  Date of Sale (dd/mm/yyyy)                                     Address  \\\n",
       "0                2022-01-15              24 FOREST WALK, SWORDS, DUBLIN   \n",
       "1                2022-01-15  5 CRAGAUN, FATHER RUSSELL ROAD, DOORADOYLE   \n",
       "2                2022-01-16         19  The Lawn, Mullen Park, Maynooth   \n",
       "3                2022-01-16         MONTEVIDEO, HOSPITAL HILL, BUNCLODY   \n",
       "4                2022-01-17         1 CILL BEG MANOR, STRADBALLY, LAOIS   \n",
       "\n",
       "  Postal Code    County  Price (€) Not Full Market Price VAT Exclusive  \\\n",
       "0         NaN    Dublin  154000.00                    No            No   \n",
       "1         NaN  Limerick  370000.00                    No            No   \n",
       "2         NaN   Kildare  409691.63                    No           Yes   \n",
       "3         NaN   Wexford  100000.00                    No            No   \n",
       "4         NaN     Laois  225000.00                    No            No   \n",
       "\n",
       "                 Description of Property  Property Size Description  \n",
       "0  Second-Hand Dwelling house /Apartment                        NaN  \n",
       "1  Second-Hand Dwelling house /Apartment                        NaN  \n",
       "2          New Dwelling house /Apartment                        NaN  \n",
       "3  Second-Hand Dwelling house /Apartment                        NaN  \n",
       "4  Second-Hand Dwelling house /Apartment                        NaN  "
      ]
     },
     "execution_count": 3,
     "metadata": {},
     "output_type": "execute_result"
    }
   ],
   "source": [
    "df.head()"
   ]
  },
  {
   "cell_type": "markdown",
   "metadata": {},
   "source": [
    "### Section 0.3: Change the column names"
   ]
  },
  {
   "cell_type": "code",
   "execution_count": 4,
   "metadata": {},
   "outputs": [
    {
     "data": {
      "text/plain": [
       "Index(['Date_of_Sale_(dd/mm/yyyy)', 'Address', 'Postal_Code', 'County',\n",
       "       'Price_(€)', 'Not_Full_Market_Price', 'VAT_Exclusive',\n",
       "       'Description_of_Property', 'Property_Size_Description'],\n",
       "      dtype='object')"
      ]
     },
     "execution_count": 4,
     "metadata": {},
     "output_type": "execute_result"
    }
   ],
   "source": [
    "df.columns = df.columns.str.replace(' ', '_')\n",
    "df.columns"
   ]
  },
  {
   "cell_type": "markdown",
   "metadata": {},
   "source": [
    "### Section 0.4: Change the data types"
   ]
  },
  {
   "cell_type": "code",
   "execution_count": 5,
   "metadata": {},
   "outputs": [],
   "source": [
    "# Remove € and , characters and convert to float\n",
    "df[\"Price_(€)\"] = df[\"Price_(€)\"].replace(\"[\\€,]\", \"\", regex=True).astype(float)"
   ]
  },
  {
   "cell_type": "code",
   "execution_count": 6,
   "metadata": {},
   "outputs": [],
   "source": [
    "df[\"Date_of_Sale_(dd/mm/yyyy)\"] = pd.to_datetime(df[\"Date_of_Sale_(dd/mm/yyyy)\"], format=\"%Y-%m-%d\")\n",
    "df.rename(columns={\"Date_of_Sale_(dd/mm/yyyy)\": \"Date_of_Sale\"}, inplace=True)"
   ]
  },
  {
   "cell_type": "code",
   "execution_count": 7,
   "metadata": {},
   "outputs": [
    {
     "data": {
      "text/plain": [
       "Date_of_Sale                 datetime64[ns]\n",
       "Address                            category\n",
       "Postal_Code                        category\n",
       "County                             category\n",
       "Price_(€)                           float64\n",
       "Not_Full_Market_Price              category\n",
       "VAT_Exclusive                      category\n",
       "Description_of_Property            category\n",
       "Property_Size_Description           float64\n",
       "dtype: object"
      ]
     },
     "execution_count": 7,
     "metadata": {},
     "output_type": "execute_result"
    }
   ],
   "source": [
    "# Select all columns of type 'object'\n",
    "object_columns = df.select_dtypes(['object']).columns\n",
    "\n",
    "# Convert selected columns to type 'category'\n",
    "for column in object_columns:\n",
    "    df[column] = df[column].astype('category')\n",
    "df.dtypes"
   ]
  },
  {
   "cell_type": "code",
   "execution_count": 8,
   "metadata": {},
   "outputs": [
    {
     "data": {
      "text/html": [
       "<div>\n",
       "<style scoped>\n",
       "    .dataframe tbody tr th:only-of-type {\n",
       "        vertical-align: middle;\n",
       "    }\n",
       "\n",
       "    .dataframe tbody tr th {\n",
       "        vertical-align: top;\n",
       "    }\n",
       "\n",
       "    .dataframe thead th {\n",
       "        text-align: right;\n",
       "    }\n",
       "</style>\n",
       "<table border=\"1\" class=\"dataframe\">\n",
       "  <thead>\n",
       "    <tr style=\"text-align: right;\">\n",
       "      <th></th>\n",
       "      <th>Date_of_Sale</th>\n",
       "      <th>Address</th>\n",
       "      <th>Postal_Code</th>\n",
       "      <th>County</th>\n",
       "      <th>Price_(€)</th>\n",
       "      <th>Not_Full_Market_Price</th>\n",
       "      <th>VAT_Exclusive</th>\n",
       "      <th>Description_of_Property</th>\n",
       "      <th>Property_Size_Description</th>\n",
       "    </tr>\n",
       "  </thead>\n",
       "  <tbody>\n",
       "    <tr>\n",
       "      <th>0</th>\n",
       "      <td>2022-01-15</td>\n",
       "      <td>24 FOREST WALK, SWORDS, DUBLIN</td>\n",
       "      <td>NaN</td>\n",
       "      <td>Dublin</td>\n",
       "      <td>154000.00</td>\n",
       "      <td>No</td>\n",
       "      <td>No</td>\n",
       "      <td>Second-Hand Dwelling house /Apartment</td>\n",
       "      <td>NaN</td>\n",
       "    </tr>\n",
       "    <tr>\n",
       "      <th>1</th>\n",
       "      <td>2022-01-15</td>\n",
       "      <td>5 CRAGAUN, FATHER RUSSELL ROAD, DOORADOYLE</td>\n",
       "      <td>NaN</td>\n",
       "      <td>Limerick</td>\n",
       "      <td>370000.00</td>\n",
       "      <td>No</td>\n",
       "      <td>No</td>\n",
       "      <td>Second-Hand Dwelling house /Apartment</td>\n",
       "      <td>NaN</td>\n",
       "    </tr>\n",
       "    <tr>\n",
       "      <th>2</th>\n",
       "      <td>2022-01-16</td>\n",
       "      <td>19  The Lawn, Mullen Park, Maynooth</td>\n",
       "      <td>NaN</td>\n",
       "      <td>Kildare</td>\n",
       "      <td>409691.63</td>\n",
       "      <td>No</td>\n",
       "      <td>Yes</td>\n",
       "      <td>New Dwelling house /Apartment</td>\n",
       "      <td>NaN</td>\n",
       "    </tr>\n",
       "    <tr>\n",
       "      <th>3</th>\n",
       "      <td>2022-01-16</td>\n",
       "      <td>MONTEVIDEO, HOSPITAL HILL, BUNCLODY</td>\n",
       "      <td>NaN</td>\n",
       "      <td>Wexford</td>\n",
       "      <td>100000.00</td>\n",
       "      <td>No</td>\n",
       "      <td>No</td>\n",
       "      <td>Second-Hand Dwelling house /Apartment</td>\n",
       "      <td>NaN</td>\n",
       "    </tr>\n",
       "    <tr>\n",
       "      <th>4</th>\n",
       "      <td>2022-01-17</td>\n",
       "      <td>1 CILL BEG MANOR, STRADBALLY, LAOIS</td>\n",
       "      <td>NaN</td>\n",
       "      <td>Laois</td>\n",
       "      <td>225000.00</td>\n",
       "      <td>No</td>\n",
       "      <td>No</td>\n",
       "      <td>Second-Hand Dwelling house /Apartment</td>\n",
       "      <td>NaN</td>\n",
       "    </tr>\n",
       "  </tbody>\n",
       "</table>\n",
       "</div>"
      ],
      "text/plain": [
       "  Date_of_Sale                                     Address Postal_Code  \\\n",
       "0   2022-01-15              24 FOREST WALK, SWORDS, DUBLIN         NaN   \n",
       "1   2022-01-15  5 CRAGAUN, FATHER RUSSELL ROAD, DOORADOYLE         NaN   \n",
       "2   2022-01-16         19  The Lawn, Mullen Park, Maynooth         NaN   \n",
       "3   2022-01-16         MONTEVIDEO, HOSPITAL HILL, BUNCLODY         NaN   \n",
       "4   2022-01-17         1 CILL BEG MANOR, STRADBALLY, LAOIS         NaN   \n",
       "\n",
       "     County  Price_(€) Not_Full_Market_Price VAT_Exclusive  \\\n",
       "0    Dublin  154000.00                    No            No   \n",
       "1  Limerick  370000.00                    No            No   \n",
       "2   Kildare  409691.63                    No           Yes   \n",
       "3   Wexford  100000.00                    No            No   \n",
       "4     Laois  225000.00                    No            No   \n",
       "\n",
       "                 Description_of_Property  Property_Size_Description  \n",
       "0  Second-Hand Dwelling house /Apartment                        NaN  \n",
       "1  Second-Hand Dwelling house /Apartment                        NaN  \n",
       "2          New Dwelling house /Apartment                        NaN  \n",
       "3  Second-Hand Dwelling house /Apartment                        NaN  \n",
       "4  Second-Hand Dwelling house /Apartment                        NaN  "
      ]
     },
     "execution_count": 8,
     "metadata": {},
     "output_type": "execute_result"
    }
   ],
   "source": [
    "df.head()"
   ]
  },
  {
   "cell_type": "markdown",
   "metadata": {},
   "source": [
    "## Section 1: Address"
   ]
  },
  {
   "cell_type": "markdown",
   "metadata": {},
   "source": [
    "### Section 1.1: Convert all addresses to small caps"
   ]
  },
  {
   "cell_type": "code",
   "execution_count": 9,
   "metadata": {},
   "outputs": [],
   "source": [
    "def convert_to_small_caps(address):\n",
    "    \"\"\"Function for converting an address to lower case\"\"\"\n",
    "    return address.lower()"
   ]
  },
  {
   "cell_type": "code",
   "execution_count": 10,
   "metadata": {},
   "outputs": [],
   "source": [
    "df[\"Address\"] = df[\"Address\"].apply(convert_to_small_caps)"
   ]
  },
  {
   "cell_type": "code",
   "execution_count": 11,
   "metadata": {},
   "outputs": [
    {
     "data": {
      "text/html": [
       "<div>\n",
       "<style scoped>\n",
       "    .dataframe tbody tr th:only-of-type {\n",
       "        vertical-align: middle;\n",
       "    }\n",
       "\n",
       "    .dataframe tbody tr th {\n",
       "        vertical-align: top;\n",
       "    }\n",
       "\n",
       "    .dataframe thead th {\n",
       "        text-align: right;\n",
       "    }\n",
       "</style>\n",
       "<table border=\"1\" class=\"dataframe\">\n",
       "  <thead>\n",
       "    <tr style=\"text-align: right;\">\n",
       "      <th></th>\n",
       "      <th>Date_of_Sale</th>\n",
       "      <th>Address</th>\n",
       "      <th>Postal_Code</th>\n",
       "      <th>County</th>\n",
       "      <th>Price_(€)</th>\n",
       "      <th>Not_Full_Market_Price</th>\n",
       "      <th>VAT_Exclusive</th>\n",
       "      <th>Description_of_Property</th>\n",
       "      <th>Property_Size_Description</th>\n",
       "    </tr>\n",
       "  </thead>\n",
       "  <tbody>\n",
       "    <tr>\n",
       "      <th>0</th>\n",
       "      <td>2022-01-15</td>\n",
       "      <td>24 forest walk, swords, dublin</td>\n",
       "      <td>NaN</td>\n",
       "      <td>Dublin</td>\n",
       "      <td>154000.00</td>\n",
       "      <td>No</td>\n",
       "      <td>No</td>\n",
       "      <td>Second-Hand Dwelling house /Apartment</td>\n",
       "      <td>NaN</td>\n",
       "    </tr>\n",
       "    <tr>\n",
       "      <th>1</th>\n",
       "      <td>2022-01-15</td>\n",
       "      <td>5 cragaun, father russell road, dooradoyle</td>\n",
       "      <td>NaN</td>\n",
       "      <td>Limerick</td>\n",
       "      <td>370000.00</td>\n",
       "      <td>No</td>\n",
       "      <td>No</td>\n",
       "      <td>Second-Hand Dwelling house /Apartment</td>\n",
       "      <td>NaN</td>\n",
       "    </tr>\n",
       "    <tr>\n",
       "      <th>2</th>\n",
       "      <td>2022-01-16</td>\n",
       "      <td>19  the lawn, mullen park, maynooth</td>\n",
       "      <td>NaN</td>\n",
       "      <td>Kildare</td>\n",
       "      <td>409691.63</td>\n",
       "      <td>No</td>\n",
       "      <td>Yes</td>\n",
       "      <td>New Dwelling house /Apartment</td>\n",
       "      <td>NaN</td>\n",
       "    </tr>\n",
       "    <tr>\n",
       "      <th>3</th>\n",
       "      <td>2022-01-16</td>\n",
       "      <td>montevideo, hospital hill, bunclody</td>\n",
       "      <td>NaN</td>\n",
       "      <td>Wexford</td>\n",
       "      <td>100000.00</td>\n",
       "      <td>No</td>\n",
       "      <td>No</td>\n",
       "      <td>Second-Hand Dwelling house /Apartment</td>\n",
       "      <td>NaN</td>\n",
       "    </tr>\n",
       "    <tr>\n",
       "      <th>4</th>\n",
       "      <td>2022-01-17</td>\n",
       "      <td>1 cill beg manor, stradbally, laois</td>\n",
       "      <td>NaN</td>\n",
       "      <td>Laois</td>\n",
       "      <td>225000.00</td>\n",
       "      <td>No</td>\n",
       "      <td>No</td>\n",
       "      <td>Second-Hand Dwelling house /Apartment</td>\n",
       "      <td>NaN</td>\n",
       "    </tr>\n",
       "  </tbody>\n",
       "</table>\n",
       "</div>"
      ],
      "text/plain": [
       "  Date_of_Sale                                     Address Postal_Code  \\\n",
       "0   2022-01-15              24 forest walk, swords, dublin         NaN   \n",
       "1   2022-01-15  5 cragaun, father russell road, dooradoyle         NaN   \n",
       "2   2022-01-16         19  the lawn, mullen park, maynooth         NaN   \n",
       "3   2022-01-16         montevideo, hospital hill, bunclody         NaN   \n",
       "4   2022-01-17         1 cill beg manor, stradbally, laois         NaN   \n",
       "\n",
       "     County  Price_(€) Not_Full_Market_Price VAT_Exclusive  \\\n",
       "0    Dublin  154000.00                    No            No   \n",
       "1  Limerick  370000.00                    No            No   \n",
       "2   Kildare  409691.63                    No           Yes   \n",
       "3   Wexford  100000.00                    No            No   \n",
       "4     Laois  225000.00                    No            No   \n",
       "\n",
       "                 Description_of_Property  Property_Size_Description  \n",
       "0  Second-Hand Dwelling house /Apartment                        NaN  \n",
       "1  Second-Hand Dwelling house /Apartment                        NaN  \n",
       "2          New Dwelling house /Apartment                        NaN  \n",
       "3  Second-Hand Dwelling house /Apartment                        NaN  \n",
       "4  Second-Hand Dwelling house /Apartment                        NaN  "
      ]
     },
     "execution_count": 11,
     "metadata": {},
     "output_type": "execute_result"
    }
   ],
   "source": [
    "df.head()"
   ]
  },
  {
   "cell_type": "markdown",
   "metadata": {},
   "source": [
    "### Section 1.2: Convert Postal Code values to lowercase (for comparability)"
   ]
  },
  {
   "cell_type": "code",
   "execution_count": 12,
   "metadata": {},
   "outputs": [],
   "source": [
    "df[\"Postal_Code\"] = df[\"Postal_Code\"].apply(convert_to_small_caps)"
   ]
  },
  {
   "cell_type": "code",
   "execution_count": 13,
   "metadata": {},
   "outputs": [
    {
     "data": {
      "text/html": [
       "<div>\n",
       "<style scoped>\n",
       "    .dataframe tbody tr th:only-of-type {\n",
       "        vertical-align: middle;\n",
       "    }\n",
       "\n",
       "    .dataframe tbody tr th {\n",
       "        vertical-align: top;\n",
       "    }\n",
       "\n",
       "    .dataframe thead th {\n",
       "        text-align: right;\n",
       "    }\n",
       "</style>\n",
       "<table border=\"1\" class=\"dataframe\">\n",
       "  <thead>\n",
       "    <tr style=\"text-align: right;\">\n",
       "      <th></th>\n",
       "      <th>Date_of_Sale</th>\n",
       "      <th>Address</th>\n",
       "      <th>Postal_Code</th>\n",
       "      <th>County</th>\n",
       "      <th>Price_(€)</th>\n",
       "      <th>Not_Full_Market_Price</th>\n",
       "      <th>VAT_Exclusive</th>\n",
       "      <th>Description_of_Property</th>\n",
       "      <th>Property_Size_Description</th>\n",
       "    </tr>\n",
       "  </thead>\n",
       "  <tbody>\n",
       "    <tr>\n",
       "      <th>0</th>\n",
       "      <td>2022-01-15</td>\n",
       "      <td>24 forest walk, swords, dublin</td>\n",
       "      <td>NaN</td>\n",
       "      <td>Dublin</td>\n",
       "      <td>154000.00</td>\n",
       "      <td>No</td>\n",
       "      <td>No</td>\n",
       "      <td>Second-Hand Dwelling house /Apartment</td>\n",
       "      <td>NaN</td>\n",
       "    </tr>\n",
       "    <tr>\n",
       "      <th>1</th>\n",
       "      <td>2022-01-15</td>\n",
       "      <td>5 cragaun, father russell road, dooradoyle</td>\n",
       "      <td>NaN</td>\n",
       "      <td>Limerick</td>\n",
       "      <td>370000.00</td>\n",
       "      <td>No</td>\n",
       "      <td>No</td>\n",
       "      <td>Second-Hand Dwelling house /Apartment</td>\n",
       "      <td>NaN</td>\n",
       "    </tr>\n",
       "    <tr>\n",
       "      <th>2</th>\n",
       "      <td>2022-01-16</td>\n",
       "      <td>19  the lawn, mullen park, maynooth</td>\n",
       "      <td>NaN</td>\n",
       "      <td>Kildare</td>\n",
       "      <td>409691.63</td>\n",
       "      <td>No</td>\n",
       "      <td>Yes</td>\n",
       "      <td>New Dwelling house /Apartment</td>\n",
       "      <td>NaN</td>\n",
       "    </tr>\n",
       "    <tr>\n",
       "      <th>3</th>\n",
       "      <td>2022-01-16</td>\n",
       "      <td>montevideo, hospital hill, bunclody</td>\n",
       "      <td>NaN</td>\n",
       "      <td>Wexford</td>\n",
       "      <td>100000.00</td>\n",
       "      <td>No</td>\n",
       "      <td>No</td>\n",
       "      <td>Second-Hand Dwelling house /Apartment</td>\n",
       "      <td>NaN</td>\n",
       "    </tr>\n",
       "    <tr>\n",
       "      <th>4</th>\n",
       "      <td>2022-01-17</td>\n",
       "      <td>1 cill beg manor, stradbally, laois</td>\n",
       "      <td>NaN</td>\n",
       "      <td>Laois</td>\n",
       "      <td>225000.00</td>\n",
       "      <td>No</td>\n",
       "      <td>No</td>\n",
       "      <td>Second-Hand Dwelling house /Apartment</td>\n",
       "      <td>NaN</td>\n",
       "    </tr>\n",
       "  </tbody>\n",
       "</table>\n",
       "</div>"
      ],
      "text/plain": [
       "  Date_of_Sale                                     Address Postal_Code  \\\n",
       "0   2022-01-15              24 forest walk, swords, dublin         NaN   \n",
       "1   2022-01-15  5 cragaun, father russell road, dooradoyle         NaN   \n",
       "2   2022-01-16         19  the lawn, mullen park, maynooth         NaN   \n",
       "3   2022-01-16         montevideo, hospital hill, bunclody         NaN   \n",
       "4   2022-01-17         1 cill beg manor, stradbally, laois         NaN   \n",
       "\n",
       "     County  Price_(€) Not_Full_Market_Price VAT_Exclusive  \\\n",
       "0    Dublin  154000.00                    No            No   \n",
       "1  Limerick  370000.00                    No            No   \n",
       "2   Kildare  409691.63                    No           Yes   \n",
       "3   Wexford  100000.00                    No            No   \n",
       "4     Laois  225000.00                    No            No   \n",
       "\n",
       "                 Description_of_Property  Property_Size_Description  \n",
       "0  Second-Hand Dwelling house /Apartment                        NaN  \n",
       "1  Second-Hand Dwelling house /Apartment                        NaN  \n",
       "2          New Dwelling house /Apartment                        NaN  \n",
       "3  Second-Hand Dwelling house /Apartment                        NaN  \n",
       "4  Second-Hand Dwelling house /Apartment                        NaN  "
      ]
     },
     "execution_count": 13,
     "metadata": {},
     "output_type": "execute_result"
    }
   ],
   "source": [
    "df.head()"
   ]
  },
  {
   "cell_type": "markdown",
   "metadata": {},
   "source": [
    "### Section 1.3: Create a list of valid postal codes"
   ]
  },
  {
   "cell_type": "code",
   "execution_count": 14,
   "metadata": {},
   "outputs": [
    {
     "data": {
      "text/plain": [
       "['dublin 6w',\n",
       " 'dublin 1',\n",
       " 'dublin 2',\n",
       " 'dublin 3',\n",
       " 'dublin 4',\n",
       " 'dublin 5',\n",
       " 'dublin 6',\n",
       " 'dublin 7',\n",
       " 'dublin 8',\n",
       " 'dublin 9',\n",
       " 'dublin 10',\n",
       " 'dublin 11',\n",
       " 'dublin 12',\n",
       " 'dublin 13',\n",
       " 'dublin 14',\n",
       " 'dublin 15',\n",
       " 'dublin 16',\n",
       " 'dublin 17',\n",
       " 'dublin 18',\n",
       " 'dublin 20',\n",
       " 'dublin 22',\n",
       " 'dublin 24']"
      ]
     },
     "execution_count": 14,
     "metadata": {},
     "output_type": "execute_result"
    }
   ],
   "source": [
    "# Create a list for storing postal codes and initialise this list with the county Dublin 6w\n",
    "postal_codes = [\"dublin 6w\"]\n",
    "\n",
    "# Loop through all valid postal code numbers to create a list of valid postal codes\n",
    "for i in range(1, 25):\n",
    "    if i in [19, 21, 23]:\n",
    "        continue\n",
    "    postal_codes.append(\"dublin \" + str(i))\n",
    "\n",
    "postal_codes"
   ]
  },
  {
   "cell_type": "markdown",
   "metadata": {},
   "source": [
    "### Section 1.4: Add all postal codes from address to postal code when postal code is NAN"
   ]
  },
  {
   "cell_type": "code",
   "execution_count": 15,
   "metadata": {},
   "outputs": [
    {
     "data": {
      "text/plain": [
       "5675"
      ]
     },
     "execution_count": 15,
     "metadata": {},
     "output_type": "execute_result"
    }
   ],
   "source": [
    "# Count of NAN values before using address postal codes\n",
    "df[\"Postal_Code\"].isna().sum()"
   ]
  },
  {
   "cell_type": "code",
   "execution_count": 16,
   "metadata": {},
   "outputs": [],
   "source": [
    "def address_postal_adder(address, postal_code):\n",
    "    \"\"\"Function that adds the address postal code to the postal code column when it is a valid postal code and the postal code value is missing\"\"\"\n",
    "    new_postal_code = \"\"\n",
    "\n",
    "    for valid_postal_code in postal_codes:\n",
    "        if (valid_postal_code in address) and (pd.isnull(postal_code)) and (len(valid_postal_code) > len(new_postal_code)):\n",
    "            print(valid_postal_code, address, postal_code)\n",
    "            new_postal_code = valid_postal_code\n",
    "    \n",
    "    if len(new_postal_code) > 0:\n",
    "        return new_postal_code\n",
    "\n",
    "    return postal_code\n"
   ]
  },
  {
   "cell_type": "code",
   "execution_count": 17,
   "metadata": {},
   "outputs": [
    {
     "name": "stdout",
     "output_type": "stream",
     "text": [
      "dublin 6w 11 rossmore close, templeogue, dublin 6w nan\n",
      "dublin 4 13 bayview, irish town, dublin 4 nan\n",
      "dublin 6w 24 terenure rd west, terenure, dublin 6w nan\n",
      "dublin 6w 24 terenure rd west, terenure, dublin 6w nan\n",
      "dublin 6w 32 willington green, templeogue, dublin 6w nan\n",
      "dublin 5 53 thornville avenue, dublin 5, dublin nan\n",
      "dublin 7 11 dalymount, phibsboro, dublin 7 nan\n",
      "dublin 2 11 the way, citywest village, dublin 24 nan\n",
      "dublin 24 11 the way, citywest village, dublin 24 nan\n",
      "dublin 2 80 merrion road, dublin 2 nan\n",
      "dublin 1 151 howth road, sutton, dublin 13 nan\n",
      "dublin 13 151 howth road, sutton, dublin 13 nan\n",
      "dublin 1 17 cherry court, loughlinstown, dublin 18 nan\n",
      "dublin 18 17 cherry court, loughlinstown, dublin 18 nan\n",
      "dublin 1 171 castlemoyne, balgriffin, dublin 13 nan\n",
      "dublin 13 171 castlemoyne, balgriffin, dublin 13 nan\n",
      "dublin 2 80 thornfield square, clondalkin, dublin 22 nan\n",
      "dublin 22 80 thornfield square, clondalkin, dublin 22 nan\n",
      "dublin 6 88 cypress grove rd, templeogue, dublin 6 nan\n",
      "dublin 6 1 st martins park, terenure, dublin 6 nan\n",
      "dublin 8 11 st catherines court, bridgefort street, dublin 8 nan\n",
      "dublin 6w 30 the crescent, fortfield sq, terenure dublin 6w nan\n",
      "dublin 2 60 winter garden, pearse street, dublin 2 nan\n",
      "dublin 2 1 citywest village avenue, citywest, dublin 24 nan\n",
      "dublin 24 1 citywest village avenue, citywest, dublin 24 nan\n",
      "dublin 8 33 hamilton street, south circular road, dublin 8 nan\n",
      "dublin 3 4 canon hall, church st east, dublin 3 nan\n",
      "dublin 2 moneen, bohernabreena, dublin 24 nan\n",
      "dublin 24 moneen, bohernabreena, dublin 24 nan\n",
      "dublin 4 18(e) south lotts road, ringsend, dublin 4 nan\n",
      "dublin 1 69a glasnevin park, glasnevin, dublin 11 nan\n",
      "dublin 11 69a glasnevin park, glasnevin, dublin 11 nan\n",
      "dublin 1 12 dale rd, stillorgan dublin 14, dublin nan\n",
      "dublin 14 12 dale rd, stillorgan dublin 14, dublin nan\n",
      "dublin 1 151 howth road, sutton, dublin 13 nan\n",
      "dublin 13 151 howth road, sutton, dublin 13 nan\n",
      "dublin 6w 5 templeogue lodge, templeogue, dublin 6w nan\n",
      "dublin 6w 25 springfield crescent, terenure, dublin 6w nan\n",
      "dublin 1 57 glencloy road, whitehall, dublin 11 nan\n",
      "dublin 11 57 glencloy road, whitehall, dublin 11 nan\n",
      "dublin 1 apartment 6 block 7a, ongar lodge, dublin 15 nan\n",
      "dublin 15 apartment 6 block 7a, ongar lodge, dublin 15 nan\n",
      "dublin 1 128 red arches road, the coast, dublin 13 nan\n",
      "dublin 13 128 red arches road, the coast, dublin 13 nan\n",
      "dublin 9 158 temple gardens, santry, dublin 9 nan\n",
      "dublin 7 apt 1, 42 north circular rd, dublin 7 nan\n",
      "dublin 9 22 russell avenue, drumcondra, dublin 9 nan\n",
      "dublin 1 32 pairc na cuileann, ballymun, dublin 11 nan\n",
      "dublin 11 32 pairc na cuileann, ballymun, dublin 11 nan\n",
      "dublin 1 80 ardilea crescent, clonskeagh, dublin 14 nan\n",
      "dublin 14 80 ardilea crescent, clonskeagh, dublin 14 nan\n",
      "dublin 1 apartment 234, bachelors walk, dublin 1 nan\n",
      "dublin 1 apartment 302, bachelors walk, dublin 1 nan\n",
      "dublin 1 apartment 35 bachelors walk, dublin 1 nan\n",
      "dublin 1 apt 189, batchelors walk, dublin 1 nan\n",
      "dublin 1 apt 196, bachelors walk, dublin 1 nan\n",
      "dublin 1 apt 281, bacelors walk, dublin 1 nan\n",
      "dublin 1 apt 320, bachelors walk, dublin 1 nan\n",
      "dublin 1 apt 323, bachelors walk, dublin 1 nan\n",
      "dublin 1 apt 328, bachelors walk, dublin 1 nan\n",
      "dublin 1 apt 344, backelors walk, dublin 1 nan\n",
      "dublin 1 apt 360, bachelors walk, dublin 1 nan\n",
      "dublin 1 apt 375 bachelors walk, dublin 1 nan\n",
      "dublin 6w 13 wainsfort avenue, terenure, dublin 6w nan\n",
      "dublin 1 202 mourne road, drimnagh, dublin 12 nan\n",
      "dublin 12 202 mourne road, drimnagh, dublin 12 nan\n",
      "dublin 6w 86 larkfield grove, harolds cross, dublin 6w nan\n",
      "dublin 6w 42 willington park, templeogue, dublin 6w nan\n",
      "dublin 2 53 the island block b, chapelizod, dublin 20 nan\n",
      "dublin 20 53 the island block b, chapelizod, dublin 20 nan\n",
      "dublin 6w 1 church park lawn, mount argus, dublin 6w nan\n",
      "dublin 1 1 summerhill place, dublin 1 nan\n",
      "dublin 6w 123 corrib rd, terenure, dublin 6w nan\n",
      "dublin 1 47phoenix park avenue, castleknock, dublin 15 nan\n",
      "dublin 15 47phoenix park avenue, castleknock, dublin 15 nan\n",
      "dublin 6w 6 riversdale grove, dublin 6w, dublin nan\n",
      "dublin 8 7 traders wharf, ushers quay, dublin 8 nan\n",
      "dublin 6w 27 st martins dr, kimmage, dublin 6w nan\n",
      "dublin 1 13 ballinteer drive, ballinteer, dublin 16 nan\n",
      "dublin 16 13 ballinteer drive, ballinteer, dublin 16 nan\n",
      "dublin 6w 20 cypress park, templeogue, dublin 6w nan\n",
      "dublin 1 22 robinhood road, drimnagh, dublin 12 nan\n",
      "dublin 12 22 robinhood road, drimnagh, dublin 12 nan\n",
      "dublin 6 3 temple road, rathgar, dublin 6 nan\n",
      "dublin 6 37 annavilla, ranelagh, dublin 6 nan\n",
      "dublin 1 ground floor apartment, 5 mountjoy square, dublin 1 nan\n",
      "dublin 1 12 cairnbrook hall, carrickmines, dublin 18 nan\n",
      "dublin 18 12 cairnbrook hall, carrickmines, dublin 18 nan\n",
      "dublin 6 1 charleston road, ranelagh, dublin 6 nan\n",
      "dublin 6w 10 larkfield park, terenure, dublin 6w nan\n",
      "dublin 1 18 hollywoodrath lawns, hollywoodrath hollystown, dublin 15 nan\n",
      "dublin 15 18 hollywoodrath lawns, hollywoodrath hollystown, dublin 15 nan\n",
      "dublin 8 203 tyrconnell road, inchicore, dublin 8 nan\n",
      "dublin 2 22 carnegie court, north st, swords dublin 24 nan\n",
      "dublin 24 22 carnegie court, north st, swords dublin 24 nan\n",
      "dublin 1 4 castlegrange row, castaheany, dublin 15 nan\n",
      "dublin 15 4 castlegrange row, castaheany, dublin 15 nan\n",
      "dublin 1 7 glinbury, rathfarnham, dublin 16 nan\n",
      "dublin 16 7 glinbury, rathfarnham, dublin 16 nan\n",
      "dublin 2 21 parklands downs, citywest, dublin 22 nan\n",
      "dublin 22 21 parklands downs, citywest, dublin 22 nan\n",
      "dublin 6w 100 parkmore dr, terenure, dublin 6w nan\n",
      "dublin 7 28 kirwan street, dublin 7 nan\n",
      "dublin 4 44 donnybrook road, donnybrook, dublin 4 nan\n",
      "dublin 6 7 casimir court, harolds cross, dublin 6 nan\n",
      "dublin 1 106 seven oaks, sarsfield road, dublin 10 nan\n",
      "dublin 10 106 seven oaks, sarsfield road, dublin 10 nan\n",
      "dublin 1 12 temple court, upper dominick street, dublin 1 nan\n",
      "dublin 6w 18 wainsfort manor grove, terenure, manor grove dublin 6w nan\n",
      "dublin 1 34 hollywoodrath aveue, hollystown, dublin 15 nan\n",
      "dublin 15 34 hollywoodrath aveue, hollystown, dublin 15 nan\n",
      "dublin 2 47 weavers court, clondalkin, dublin 22 nan\n",
      "dublin 22 47 weavers court, clondalkin, dublin 22 nan\n",
      "dublin 1 1 library crescent, shankill, dublin 18 nan\n",
      "dublin 18 1 library crescent, shankill, dublin 18 nan\n",
      "dublin 5 13 kilbarron park, coolock, dublin 5 nan\n",
      "dublin 9 34 upper drumcondra road, dublin 9 nan\n",
      "dublin 6w 59 wainsfort manor dr, terenure, dublin 6w nan\n",
      "dublin 1 7 cul cuille, sandyford village, dublin 18 nan\n",
      "dublin 18 7 cul cuille, sandyford village, dublin 18 nan\n",
      "dublin 7 1 berkeley street, phibsborough, dublin 7 nan\n",
      "dublin 6w 121 larkfield grove, harolds cross, dublin 6w nan\n",
      "dublin 5 6 saint esra close, killester avenue, dublin 5 nan\n",
      "dublin 1 7 glin drive, coolock, dublin 17 nan\n",
      "dublin 17 7 glin drive, coolock, dublin 17 nan\n",
      "dublin 7 apt 1, 21 mary street little, dublin 7 nan\n",
      "dublin 7 apt 1, 21 mary street little, dublin 7 nan\n",
      "dublin 7 apt 1, 21 mary street little, dublin 7 nan\n",
      "dublin 7 apt 1, 21 mary street little, dublin 7 nan\n",
      "dublin 2 120 pearse street, dublin 2 nan\n",
      "dublin 6w 13 kimmage grove, harolds cross, dublin 6w nan\n",
      "dublin 6w 19 rushbrook way, templeogue, dublin 6w nan\n",
      "dublin 4 8 south dock st, ringsend, dublin 4 nan\n",
      "dublin 8 30 the mill, weavers square, dublin 8 nan\n",
      "dublin 6w 31 st matins park, kimmage, dublin 6w nan\n",
      "dublin 4 130 the jessop, charlotte quay, dublin 4 nan\n",
      "dublin 1 35 st doolagh's square, balgriffin, dublin 13 nan\n",
      "dublin 13 35 st doolagh's square, balgriffin, dublin 13 nan\n",
      "dublin 6 dublin 6 wellesley court, clancys strand, limerick nan\n",
      "dublin 9 25 millmount avenue, drumcondra, dublin 9 nan\n",
      "dublin 6w 70 shanid rd, harolds cross, dublin 6w nan\n",
      "dublin 1 77 balally park, dundrum, dublin 16 nan\n",
      "dublin 16 77 balally park, dundrum, dublin 16 nan\n",
      "dublin 6w 41 harolds cross rd, harolds cross, dublin 6w nan\n",
      "dublin 1 68 st doolagh's square, balgriffin, dublin 13 nan\n",
      "dublin 13 68 st doolagh's square, balgriffin, dublin 13 nan\n",
      "dublin 5 5 tonlegee manor, raheny, dublin 5 nan\n",
      "dublin 5 apr 6, tonlegee manor, dublin 5 nan\n",
      "dublin 5 apt 4, tonlegee manor, dublin 5 nan\n",
      "dublin 6 11 cormac terrace, terenure, dublin 6 nan\n",
      "dublin 6w 3 riverside cottages, templeogue, dublin 6w nan\n",
      "dublin 3 30a vernon avenue, clontarf, dublin 3 nan\n",
      "dublin 1 1 dunisk avenue, finglas west, dublin 11 nan\n",
      "dublin 11 1 dunisk avenue, finglas west, dublin 11 nan\n",
      "dublin 1 10 cul cuille, sandyford, dublin 18 nan\n",
      "dublin 18 10 cul cuille, sandyford, dublin 18 nan\n",
      "dublin 8 32 thomas court, dublin 8 nan\n",
      "dublin 6w 2 church park lawn, mount argus rd, harolds cross dublin 6w nan\n",
      "dublin 1 27 st josephs crescent, clonsilla, dublin 15 nan\n",
      "dublin 15 27 st josephs crescent, clonsilla, dublin 15 nan\n",
      "dublin 1 47 kilshane road, finglas, dublin 11 nan\n",
      "dublin 11 47 kilshane road, finglas, dublin 11 nan\n",
      "dublin 1 apt 7 achill house, custom house square, dublin 1 nan\n",
      "dublin 4 29 brooklands, nutley lane, dublin 4 nan\n",
      "dublin 8 18 mallin avenue, rialto, dublin 8 nan\n",
      "dublin 1 13 diswellstown grove, castleknock, dublin 15 nan\n",
      "dublin 15 13 diswellstown grove, castleknock, dublin 15 nan\n",
      "dublin 1 42 station road, barnwell park, dublin 15 nan\n",
      "dublin 15 42 station road, barnwell park, dublin 15 nan\n"
     ]
    }
   ],
   "source": [
    "df[\"Postal_Code\"] = df.apply(lambda x: address_postal_adder(x[\"Address\"], x[\"Postal_Code\"]), axis=1)"
   ]
  },
  {
   "cell_type": "code",
   "execution_count": 18,
   "metadata": {},
   "outputs": [
    {
     "data": {
      "text/plain": [
       "5547"
      ]
     },
     "execution_count": 18,
     "metadata": {},
     "output_type": "execute_result"
    }
   ],
   "source": [
    "# Count of NAN values after using address postal codes\n",
    "df[\"Postal_Code\"].isna().sum()"
   ]
  },
  {
   "cell_type": "markdown",
   "metadata": {},
   "source": [
    "## Section 2: Not full market price"
   ]
  },
  {
   "cell_type": "markdown",
   "metadata": {},
   "source": [
    "### Section 2.1: Invert not full market price"
   ]
  },
  {
   "cell_type": "code",
   "execution_count": 19,
   "metadata": {},
   "outputs": [],
   "source": [
    "def invert_yes_no(not_full_market_price):\n",
    "    \"\"\"Function that inverts the values in not full market price to solve the double negative issue\"\"\"\n",
    "    if not_full_market_price == \"no\":\n",
    "        return \"yes\"\n",
    "\n",
    "    else:\n",
    "        return \"no\""
   ]
  },
  {
   "cell_type": "code",
   "execution_count": 20,
   "metadata": {},
   "outputs": [],
   "source": [
    "df[\"Not_Full_Market_Price\"] = df[\"Not_Full_Market_Price\"].apply(convert_to_small_caps)\n",
    "df[\"Not_Full_Market_Price\"] = df[\"Not_Full_Market_Price\"].apply(invert_yes_no)\n",
    "df.rename(columns={\"Not_Full_Market_Price\": \"Full_Market_Price\"}, inplace=True)"
   ]
  },
  {
   "cell_type": "code",
   "execution_count": 21,
   "metadata": {},
   "outputs": [
    {
     "data": {
      "text/html": [
       "<div>\n",
       "<style scoped>\n",
       "    .dataframe tbody tr th:only-of-type {\n",
       "        vertical-align: middle;\n",
       "    }\n",
       "\n",
       "    .dataframe tbody tr th {\n",
       "        vertical-align: top;\n",
       "    }\n",
       "\n",
       "    .dataframe thead th {\n",
       "        text-align: right;\n",
       "    }\n",
       "</style>\n",
       "<table border=\"1\" class=\"dataframe\">\n",
       "  <thead>\n",
       "    <tr style=\"text-align: right;\">\n",
       "      <th></th>\n",
       "      <th>Date_of_Sale</th>\n",
       "      <th>Address</th>\n",
       "      <th>Postal_Code</th>\n",
       "      <th>County</th>\n",
       "      <th>Price_(€)</th>\n",
       "      <th>Full_Market_Price</th>\n",
       "      <th>VAT_Exclusive</th>\n",
       "      <th>Description_of_Property</th>\n",
       "      <th>Property_Size_Description</th>\n",
       "    </tr>\n",
       "  </thead>\n",
       "  <tbody>\n",
       "    <tr>\n",
       "      <th>0</th>\n",
       "      <td>2022-01-15</td>\n",
       "      <td>24 forest walk, swords, dublin</td>\n",
       "      <td>NaN</td>\n",
       "      <td>Dublin</td>\n",
       "      <td>154000.00</td>\n",
       "      <td>yes</td>\n",
       "      <td>No</td>\n",
       "      <td>Second-Hand Dwelling house /Apartment</td>\n",
       "      <td>NaN</td>\n",
       "    </tr>\n",
       "    <tr>\n",
       "      <th>1</th>\n",
       "      <td>2022-01-15</td>\n",
       "      <td>5 cragaun, father russell road, dooradoyle</td>\n",
       "      <td>NaN</td>\n",
       "      <td>Limerick</td>\n",
       "      <td>370000.00</td>\n",
       "      <td>yes</td>\n",
       "      <td>No</td>\n",
       "      <td>Second-Hand Dwelling house /Apartment</td>\n",
       "      <td>NaN</td>\n",
       "    </tr>\n",
       "    <tr>\n",
       "      <th>2</th>\n",
       "      <td>2022-01-16</td>\n",
       "      <td>19  the lawn, mullen park, maynooth</td>\n",
       "      <td>NaN</td>\n",
       "      <td>Kildare</td>\n",
       "      <td>409691.63</td>\n",
       "      <td>yes</td>\n",
       "      <td>Yes</td>\n",
       "      <td>New Dwelling house /Apartment</td>\n",
       "      <td>NaN</td>\n",
       "    </tr>\n",
       "    <tr>\n",
       "      <th>3</th>\n",
       "      <td>2022-01-16</td>\n",
       "      <td>montevideo, hospital hill, bunclody</td>\n",
       "      <td>NaN</td>\n",
       "      <td>Wexford</td>\n",
       "      <td>100000.00</td>\n",
       "      <td>yes</td>\n",
       "      <td>No</td>\n",
       "      <td>Second-Hand Dwelling house /Apartment</td>\n",
       "      <td>NaN</td>\n",
       "    </tr>\n",
       "    <tr>\n",
       "      <th>4</th>\n",
       "      <td>2022-01-17</td>\n",
       "      <td>1 cill beg manor, stradbally, laois</td>\n",
       "      <td>NaN</td>\n",
       "      <td>Laois</td>\n",
       "      <td>225000.00</td>\n",
       "      <td>yes</td>\n",
       "      <td>No</td>\n",
       "      <td>Second-Hand Dwelling house /Apartment</td>\n",
       "      <td>NaN</td>\n",
       "    </tr>\n",
       "  </tbody>\n",
       "</table>\n",
       "</div>"
      ],
      "text/plain": [
       "  Date_of_Sale                                     Address Postal_Code  \\\n",
       "0   2022-01-15              24 forest walk, swords, dublin         NaN   \n",
       "1   2022-01-15  5 cragaun, father russell road, dooradoyle         NaN   \n",
       "2   2022-01-16         19  the lawn, mullen park, maynooth         NaN   \n",
       "3   2022-01-16         montevideo, hospital hill, bunclody         NaN   \n",
       "4   2022-01-17         1 cill beg manor, stradbally, laois         NaN   \n",
       "\n",
       "     County  Price_(€) Full_Market_Price VAT_Exclusive  \\\n",
       "0    Dublin  154000.00               yes            No   \n",
       "1  Limerick  370000.00               yes            No   \n",
       "2   Kildare  409691.63               yes           Yes   \n",
       "3   Wexford  100000.00               yes            No   \n",
       "4     Laois  225000.00               yes            No   \n",
       "\n",
       "                 Description_of_Property  Property_Size_Description  \n",
       "0  Second-Hand Dwelling house /Apartment                        NaN  \n",
       "1  Second-Hand Dwelling house /Apartment                        NaN  \n",
       "2          New Dwelling house /Apartment                        NaN  \n",
       "3  Second-Hand Dwelling house /Apartment                        NaN  \n",
       "4  Second-Hand Dwelling house /Apartment                        NaN  "
      ]
     },
     "execution_count": 21,
     "metadata": {},
     "output_type": "execute_result"
    }
   ],
   "source": [
    "df.head()"
   ]
  },
  {
   "cell_type": "code",
   "execution_count": 22,
   "metadata": {},
   "outputs": [
    {
     "data": {
      "text/plain": [
       "yes    6953\n",
       "no      229\n",
       "Name: Full_Market_Price, dtype: int64"
      ]
     },
     "execution_count": 22,
     "metadata": {},
     "output_type": "execute_result"
    }
   ],
   "source": [
    "df[\"Full_Market_Price\"].value_counts()"
   ]
  },
  {
   "cell_type": "markdown",
   "metadata": {},
   "source": [
    "### Section 2.2: Drop rows where full market price = No"
   ]
  },
  {
   "cell_type": "code",
   "execution_count": 23,
   "metadata": {},
   "outputs": [],
   "source": [
    "# Drop all rows with no for full market price, because it gives an inaccurate representation of price\n",
    "df.drop(df[df[\"Full_Market_Price\"] == \"no\"].index, inplace=True)\n",
    "df.reset_index(drop=True, inplace=True)"
   ]
  },
  {
   "cell_type": "code",
   "execution_count": 24,
   "metadata": {},
   "outputs": [
    {
     "data": {
      "text/plain": [
       "(6953, 9)"
      ]
     },
     "execution_count": 24,
     "metadata": {},
     "output_type": "execute_result"
    }
   ],
   "source": [
    "df.shape"
   ]
  },
  {
   "cell_type": "code",
   "execution_count": 25,
   "metadata": {},
   "outputs": [],
   "source": [
    "# Drop the full market price feature, because now it's all constant values\n",
    "df.drop(\"Full_Market_Price\", axis=1, inplace=True)"
   ]
  },
  {
   "cell_type": "code",
   "execution_count": 26,
   "metadata": {},
   "outputs": [
    {
     "data": {
      "text/html": [
       "<div>\n",
       "<style scoped>\n",
       "    .dataframe tbody tr th:only-of-type {\n",
       "        vertical-align: middle;\n",
       "    }\n",
       "\n",
       "    .dataframe tbody tr th {\n",
       "        vertical-align: top;\n",
       "    }\n",
       "\n",
       "    .dataframe thead th {\n",
       "        text-align: right;\n",
       "    }\n",
       "</style>\n",
       "<table border=\"1\" class=\"dataframe\">\n",
       "  <thead>\n",
       "    <tr style=\"text-align: right;\">\n",
       "      <th></th>\n",
       "      <th>Date_of_Sale</th>\n",
       "      <th>Address</th>\n",
       "      <th>Postal_Code</th>\n",
       "      <th>County</th>\n",
       "      <th>Price_(€)</th>\n",
       "      <th>VAT_Exclusive</th>\n",
       "      <th>Description_of_Property</th>\n",
       "      <th>Property_Size_Description</th>\n",
       "    </tr>\n",
       "  </thead>\n",
       "  <tbody>\n",
       "    <tr>\n",
       "      <th>0</th>\n",
       "      <td>2022-01-15</td>\n",
       "      <td>24 forest walk, swords, dublin</td>\n",
       "      <td>NaN</td>\n",
       "      <td>Dublin</td>\n",
       "      <td>154000.00</td>\n",
       "      <td>No</td>\n",
       "      <td>Second-Hand Dwelling house /Apartment</td>\n",
       "      <td>NaN</td>\n",
       "    </tr>\n",
       "    <tr>\n",
       "      <th>1</th>\n",
       "      <td>2022-01-15</td>\n",
       "      <td>5 cragaun, father russell road, dooradoyle</td>\n",
       "      <td>NaN</td>\n",
       "      <td>Limerick</td>\n",
       "      <td>370000.00</td>\n",
       "      <td>No</td>\n",
       "      <td>Second-Hand Dwelling house /Apartment</td>\n",
       "      <td>NaN</td>\n",
       "    </tr>\n",
       "    <tr>\n",
       "      <th>2</th>\n",
       "      <td>2022-01-16</td>\n",
       "      <td>19  the lawn, mullen park, maynooth</td>\n",
       "      <td>NaN</td>\n",
       "      <td>Kildare</td>\n",
       "      <td>409691.63</td>\n",
       "      <td>Yes</td>\n",
       "      <td>New Dwelling house /Apartment</td>\n",
       "      <td>NaN</td>\n",
       "    </tr>\n",
       "    <tr>\n",
       "      <th>3</th>\n",
       "      <td>2022-01-16</td>\n",
       "      <td>montevideo, hospital hill, bunclody</td>\n",
       "      <td>NaN</td>\n",
       "      <td>Wexford</td>\n",
       "      <td>100000.00</td>\n",
       "      <td>No</td>\n",
       "      <td>Second-Hand Dwelling house /Apartment</td>\n",
       "      <td>NaN</td>\n",
       "    </tr>\n",
       "    <tr>\n",
       "      <th>4</th>\n",
       "      <td>2022-01-17</td>\n",
       "      <td>1 cill beg manor, stradbally, laois</td>\n",
       "      <td>NaN</td>\n",
       "      <td>Laois</td>\n",
       "      <td>225000.00</td>\n",
       "      <td>No</td>\n",
       "      <td>Second-Hand Dwelling house /Apartment</td>\n",
       "      <td>NaN</td>\n",
       "    </tr>\n",
       "  </tbody>\n",
       "</table>\n",
       "</div>"
      ],
      "text/plain": [
       "  Date_of_Sale                                     Address Postal_Code  \\\n",
       "0   2022-01-15              24 forest walk, swords, dublin         NaN   \n",
       "1   2022-01-15  5 cragaun, father russell road, dooradoyle         NaN   \n",
       "2   2022-01-16         19  the lawn, mullen park, maynooth         NaN   \n",
       "3   2022-01-16         montevideo, hospital hill, bunclody         NaN   \n",
       "4   2022-01-17         1 cill beg manor, stradbally, laois         NaN   \n",
       "\n",
       "     County  Price_(€) VAT_Exclusive                Description_of_Property  \\\n",
       "0    Dublin  154000.00            No  Second-Hand Dwelling house /Apartment   \n",
       "1  Limerick  370000.00            No  Second-Hand Dwelling house /Apartment   \n",
       "2   Kildare  409691.63           Yes          New Dwelling house /Apartment   \n",
       "3   Wexford  100000.00            No  Second-Hand Dwelling house /Apartment   \n",
       "4     Laois  225000.00            No  Second-Hand Dwelling house /Apartment   \n",
       "\n",
       "   Property_Size_Description  \n",
       "0                        NaN  \n",
       "1                        NaN  \n",
       "2                        NaN  \n",
       "3                        NaN  \n",
       "4                        NaN  "
      ]
     },
     "execution_count": 26,
     "metadata": {},
     "output_type": "execute_result"
    }
   ],
   "source": [
    "df.head()"
   ]
  },
  {
   "cell_type": "markdown",
   "metadata": {},
   "source": [
    "## Section 3: Postal Code"
   ]
  },
  {
   "cell_type": "markdown",
   "metadata": {},
   "source": [
    "### Section 3.1: Set the postal code to NAN when the county is outside Dublin"
   ]
  },
  {
   "cell_type": "code",
   "execution_count": 27,
   "metadata": {},
   "outputs": [],
   "source": [
    "def postal_to_nan(postal_code, county):\n",
    "    \"\"\"Function that sets the postal code value to NAN whenever the property is outside of Dublin\"\"\"\n",
    "    if county != \"Dublin\":\n",
    "        return np.nan\n",
    "\n",
    "    else:\n",
    "        return postal_code"
   ]
  },
  {
   "cell_type": "code",
   "execution_count": 28,
   "metadata": {},
   "outputs": [
    {
     "name": "stdout",
     "output_type": "stream",
     "text": [
      "Number of properties outside of Dublin with Dublin postal codes: 0\n"
     ]
    }
   ],
   "source": [
    "# Alter the postal code feature so that it no longer contains postal codes when the property is outside of Dublin\n",
    "df[\"Postal_Code\"] = df.apply(lambda x: postal_to_nan(x[\"Postal_Code\"], x[\"County\"]), axis=1)\n",
    "\n",
    "# Use our logical integrity check from section 1 to identify Dublin postal codes in non-Dublin properties\n",
    "non_dublin_postal_codes = df[(df[\"County\"] != \"Dublin\")]\n",
    "non_dublin_postal_codes = non_dublin_postal_codes[~non_dublin_postal_codes[\"Postal_Code\"].isna()]\n",
    "print(f\"Number of properties outside of Dublin with Dublin postal codes: {len(non_dublin_postal_codes)}\")"
   ]
  },
  {
   "cell_type": "markdown",
   "metadata": {},
   "source": [
    "### Section 3.2: Fill missing values in postal code column"
   ]
  },
  {
   "cell_type": "code",
   "execution_count": 29,
   "metadata": {},
   "outputs": [],
   "source": [
    "df[\"Postal_Code\"].fillna(\"unknown\", inplace=True)"
   ]
  },
  {
   "cell_type": "markdown",
   "metadata": {},
   "source": [
    "## Section 4: Price"
   ]
  },
  {
   "cell_type": "markdown",
   "metadata": {},
   "source": [
    "### Section 4.1: Add VAT to VAT exclusive rows"
   ]
  },
  {
   "cell_type": "code",
   "execution_count": 30,
   "metadata": {},
   "outputs": [],
   "source": [
    "def add_vat(vat_exclusive, price):\n",
    "    \"\"\"Adds VAT to VAT exclusive rows\"\"\"\n",
    "    if vat_exclusive == \"Yes\":\n",
    "        return round(price * 1.135)\n",
    "\n",
    "    return round(price)"
   ]
  },
  {
   "cell_type": "code",
   "execution_count": 31,
   "metadata": {},
   "outputs": [
    {
     "data": {
      "text/html": [
       "<div>\n",
       "<style scoped>\n",
       "    .dataframe tbody tr th:only-of-type {\n",
       "        vertical-align: middle;\n",
       "    }\n",
       "\n",
       "    .dataframe tbody tr th {\n",
       "        vertical-align: top;\n",
       "    }\n",
       "\n",
       "    .dataframe thead th {\n",
       "        text-align: right;\n",
       "    }\n",
       "</style>\n",
       "<table border=\"1\" class=\"dataframe\">\n",
       "  <thead>\n",
       "    <tr style=\"text-align: right;\">\n",
       "      <th></th>\n",
       "      <th>Date_of_Sale</th>\n",
       "      <th>Address</th>\n",
       "      <th>Postal_Code</th>\n",
       "      <th>County</th>\n",
       "      <th>Price_(€)</th>\n",
       "      <th>VAT_Exclusive</th>\n",
       "      <th>Description_of_Property</th>\n",
       "      <th>Property_Size_Description</th>\n",
       "    </tr>\n",
       "  </thead>\n",
       "  <tbody>\n",
       "    <tr>\n",
       "      <th>2</th>\n",
       "      <td>2022-01-16</td>\n",
       "      <td>19  the lawn, mullen park, maynooth</td>\n",
       "      <td>unknown</td>\n",
       "      <td>Kildare</td>\n",
       "      <td>409691.63</td>\n",
       "      <td>Yes</td>\n",
       "      <td>New Dwelling house /Apartment</td>\n",
       "      <td>NaN</td>\n",
       "    </tr>\n",
       "    <tr>\n",
       "      <th>8</th>\n",
       "      <td>2022-01-17</td>\n",
       "      <td>10 effernock grove, trim</td>\n",
       "      <td>unknown</td>\n",
       "      <td>Meath</td>\n",
       "      <td>325992.00</td>\n",
       "      <td>Yes</td>\n",
       "      <td>New Dwelling house /Apartment</td>\n",
       "      <td>NaN</td>\n",
       "    </tr>\n",
       "    <tr>\n",
       "      <th>33</th>\n",
       "      <td>2022-01-17</td>\n",
       "      <td>162 drakes point, crosshaven</td>\n",
       "      <td>unknown</td>\n",
       "      <td>Cork</td>\n",
       "      <td>226872.00</td>\n",
       "      <td>Yes</td>\n",
       "      <td>New Dwelling house /Apartment</td>\n",
       "      <td>NaN</td>\n",
       "    </tr>\n",
       "    <tr>\n",
       "      <th>39</th>\n",
       "      <td>2022-01-17</td>\n",
       "      <td>18 butler town, ballinglanna, glanmire</td>\n",
       "      <td>unknown</td>\n",
       "      <td>Cork</td>\n",
       "      <td>265000.00</td>\n",
       "      <td>Yes</td>\n",
       "      <td>New Dwelling house /Apartment</td>\n",
       "      <td>NaN</td>\n",
       "    </tr>\n",
       "    <tr>\n",
       "      <th>40</th>\n",
       "      <td>2022-01-17</td>\n",
       "      <td>181 dundoogan, haynestown, dundalk</td>\n",
       "      <td>unknown</td>\n",
       "      <td>Louth</td>\n",
       "      <td>246652.00</td>\n",
       "      <td>Yes</td>\n",
       "      <td>New Dwelling house /Apartment</td>\n",
       "      <td>NaN</td>\n",
       "    </tr>\n",
       "  </tbody>\n",
       "</table>\n",
       "</div>"
      ],
      "text/plain": [
       "   Date_of_Sale                                 Address Postal_Code   County  \\\n",
       "2    2022-01-16     19  the lawn, mullen park, maynooth     unknown  Kildare   \n",
       "8    2022-01-17                10 effernock grove, trim     unknown    Meath   \n",
       "33   2022-01-17            162 drakes point, crosshaven     unknown     Cork   \n",
       "39   2022-01-17  18 butler town, ballinglanna, glanmire     unknown     Cork   \n",
       "40   2022-01-17      181 dundoogan, haynestown, dundalk     unknown    Louth   \n",
       "\n",
       "    Price_(€) VAT_Exclusive        Description_of_Property  \\\n",
       "2   409691.63           Yes  New Dwelling house /Apartment   \n",
       "8   325992.00           Yes  New Dwelling house /Apartment   \n",
       "33  226872.00           Yes  New Dwelling house /Apartment   \n",
       "39  265000.00           Yes  New Dwelling house /Apartment   \n",
       "40  246652.00           Yes  New Dwelling house /Apartment   \n",
       "\n",
       "    Property_Size_Description  \n",
       "2                         NaN  \n",
       "8                         NaN  \n",
       "33                        NaN  \n",
       "39                        NaN  \n",
       "40                        NaN  "
      ]
     },
     "execution_count": 31,
     "metadata": {},
     "output_type": "execute_result"
    }
   ],
   "source": [
    "df[df[\"VAT_Exclusive\"] == \"Yes\"].head()"
   ]
  },
  {
   "cell_type": "code",
   "execution_count": 32,
   "metadata": {},
   "outputs": [],
   "source": [
    "df[\"Price_(€)\"] = df.apply(lambda x: add_vat(x[\"VAT_Exclusive\"], x[\"Price_(€)\"]), axis=1)"
   ]
  },
  {
   "cell_type": "code",
   "execution_count": 33,
   "metadata": {},
   "outputs": [
    {
     "data": {
      "text/html": [
       "<div>\n",
       "<style scoped>\n",
       "    .dataframe tbody tr th:only-of-type {\n",
       "        vertical-align: middle;\n",
       "    }\n",
       "\n",
       "    .dataframe tbody tr th {\n",
       "        vertical-align: top;\n",
       "    }\n",
       "\n",
       "    .dataframe thead th {\n",
       "        text-align: right;\n",
       "    }\n",
       "</style>\n",
       "<table border=\"1\" class=\"dataframe\">\n",
       "  <thead>\n",
       "    <tr style=\"text-align: right;\">\n",
       "      <th></th>\n",
       "      <th>Date_of_Sale</th>\n",
       "      <th>Address</th>\n",
       "      <th>Postal_Code</th>\n",
       "      <th>County</th>\n",
       "      <th>Price_(€)</th>\n",
       "      <th>VAT_Exclusive</th>\n",
       "      <th>Description_of_Property</th>\n",
       "      <th>Property_Size_Description</th>\n",
       "    </tr>\n",
       "  </thead>\n",
       "  <tbody>\n",
       "    <tr>\n",
       "      <th>2</th>\n",
       "      <td>2022-01-16</td>\n",
       "      <td>19  the lawn, mullen park, maynooth</td>\n",
       "      <td>unknown</td>\n",
       "      <td>Kildare</td>\n",
       "      <td>465000</td>\n",
       "      <td>Yes</td>\n",
       "      <td>New Dwelling house /Apartment</td>\n",
       "      <td>NaN</td>\n",
       "    </tr>\n",
       "    <tr>\n",
       "      <th>8</th>\n",
       "      <td>2022-01-17</td>\n",
       "      <td>10 effernock grove, trim</td>\n",
       "      <td>unknown</td>\n",
       "      <td>Meath</td>\n",
       "      <td>370001</td>\n",
       "      <td>Yes</td>\n",
       "      <td>New Dwelling house /Apartment</td>\n",
       "      <td>NaN</td>\n",
       "    </tr>\n",
       "    <tr>\n",
       "      <th>33</th>\n",
       "      <td>2022-01-17</td>\n",
       "      <td>162 drakes point, crosshaven</td>\n",
       "      <td>unknown</td>\n",
       "      <td>Cork</td>\n",
       "      <td>257500</td>\n",
       "      <td>Yes</td>\n",
       "      <td>New Dwelling house /Apartment</td>\n",
       "      <td>NaN</td>\n",
       "    </tr>\n",
       "    <tr>\n",
       "      <th>39</th>\n",
       "      <td>2022-01-17</td>\n",
       "      <td>18 butler town, ballinglanna, glanmire</td>\n",
       "      <td>unknown</td>\n",
       "      <td>Cork</td>\n",
       "      <td>300775</td>\n",
       "      <td>Yes</td>\n",
       "      <td>New Dwelling house /Apartment</td>\n",
       "      <td>NaN</td>\n",
       "    </tr>\n",
       "    <tr>\n",
       "      <th>40</th>\n",
       "      <td>2022-01-17</td>\n",
       "      <td>181 dundoogan, haynestown, dundalk</td>\n",
       "      <td>unknown</td>\n",
       "      <td>Louth</td>\n",
       "      <td>279950</td>\n",
       "      <td>Yes</td>\n",
       "      <td>New Dwelling house /Apartment</td>\n",
       "      <td>NaN</td>\n",
       "    </tr>\n",
       "  </tbody>\n",
       "</table>\n",
       "</div>"
      ],
      "text/plain": [
       "   Date_of_Sale                                 Address Postal_Code   County  \\\n",
       "2    2022-01-16     19  the lawn, mullen park, maynooth     unknown  Kildare   \n",
       "8    2022-01-17                10 effernock grove, trim     unknown    Meath   \n",
       "33   2022-01-17            162 drakes point, crosshaven     unknown     Cork   \n",
       "39   2022-01-17  18 butler town, ballinglanna, glanmire     unknown     Cork   \n",
       "40   2022-01-17      181 dundoogan, haynestown, dundalk     unknown    Louth   \n",
       "\n",
       "    Price_(€) VAT_Exclusive        Description_of_Property  \\\n",
       "2      465000           Yes  New Dwelling house /Apartment   \n",
       "8      370001           Yes  New Dwelling house /Apartment   \n",
       "33     257500           Yes  New Dwelling house /Apartment   \n",
       "39     300775           Yes  New Dwelling house /Apartment   \n",
       "40     279950           Yes  New Dwelling house /Apartment   \n",
       "\n",
       "    Property_Size_Description  \n",
       "2                         NaN  \n",
       "8                         NaN  \n",
       "33                        NaN  \n",
       "39                        NaN  \n",
       "40                        NaN  "
      ]
     },
     "execution_count": 33,
     "metadata": {},
     "output_type": "execute_result"
    }
   ],
   "source": [
    "df[df[\"VAT_Exclusive\"] == \"Yes\"].head()"
   ]
  },
  {
   "cell_type": "markdown",
   "metadata": {},
   "source": [
    "### Section 4.2: Clamp outliers"
   ]
  },
  {
   "cell_type": "code",
   "execution_count": 34,
   "metadata": {},
   "outputs": [
    {
     "name": "stdout",
     "output_type": "stream",
     "text": [
      "9333\n",
      "30566193\n"
     ]
    }
   ],
   "source": [
    "print(np.min(df[\"Price_(€)\"]))\n",
    "print(np.max(df[\"Price_(€)\"]))"
   ]
  },
  {
   "cell_type": "code",
   "execution_count": 35,
   "metadata": {},
   "outputs": [],
   "source": [
    "# Code reference: lab 4\n",
    "a = df[\"Price_(€)\"]\n",
    "\n",
    "upper = np.percentile(a, 99)\n",
    "\n",
    "lower = np.percentile(a, 1)"
   ]
  },
  {
   "cell_type": "code",
   "execution_count": 36,
   "metadata": {},
   "outputs": [],
   "source": [
    "#Clamp the values in a to lower and upper bounds\n",
    "a_clampped = np.zeros(a.size)\n",
    "\n",
    "for i in range(a.size):\n",
    "    if a[i] < lower:\n",
    "        a_clampped[i] = round(lower)\n",
    "    elif a[i] > upper:\n",
    "            a_clampped[i] = round(upper)\n",
    "    else: \n",
    "        a_clampped[i] = round(a[i])    \n",
    "\n",
    "df[\"Price_(€)\"] = a_clampped"
   ]
  },
  {
   "cell_type": "code",
   "execution_count": 37,
   "metadata": {},
   "outputs": [
    {
     "name": "stdout",
     "output_type": "stream",
     "text": [
      "35000.0\n",
      "1409000.0\n"
     ]
    }
   ],
   "source": [
    "print(np.min(df[\"Price_(€)\"]))\n",
    "print(np.max(df[\"Price_(€)\"]))"
   ]
  },
  {
   "cell_type": "code",
   "execution_count": 38,
   "metadata": {},
   "outputs": [
    {
     "data": {
      "text/plain": [
       "(6953, 8)"
      ]
     },
     "execution_count": 38,
     "metadata": {},
     "output_type": "execute_result"
    }
   ],
   "source": [
    "df.shape"
   ]
  },
  {
   "cell_type": "markdown",
   "metadata": {},
   "source": [
    "### Section 4.3: Rename Price to be reflective of VAT"
   ]
  },
  {
   "cell_type": "code",
   "execution_count": 39,
   "metadata": {},
   "outputs": [
    {
     "data": {
      "text/html": [
       "<div>\n",
       "<style scoped>\n",
       "    .dataframe tbody tr th:only-of-type {\n",
       "        vertical-align: middle;\n",
       "    }\n",
       "\n",
       "    .dataframe tbody tr th {\n",
       "        vertical-align: top;\n",
       "    }\n",
       "\n",
       "    .dataframe thead th {\n",
       "        text-align: right;\n",
       "    }\n",
       "</style>\n",
       "<table border=\"1\" class=\"dataframe\">\n",
       "  <thead>\n",
       "    <tr style=\"text-align: right;\">\n",
       "      <th></th>\n",
       "      <th>Date_of_Sale</th>\n",
       "      <th>Address</th>\n",
       "      <th>Postal_Code</th>\n",
       "      <th>County</th>\n",
       "      <th>Price_€_VAT_incl</th>\n",
       "      <th>VAT_Exclusive</th>\n",
       "      <th>Description_of_Property</th>\n",
       "      <th>Property_Size_Description</th>\n",
       "    </tr>\n",
       "  </thead>\n",
       "  <tbody>\n",
       "    <tr>\n",
       "      <th>0</th>\n",
       "      <td>2022-01-15</td>\n",
       "      <td>24 forest walk, swords, dublin</td>\n",
       "      <td>unknown</td>\n",
       "      <td>Dublin</td>\n",
       "      <td>154000.0</td>\n",
       "      <td>No</td>\n",
       "      <td>Second-Hand Dwelling house /Apartment</td>\n",
       "      <td>NaN</td>\n",
       "    </tr>\n",
       "    <tr>\n",
       "      <th>1</th>\n",
       "      <td>2022-01-15</td>\n",
       "      <td>5 cragaun, father russell road, dooradoyle</td>\n",
       "      <td>unknown</td>\n",
       "      <td>Limerick</td>\n",
       "      <td>370000.0</td>\n",
       "      <td>No</td>\n",
       "      <td>Second-Hand Dwelling house /Apartment</td>\n",
       "      <td>NaN</td>\n",
       "    </tr>\n",
       "    <tr>\n",
       "      <th>2</th>\n",
       "      <td>2022-01-16</td>\n",
       "      <td>19  the lawn, mullen park, maynooth</td>\n",
       "      <td>unknown</td>\n",
       "      <td>Kildare</td>\n",
       "      <td>465000.0</td>\n",
       "      <td>Yes</td>\n",
       "      <td>New Dwelling house /Apartment</td>\n",
       "      <td>NaN</td>\n",
       "    </tr>\n",
       "    <tr>\n",
       "      <th>3</th>\n",
       "      <td>2022-01-16</td>\n",
       "      <td>montevideo, hospital hill, bunclody</td>\n",
       "      <td>unknown</td>\n",
       "      <td>Wexford</td>\n",
       "      <td>100000.0</td>\n",
       "      <td>No</td>\n",
       "      <td>Second-Hand Dwelling house /Apartment</td>\n",
       "      <td>NaN</td>\n",
       "    </tr>\n",
       "    <tr>\n",
       "      <th>4</th>\n",
       "      <td>2022-01-17</td>\n",
       "      <td>1 cill beg manor, stradbally, laois</td>\n",
       "      <td>unknown</td>\n",
       "      <td>Laois</td>\n",
       "      <td>225000.0</td>\n",
       "      <td>No</td>\n",
       "      <td>Second-Hand Dwelling house /Apartment</td>\n",
       "      <td>NaN</td>\n",
       "    </tr>\n",
       "  </tbody>\n",
       "</table>\n",
       "</div>"
      ],
      "text/plain": [
       "  Date_of_Sale                                     Address Postal_Code  \\\n",
       "0   2022-01-15              24 forest walk, swords, dublin     unknown   \n",
       "1   2022-01-15  5 cragaun, father russell road, dooradoyle     unknown   \n",
       "2   2022-01-16         19  the lawn, mullen park, maynooth     unknown   \n",
       "3   2022-01-16         montevideo, hospital hill, bunclody     unknown   \n",
       "4   2022-01-17         1 cill beg manor, stradbally, laois     unknown   \n",
       "\n",
       "     County  Price_€_VAT_incl VAT_Exclusive  \\\n",
       "0    Dublin          154000.0            No   \n",
       "1  Limerick          370000.0            No   \n",
       "2   Kildare          465000.0           Yes   \n",
       "3   Wexford          100000.0            No   \n",
       "4     Laois          225000.0            No   \n",
       "\n",
       "                 Description_of_Property  Property_Size_Description  \n",
       "0  Second-Hand Dwelling house /Apartment                        NaN  \n",
       "1  Second-Hand Dwelling house /Apartment                        NaN  \n",
       "2          New Dwelling house /Apartment                        NaN  \n",
       "3  Second-Hand Dwelling house /Apartment                        NaN  \n",
       "4  Second-Hand Dwelling house /Apartment                        NaN  "
      ]
     },
     "execution_count": 39,
     "metadata": {},
     "output_type": "execute_result"
    }
   ],
   "source": [
    "df.rename(columns={\"Price_(€)\": \"Price_€_VAT_incl\"}, inplace=True)\n",
    "df.head()"
   ]
  },
  {
   "cell_type": "code",
   "execution_count": 40,
   "metadata": {},
   "outputs": [],
   "source": [
    "df.drop(\"VAT_Exclusive\", axis=1, inplace=True)"
   ]
  },
  {
   "cell_type": "code",
   "execution_count": 41,
   "metadata": {},
   "outputs": [
    {
     "data": {
      "text/html": [
       "<div>\n",
       "<style scoped>\n",
       "    .dataframe tbody tr th:only-of-type {\n",
       "        vertical-align: middle;\n",
       "    }\n",
       "\n",
       "    .dataframe tbody tr th {\n",
       "        vertical-align: top;\n",
       "    }\n",
       "\n",
       "    .dataframe thead th {\n",
       "        text-align: right;\n",
       "    }\n",
       "</style>\n",
       "<table border=\"1\" class=\"dataframe\">\n",
       "  <thead>\n",
       "    <tr style=\"text-align: right;\">\n",
       "      <th></th>\n",
       "      <th>Date_of_Sale</th>\n",
       "      <th>Address</th>\n",
       "      <th>Postal_Code</th>\n",
       "      <th>County</th>\n",
       "      <th>Price_€_VAT_incl</th>\n",
       "      <th>Description_of_Property</th>\n",
       "      <th>Property_Size_Description</th>\n",
       "    </tr>\n",
       "  </thead>\n",
       "  <tbody>\n",
       "    <tr>\n",
       "      <th>0</th>\n",
       "      <td>2022-01-15</td>\n",
       "      <td>24 forest walk, swords, dublin</td>\n",
       "      <td>unknown</td>\n",
       "      <td>Dublin</td>\n",
       "      <td>154000.0</td>\n",
       "      <td>Second-Hand Dwelling house /Apartment</td>\n",
       "      <td>NaN</td>\n",
       "    </tr>\n",
       "    <tr>\n",
       "      <th>1</th>\n",
       "      <td>2022-01-15</td>\n",
       "      <td>5 cragaun, father russell road, dooradoyle</td>\n",
       "      <td>unknown</td>\n",
       "      <td>Limerick</td>\n",
       "      <td>370000.0</td>\n",
       "      <td>Second-Hand Dwelling house /Apartment</td>\n",
       "      <td>NaN</td>\n",
       "    </tr>\n",
       "    <tr>\n",
       "      <th>2</th>\n",
       "      <td>2022-01-16</td>\n",
       "      <td>19  the lawn, mullen park, maynooth</td>\n",
       "      <td>unknown</td>\n",
       "      <td>Kildare</td>\n",
       "      <td>465000.0</td>\n",
       "      <td>New Dwelling house /Apartment</td>\n",
       "      <td>NaN</td>\n",
       "    </tr>\n",
       "    <tr>\n",
       "      <th>3</th>\n",
       "      <td>2022-01-16</td>\n",
       "      <td>montevideo, hospital hill, bunclody</td>\n",
       "      <td>unknown</td>\n",
       "      <td>Wexford</td>\n",
       "      <td>100000.0</td>\n",
       "      <td>Second-Hand Dwelling house /Apartment</td>\n",
       "      <td>NaN</td>\n",
       "    </tr>\n",
       "    <tr>\n",
       "      <th>4</th>\n",
       "      <td>2022-01-17</td>\n",
       "      <td>1 cill beg manor, stradbally, laois</td>\n",
       "      <td>unknown</td>\n",
       "      <td>Laois</td>\n",
       "      <td>225000.0</td>\n",
       "      <td>Second-Hand Dwelling house /Apartment</td>\n",
       "      <td>NaN</td>\n",
       "    </tr>\n",
       "  </tbody>\n",
       "</table>\n",
       "</div>"
      ],
      "text/plain": [
       "  Date_of_Sale                                     Address Postal_Code  \\\n",
       "0   2022-01-15              24 forest walk, swords, dublin     unknown   \n",
       "1   2022-01-15  5 cragaun, father russell road, dooradoyle     unknown   \n",
       "2   2022-01-16         19  the lawn, mullen park, maynooth     unknown   \n",
       "3   2022-01-16         montevideo, hospital hill, bunclody     unknown   \n",
       "4   2022-01-17         1 cill beg manor, stradbally, laois     unknown   \n",
       "\n",
       "     County  Price_€_VAT_incl                Description_of_Property  \\\n",
       "0    Dublin          154000.0  Second-Hand Dwelling house /Apartment   \n",
       "1  Limerick          370000.0  Second-Hand Dwelling house /Apartment   \n",
       "2   Kildare          465000.0          New Dwelling house /Apartment   \n",
       "3   Wexford          100000.0  Second-Hand Dwelling house /Apartment   \n",
       "4     Laois          225000.0  Second-Hand Dwelling house /Apartment   \n",
       "\n",
       "   Property_Size_Description  \n",
       "0                        NaN  \n",
       "1                        NaN  \n",
       "2                        NaN  \n",
       "3                        NaN  \n",
       "4                        NaN  "
      ]
     },
     "execution_count": 41,
     "metadata": {},
     "output_type": "execute_result"
    }
   ],
   "source": [
    "df.head()"
   ]
  },
  {
   "cell_type": "markdown",
   "metadata": {},
   "source": [
    "## Section 5: Property Size Description"
   ]
  },
  {
   "cell_type": "markdown",
   "metadata": {},
   "source": [
    "### Section 5.1: Replace NAN values with unknown"
   ]
  },
  {
   "cell_type": "code",
   "execution_count": 42,
   "metadata": {},
   "outputs": [
    {
     "data": {
      "text/plain": [
       "Date_of_Sale                 datetime64[ns]\n",
       "Address                              object\n",
       "Postal_Code                          object\n",
       "County                             category\n",
       "Price_€_VAT_incl                    float64\n",
       "Description_of_Property            category\n",
       "Property_Size_Description            object\n",
       "dtype: object"
      ]
     },
     "execution_count": 42,
     "metadata": {},
     "output_type": "execute_result"
    }
   ],
   "source": [
    "df[\"Property_Size_Description\"] = df[\"Property_Size_Description\"].astype(\"object\")\n",
    "df[\"Property_Size_Description\"].fillna(\"unknown\", inplace=True)\n",
    "df.dtypes"
   ]
  },
  {
   "cell_type": "code",
   "execution_count": 43,
   "metadata": {},
   "outputs": [
    {
     "data": {
      "text/html": [
       "<div>\n",
       "<style scoped>\n",
       "    .dataframe tbody tr th:only-of-type {\n",
       "        vertical-align: middle;\n",
       "    }\n",
       "\n",
       "    .dataframe tbody tr th {\n",
       "        vertical-align: top;\n",
       "    }\n",
       "\n",
       "    .dataframe thead th {\n",
       "        text-align: right;\n",
       "    }\n",
       "</style>\n",
       "<table border=\"1\" class=\"dataframe\">\n",
       "  <thead>\n",
       "    <tr style=\"text-align: right;\">\n",
       "      <th></th>\n",
       "      <th>Date_of_Sale</th>\n",
       "      <th>Address</th>\n",
       "      <th>Postal_Code</th>\n",
       "      <th>County</th>\n",
       "      <th>Price_€_VAT_incl</th>\n",
       "      <th>Description_of_Property</th>\n",
       "      <th>Property_Size_Description</th>\n",
       "    </tr>\n",
       "  </thead>\n",
       "  <tbody>\n",
       "    <tr>\n",
       "      <th>0</th>\n",
       "      <td>2022-01-15</td>\n",
       "      <td>24 forest walk, swords, dublin</td>\n",
       "      <td>unknown</td>\n",
       "      <td>Dublin</td>\n",
       "      <td>154000.0</td>\n",
       "      <td>Second-Hand Dwelling house /Apartment</td>\n",
       "      <td>unknown</td>\n",
       "    </tr>\n",
       "    <tr>\n",
       "      <th>1</th>\n",
       "      <td>2022-01-15</td>\n",
       "      <td>5 cragaun, father russell road, dooradoyle</td>\n",
       "      <td>unknown</td>\n",
       "      <td>Limerick</td>\n",
       "      <td>370000.0</td>\n",
       "      <td>Second-Hand Dwelling house /Apartment</td>\n",
       "      <td>unknown</td>\n",
       "    </tr>\n",
       "    <tr>\n",
       "      <th>2</th>\n",
       "      <td>2022-01-16</td>\n",
       "      <td>19  the lawn, mullen park, maynooth</td>\n",
       "      <td>unknown</td>\n",
       "      <td>Kildare</td>\n",
       "      <td>465000.0</td>\n",
       "      <td>New Dwelling house /Apartment</td>\n",
       "      <td>unknown</td>\n",
       "    </tr>\n",
       "    <tr>\n",
       "      <th>3</th>\n",
       "      <td>2022-01-16</td>\n",
       "      <td>montevideo, hospital hill, bunclody</td>\n",
       "      <td>unknown</td>\n",
       "      <td>Wexford</td>\n",
       "      <td>100000.0</td>\n",
       "      <td>Second-Hand Dwelling house /Apartment</td>\n",
       "      <td>unknown</td>\n",
       "    </tr>\n",
       "    <tr>\n",
       "      <th>4</th>\n",
       "      <td>2022-01-17</td>\n",
       "      <td>1 cill beg manor, stradbally, laois</td>\n",
       "      <td>unknown</td>\n",
       "      <td>Laois</td>\n",
       "      <td>225000.0</td>\n",
       "      <td>Second-Hand Dwelling house /Apartment</td>\n",
       "      <td>unknown</td>\n",
       "    </tr>\n",
       "  </tbody>\n",
       "</table>\n",
       "</div>"
      ],
      "text/plain": [
       "  Date_of_Sale                                     Address Postal_Code  \\\n",
       "0   2022-01-15              24 forest walk, swords, dublin     unknown   \n",
       "1   2022-01-15  5 cragaun, father russell road, dooradoyle     unknown   \n",
       "2   2022-01-16         19  the lawn, mullen park, maynooth     unknown   \n",
       "3   2022-01-16         montevideo, hospital hill, bunclody     unknown   \n",
       "4   2022-01-17         1 cill beg manor, stradbally, laois     unknown   \n",
       "\n",
       "     County  Price_€_VAT_incl                Description_of_Property  \\\n",
       "0    Dublin          154000.0  Second-Hand Dwelling house /Apartment   \n",
       "1  Limerick          370000.0  Second-Hand Dwelling house /Apartment   \n",
       "2   Kildare          465000.0          New Dwelling house /Apartment   \n",
       "3   Wexford          100000.0  Second-Hand Dwelling house /Apartment   \n",
       "4     Laois          225000.0  Second-Hand Dwelling house /Apartment   \n",
       "\n",
       "  Property_Size_Description  \n",
       "0                   unknown  \n",
       "1                   unknown  \n",
       "2                   unknown  \n",
       "3                   unknown  \n",
       "4                   unknown  "
      ]
     },
     "execution_count": 43,
     "metadata": {},
     "output_type": "execute_result"
    }
   ],
   "source": [
    "df.head()"
   ]
  },
  {
   "cell_type": "markdown",
   "metadata": {},
   "source": [
    "### Section 5.2: Merge redundant categories"
   ]
  },
  {
   "cell_type": "code",
   "execution_count": 44,
   "metadata": {},
   "outputs": [],
   "source": [
    "df[\"Postal_Code\"] = df[\"Postal_Code\"].astype(\"category\")\n",
    "df[\"Property_Size_Description\"] = df[\"Property_Size_Description\"].astype(\"category\")"
   ]
  },
  {
   "cell_type": "code",
   "execution_count": 45,
   "metadata": {},
   "outputs": [
    {
     "data": {
      "text/plain": [
       "unknown    6953\n",
       "Name: Property_Size_Description, dtype: int64"
      ]
     },
     "execution_count": 45,
     "metadata": {},
     "output_type": "execute_result"
    }
   ],
   "source": [
    "df[\"Property_Size_Description\"].value_counts()"
   ]
  },
  {
   "cell_type": "code",
   "execution_count": 46,
   "metadata": {},
   "outputs": [],
   "source": [
    "def change_size_descriptions(description):\n",
    "    \"\"\"Reencodes the property size description feature and merges two levels\n",
    "    \n",
    "    The merged levels both represent properties that are > 125 sq metres in size\n",
    "    \"\"\"\n",
    "    if pd.isnull(description):\n",
    "        return description\n",
    "\n",
    "    else:\n",
    "        if description == \"less than 38 sq metres\":\n",
    "            return \"< 38\"\n",
    "\n",
    "        elif description == \"greater than or equal to 38 sq metres and less than 125 sq metres\":\n",
    "            return \"38 - 125\"\n",
    "\n",
    "        elif description == \"unknown\":\n",
    "            return \"unknown\"\n",
    "\n",
    "        else:\n",
    "            return \">= 125\""
   ]
  },
  {
   "cell_type": "code",
   "execution_count": 47,
   "metadata": {},
   "outputs": [
    {
     "data": {
      "text/plain": [
       "unknown    6953\n",
       "Name: Property_Size_Description, dtype: int64"
      ]
     },
     "execution_count": 47,
     "metadata": {},
     "output_type": "execute_result"
    }
   ],
   "source": [
    "df[\"Property_Size_Description\"] = df.apply(lambda x: change_size_descriptions(x[\"Property_Size_Description\"]), axis=1)\n",
    "df[\"Property_Size_Description\"].value_counts()"
   ]
  },
  {
   "cell_type": "code",
   "execution_count": 48,
   "metadata": {},
   "outputs": [
    {
     "data": {
      "text/html": [
       "<div>\n",
       "<style scoped>\n",
       "    .dataframe tbody tr th:only-of-type {\n",
       "        vertical-align: middle;\n",
       "    }\n",
       "\n",
       "    .dataframe tbody tr th {\n",
       "        vertical-align: top;\n",
       "    }\n",
       "\n",
       "    .dataframe thead th {\n",
       "        text-align: right;\n",
       "    }\n",
       "</style>\n",
       "<table border=\"1\" class=\"dataframe\">\n",
       "  <thead>\n",
       "    <tr style=\"text-align: right;\">\n",
       "      <th></th>\n",
       "      <th>Date_of_Sale</th>\n",
       "      <th>Address</th>\n",
       "      <th>Postal_Code</th>\n",
       "      <th>County</th>\n",
       "      <th>Price_€_VAT_incl</th>\n",
       "      <th>Description_of_Property</th>\n",
       "      <th>Property_Size_Description</th>\n",
       "    </tr>\n",
       "  </thead>\n",
       "  <tbody>\n",
       "    <tr>\n",
       "      <th>0</th>\n",
       "      <td>2022-01-15</td>\n",
       "      <td>24 forest walk, swords, dublin</td>\n",
       "      <td>unknown</td>\n",
       "      <td>Dublin</td>\n",
       "      <td>154000.0</td>\n",
       "      <td>Second-Hand Dwelling house /Apartment</td>\n",
       "      <td>unknown</td>\n",
       "    </tr>\n",
       "    <tr>\n",
       "      <th>1</th>\n",
       "      <td>2022-01-15</td>\n",
       "      <td>5 cragaun, father russell road, dooradoyle</td>\n",
       "      <td>unknown</td>\n",
       "      <td>Limerick</td>\n",
       "      <td>370000.0</td>\n",
       "      <td>Second-Hand Dwelling house /Apartment</td>\n",
       "      <td>unknown</td>\n",
       "    </tr>\n",
       "    <tr>\n",
       "      <th>2</th>\n",
       "      <td>2022-01-16</td>\n",
       "      <td>19  the lawn, mullen park, maynooth</td>\n",
       "      <td>unknown</td>\n",
       "      <td>Kildare</td>\n",
       "      <td>465000.0</td>\n",
       "      <td>New Dwelling house /Apartment</td>\n",
       "      <td>unknown</td>\n",
       "    </tr>\n",
       "    <tr>\n",
       "      <th>3</th>\n",
       "      <td>2022-01-16</td>\n",
       "      <td>montevideo, hospital hill, bunclody</td>\n",
       "      <td>unknown</td>\n",
       "      <td>Wexford</td>\n",
       "      <td>100000.0</td>\n",
       "      <td>Second-Hand Dwelling house /Apartment</td>\n",
       "      <td>unknown</td>\n",
       "    </tr>\n",
       "    <tr>\n",
       "      <th>4</th>\n",
       "      <td>2022-01-17</td>\n",
       "      <td>1 cill beg manor, stradbally, laois</td>\n",
       "      <td>unknown</td>\n",
       "      <td>Laois</td>\n",
       "      <td>225000.0</td>\n",
       "      <td>Second-Hand Dwelling house /Apartment</td>\n",
       "      <td>unknown</td>\n",
       "    </tr>\n",
       "  </tbody>\n",
       "</table>\n",
       "</div>"
      ],
      "text/plain": [
       "  Date_of_Sale                                     Address Postal_Code  \\\n",
       "0   2022-01-15              24 forest walk, swords, dublin     unknown   \n",
       "1   2022-01-15  5 cragaun, father russell road, dooradoyle     unknown   \n",
       "2   2022-01-16         19  the lawn, mullen park, maynooth     unknown   \n",
       "3   2022-01-16         montevideo, hospital hill, bunclody     unknown   \n",
       "4   2022-01-17         1 cill beg manor, stradbally, laois     unknown   \n",
       "\n",
       "     County  Price_€_VAT_incl                Description_of_Property  \\\n",
       "0    Dublin          154000.0  Second-Hand Dwelling house /Apartment   \n",
       "1  Limerick          370000.0  Second-Hand Dwelling house /Apartment   \n",
       "2   Kildare          465000.0          New Dwelling house /Apartment   \n",
       "3   Wexford          100000.0  Second-Hand Dwelling house /Apartment   \n",
       "4     Laois          225000.0  Second-Hand Dwelling house /Apartment   \n",
       "\n",
       "  Property_Size_Description  \n",
       "0                   unknown  \n",
       "1                   unknown  \n",
       "2                   unknown  \n",
       "3                   unknown  \n",
       "4                   unknown  "
      ]
     },
     "execution_count": 48,
     "metadata": {},
     "output_type": "execute_result"
    }
   ],
   "source": [
    "df.head()"
   ]
  },
  {
   "cell_type": "markdown",
   "metadata": {},
   "source": [
    "## Section 6: Date of Sale"
   ]
  },
  {
   "cell_type": "markdown",
   "metadata": {},
   "source": [
    "### Section 6.1: Create a month of sale feature"
   ]
  },
  {
   "cell_type": "code",
   "execution_count": 49,
   "metadata": {},
   "outputs": [],
   "source": [
    "df[\"Month_of_Sale\"] = df[\"Date_of_Sale\"].dt.month_name().astype(\"category\")"
   ]
  },
  {
   "cell_type": "markdown",
   "metadata": {},
   "source": [
    "### Section 6.2: Create a quarter of sale feature"
   ]
  },
  {
   "cell_type": "code",
   "execution_count": 50,
   "metadata": {},
   "outputs": [],
   "source": [
    "df[\"Quarter_of_Sale\"] = df[\"Date_of_Sale\"].dt.quarter.astype(\"category\")"
   ]
  },
  {
   "cell_type": "code",
   "execution_count": 51,
   "metadata": {},
   "outputs": [
    {
     "data": {
      "text/html": [
       "<div>\n",
       "<style scoped>\n",
       "    .dataframe tbody tr th:only-of-type {\n",
       "        vertical-align: middle;\n",
       "    }\n",
       "\n",
       "    .dataframe tbody tr th {\n",
       "        vertical-align: top;\n",
       "    }\n",
       "\n",
       "    .dataframe thead th {\n",
       "        text-align: right;\n",
       "    }\n",
       "</style>\n",
       "<table border=\"1\" class=\"dataframe\">\n",
       "  <thead>\n",
       "    <tr style=\"text-align: right;\">\n",
       "      <th></th>\n",
       "      <th>Date_of_Sale</th>\n",
       "      <th>Address</th>\n",
       "      <th>Postal_Code</th>\n",
       "      <th>County</th>\n",
       "      <th>Price_€_VAT_incl</th>\n",
       "      <th>Description_of_Property</th>\n",
       "      <th>Property_Size_Description</th>\n",
       "      <th>Month_of_Sale</th>\n",
       "      <th>Quarter_of_Sale</th>\n",
       "    </tr>\n",
       "  </thead>\n",
       "  <tbody>\n",
       "    <tr>\n",
       "      <th>0</th>\n",
       "      <td>2022-01-15</td>\n",
       "      <td>24 forest walk, swords, dublin</td>\n",
       "      <td>unknown</td>\n",
       "      <td>Dublin</td>\n",
       "      <td>154000.0</td>\n",
       "      <td>Second-Hand Dwelling house /Apartment</td>\n",
       "      <td>unknown</td>\n",
       "      <td>January</td>\n",
       "      <td>1</td>\n",
       "    </tr>\n",
       "    <tr>\n",
       "      <th>1</th>\n",
       "      <td>2022-01-15</td>\n",
       "      <td>5 cragaun, father russell road, dooradoyle</td>\n",
       "      <td>unknown</td>\n",
       "      <td>Limerick</td>\n",
       "      <td>370000.0</td>\n",
       "      <td>Second-Hand Dwelling house /Apartment</td>\n",
       "      <td>unknown</td>\n",
       "      <td>January</td>\n",
       "      <td>1</td>\n",
       "    </tr>\n",
       "    <tr>\n",
       "      <th>2</th>\n",
       "      <td>2022-01-16</td>\n",
       "      <td>19  the lawn, mullen park, maynooth</td>\n",
       "      <td>unknown</td>\n",
       "      <td>Kildare</td>\n",
       "      <td>465000.0</td>\n",
       "      <td>New Dwelling house /Apartment</td>\n",
       "      <td>unknown</td>\n",
       "      <td>January</td>\n",
       "      <td>1</td>\n",
       "    </tr>\n",
       "    <tr>\n",
       "      <th>3</th>\n",
       "      <td>2022-01-16</td>\n",
       "      <td>montevideo, hospital hill, bunclody</td>\n",
       "      <td>unknown</td>\n",
       "      <td>Wexford</td>\n",
       "      <td>100000.0</td>\n",
       "      <td>Second-Hand Dwelling house /Apartment</td>\n",
       "      <td>unknown</td>\n",
       "      <td>January</td>\n",
       "      <td>1</td>\n",
       "    </tr>\n",
       "    <tr>\n",
       "      <th>4</th>\n",
       "      <td>2022-01-17</td>\n",
       "      <td>1 cill beg manor, stradbally, laois</td>\n",
       "      <td>unknown</td>\n",
       "      <td>Laois</td>\n",
       "      <td>225000.0</td>\n",
       "      <td>Second-Hand Dwelling house /Apartment</td>\n",
       "      <td>unknown</td>\n",
       "      <td>January</td>\n",
       "      <td>1</td>\n",
       "    </tr>\n",
       "  </tbody>\n",
       "</table>\n",
       "</div>"
      ],
      "text/plain": [
       "  Date_of_Sale                                     Address Postal_Code  \\\n",
       "0   2022-01-15              24 forest walk, swords, dublin     unknown   \n",
       "1   2022-01-15  5 cragaun, father russell road, dooradoyle     unknown   \n",
       "2   2022-01-16         19  the lawn, mullen park, maynooth     unknown   \n",
       "3   2022-01-16         montevideo, hospital hill, bunclody     unknown   \n",
       "4   2022-01-17         1 cill beg manor, stradbally, laois     unknown   \n",
       "\n",
       "     County  Price_€_VAT_incl                Description_of_Property  \\\n",
       "0    Dublin          154000.0  Second-Hand Dwelling house /Apartment   \n",
       "1  Limerick          370000.0  Second-Hand Dwelling house /Apartment   \n",
       "2   Kildare          465000.0          New Dwelling house /Apartment   \n",
       "3   Wexford          100000.0  Second-Hand Dwelling house /Apartment   \n",
       "4     Laois          225000.0  Second-Hand Dwelling house /Apartment   \n",
       "\n",
       "  Property_Size_Description Month_of_Sale Quarter_of_Sale  \n",
       "0                   unknown       January               1  \n",
       "1                   unknown       January               1  \n",
       "2                   unknown       January               1  \n",
       "3                   unknown       January               1  \n",
       "4                   unknown       January               1  "
      ]
     },
     "execution_count": 51,
     "metadata": {},
     "output_type": "execute_result"
    }
   ],
   "source": [
    "df.head()"
   ]
  },
  {
   "cell_type": "markdown",
   "metadata": {},
   "source": [
    "## Section 7: Drop unused feaures"
   ]
  },
  {
   "cell_type": "code",
   "execution_count": 52,
   "metadata": {},
   "outputs": [],
   "source": [
    "df.drop([\"Address\"], axis=1, inplace=True)"
   ]
  },
  {
   "cell_type": "code",
   "execution_count": 53,
   "metadata": {},
   "outputs": [
    {
     "data": {
      "text/html": [
       "<div>\n",
       "<style scoped>\n",
       "    .dataframe tbody tr th:only-of-type {\n",
       "        vertical-align: middle;\n",
       "    }\n",
       "\n",
       "    .dataframe tbody tr th {\n",
       "        vertical-align: top;\n",
       "    }\n",
       "\n",
       "    .dataframe thead th {\n",
       "        text-align: right;\n",
       "    }\n",
       "</style>\n",
       "<table border=\"1\" class=\"dataframe\">\n",
       "  <thead>\n",
       "    <tr style=\"text-align: right;\">\n",
       "      <th></th>\n",
       "      <th>Date_of_Sale</th>\n",
       "      <th>Postal_Code</th>\n",
       "      <th>County</th>\n",
       "      <th>Price_€_VAT_incl</th>\n",
       "      <th>Description_of_Property</th>\n",
       "      <th>Property_Size_Description</th>\n",
       "      <th>Month_of_Sale</th>\n",
       "      <th>Quarter_of_Sale</th>\n",
       "    </tr>\n",
       "  </thead>\n",
       "  <tbody>\n",
       "    <tr>\n",
       "      <th>0</th>\n",
       "      <td>2022-01-15</td>\n",
       "      <td>unknown</td>\n",
       "      <td>Dublin</td>\n",
       "      <td>154000.0</td>\n",
       "      <td>Second-Hand Dwelling house /Apartment</td>\n",
       "      <td>unknown</td>\n",
       "      <td>January</td>\n",
       "      <td>1</td>\n",
       "    </tr>\n",
       "    <tr>\n",
       "      <th>1</th>\n",
       "      <td>2022-01-15</td>\n",
       "      <td>unknown</td>\n",
       "      <td>Limerick</td>\n",
       "      <td>370000.0</td>\n",
       "      <td>Second-Hand Dwelling house /Apartment</td>\n",
       "      <td>unknown</td>\n",
       "      <td>January</td>\n",
       "      <td>1</td>\n",
       "    </tr>\n",
       "    <tr>\n",
       "      <th>2</th>\n",
       "      <td>2022-01-16</td>\n",
       "      <td>unknown</td>\n",
       "      <td>Kildare</td>\n",
       "      <td>465000.0</td>\n",
       "      <td>New Dwelling house /Apartment</td>\n",
       "      <td>unknown</td>\n",
       "      <td>January</td>\n",
       "      <td>1</td>\n",
       "    </tr>\n",
       "    <tr>\n",
       "      <th>3</th>\n",
       "      <td>2022-01-16</td>\n",
       "      <td>unknown</td>\n",
       "      <td>Wexford</td>\n",
       "      <td>100000.0</td>\n",
       "      <td>Second-Hand Dwelling house /Apartment</td>\n",
       "      <td>unknown</td>\n",
       "      <td>January</td>\n",
       "      <td>1</td>\n",
       "    </tr>\n",
       "    <tr>\n",
       "      <th>4</th>\n",
       "      <td>2022-01-17</td>\n",
       "      <td>unknown</td>\n",
       "      <td>Laois</td>\n",
       "      <td>225000.0</td>\n",
       "      <td>Second-Hand Dwelling house /Apartment</td>\n",
       "      <td>unknown</td>\n",
       "      <td>January</td>\n",
       "      <td>1</td>\n",
       "    </tr>\n",
       "  </tbody>\n",
       "</table>\n",
       "</div>"
      ],
      "text/plain": [
       "  Date_of_Sale Postal_Code    County  Price_€_VAT_incl  \\\n",
       "0   2022-01-15     unknown    Dublin          154000.0   \n",
       "1   2022-01-15     unknown  Limerick          370000.0   \n",
       "2   2022-01-16     unknown   Kildare          465000.0   \n",
       "3   2022-01-16     unknown   Wexford          100000.0   \n",
       "4   2022-01-17     unknown     Laois          225000.0   \n",
       "\n",
       "                 Description_of_Property Property_Size_Description  \\\n",
       "0  Second-Hand Dwelling house /Apartment                   unknown   \n",
       "1  Second-Hand Dwelling house /Apartment                   unknown   \n",
       "2          New Dwelling house /Apartment                   unknown   \n",
       "3  Second-Hand Dwelling house /Apartment                   unknown   \n",
       "4  Second-Hand Dwelling house /Apartment                   unknown   \n",
       "\n",
       "  Month_of_Sale Quarter_of_Sale  \n",
       "0       January               1  \n",
       "1       January               1  \n",
       "2       January               1  \n",
       "3       January               1  \n",
       "4       January               1  "
      ]
     },
     "execution_count": 53,
     "metadata": {},
     "output_type": "execute_result"
    }
   ],
   "source": [
    "df.head()"
   ]
  },
  {
   "cell_type": "code",
   "execution_count": 54,
   "metadata": {},
   "outputs": [
    {
     "data": {
      "text/plain": [
       "Date_of_Sale                 0\n",
       "Postal_Code                  0\n",
       "County                       0\n",
       "Price_€_VAT_incl             0\n",
       "Description_of_Property      0\n",
       "Property_Size_Description    0\n",
       "Month_of_Sale                0\n",
       "Quarter_of_Sale              0\n",
       "dtype: int64"
      ]
     },
     "execution_count": 54,
     "metadata": {},
     "output_type": "execute_result"
    }
   ],
   "source": [
    "df.isna().sum()"
   ]
  },
  {
   "cell_type": "markdown",
   "metadata": {},
   "source": [
    "### Section 8: Save final dataset"
   ]
  },
  {
   "cell_type": "code",
   "execution_count": 55,
   "metadata": {},
   "outputs": [
    {
     "data": {
      "text/html": [
       "<div>\n",
       "<style scoped>\n",
       "    .dataframe tbody tr th:only-of-type {\n",
       "        vertical-align: middle;\n",
       "    }\n",
       "\n",
       "    .dataframe tbody tr th {\n",
       "        vertical-align: top;\n",
       "    }\n",
       "\n",
       "    .dataframe thead th {\n",
       "        text-align: right;\n",
       "    }\n",
       "</style>\n",
       "<table border=\"1\" class=\"dataframe\">\n",
       "  <thead>\n",
       "    <tr style=\"text-align: right;\">\n",
       "      <th></th>\n",
       "      <th>Date_of_Sale</th>\n",
       "      <th>Postal_Code</th>\n",
       "      <th>County</th>\n",
       "      <th>Price_€_VAT_incl</th>\n",
       "      <th>Description_of_Property</th>\n",
       "      <th>Property_Size_Description</th>\n",
       "      <th>Month_of_Sale</th>\n",
       "      <th>Quarter_of_Sale</th>\n",
       "    </tr>\n",
       "  </thead>\n",
       "  <tbody>\n",
       "    <tr>\n",
       "      <th>0</th>\n",
       "      <td>2022-01-15</td>\n",
       "      <td>unknown</td>\n",
       "      <td>Dublin</td>\n",
       "      <td>154000.0</td>\n",
       "      <td>Second-Hand Dwelling house /Apartment</td>\n",
       "      <td>unknown</td>\n",
       "      <td>January</td>\n",
       "      <td>1</td>\n",
       "    </tr>\n",
       "    <tr>\n",
       "      <th>1</th>\n",
       "      <td>2022-01-15</td>\n",
       "      <td>unknown</td>\n",
       "      <td>Limerick</td>\n",
       "      <td>370000.0</td>\n",
       "      <td>Second-Hand Dwelling house /Apartment</td>\n",
       "      <td>unknown</td>\n",
       "      <td>January</td>\n",
       "      <td>1</td>\n",
       "    </tr>\n",
       "    <tr>\n",
       "      <th>2</th>\n",
       "      <td>2022-01-16</td>\n",
       "      <td>unknown</td>\n",
       "      <td>Kildare</td>\n",
       "      <td>465000.0</td>\n",
       "      <td>New Dwelling house /Apartment</td>\n",
       "      <td>unknown</td>\n",
       "      <td>January</td>\n",
       "      <td>1</td>\n",
       "    </tr>\n",
       "    <tr>\n",
       "      <th>3</th>\n",
       "      <td>2022-01-16</td>\n",
       "      <td>unknown</td>\n",
       "      <td>Wexford</td>\n",
       "      <td>100000.0</td>\n",
       "      <td>Second-Hand Dwelling house /Apartment</td>\n",
       "      <td>unknown</td>\n",
       "      <td>January</td>\n",
       "      <td>1</td>\n",
       "    </tr>\n",
       "    <tr>\n",
       "      <th>4</th>\n",
       "      <td>2022-01-17</td>\n",
       "      <td>unknown</td>\n",
       "      <td>Laois</td>\n",
       "      <td>225000.0</td>\n",
       "      <td>Second-Hand Dwelling house /Apartment</td>\n",
       "      <td>unknown</td>\n",
       "      <td>January</td>\n",
       "      <td>1</td>\n",
       "    </tr>\n",
       "  </tbody>\n",
       "</table>\n",
       "</div>"
      ],
      "text/plain": [
       "  Date_of_Sale Postal_Code    County  Price_€_VAT_incl  \\\n",
       "0   2022-01-15     unknown    Dublin          154000.0   \n",
       "1   2022-01-15     unknown  Limerick          370000.0   \n",
       "2   2022-01-16     unknown   Kildare          465000.0   \n",
       "3   2022-01-16     unknown   Wexford          100000.0   \n",
       "4   2022-01-17     unknown     Laois          225000.0   \n",
       "\n",
       "                 Description_of_Property Property_Size_Description  \\\n",
       "0  Second-Hand Dwelling house /Apartment                   unknown   \n",
       "1  Second-Hand Dwelling house /Apartment                   unknown   \n",
       "2          New Dwelling house /Apartment                   unknown   \n",
       "3  Second-Hand Dwelling house /Apartment                   unknown   \n",
       "4  Second-Hand Dwelling house /Apartment                   unknown   \n",
       "\n",
       "  Month_of_Sale Quarter_of_Sale  \n",
       "0       January               1  \n",
       "1       January               1  \n",
       "2       January               1  \n",
       "3       January               1  \n",
       "4       January               1  "
      ]
     },
     "execution_count": 55,
     "metadata": {},
     "output_type": "execute_result"
    }
   ],
   "source": [
    "df.head()"
   ]
  },
  {
   "cell_type": "code",
   "execution_count": 56,
   "metadata": {},
   "outputs": [],
   "source": [
    "df.to_csv('cleaned_unseen_data.csv', index=False)"
   ]
  }
 ],
 "metadata": {
  "interpreter": {
   "hash": "b2a97012a55bb9a5e9e5bb8241491a13888ca507083eb3d8da75bd2029b79f92"
  },
  "kernelspec": {
   "display_name": "Python 3.8.12 ('comp47350py38hw1')",
   "language": "python",
   "name": "python3"
  },
  "language_info": {
   "codemirror_mode": {
    "name": "ipython",
    "version": 3
   },
   "file_extension": ".py",
   "mimetype": "text/x-python",
   "name": "python",
   "nbconvert_exporter": "python",
   "pygments_lexer": "ipython3",
   "version": "3.8.12"
  },
  "orig_nbformat": 4
 },
 "nbformat": 4,
 "nbformat_minor": 2
}
