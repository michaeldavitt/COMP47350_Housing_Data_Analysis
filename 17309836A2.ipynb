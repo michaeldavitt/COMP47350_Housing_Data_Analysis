{
 "cells": [
  {
   "cell_type": "markdown",
   "metadata": {},
   "source": [
    "# Property Price Register - Machine Learning analysis"
   ]
  },
  {
   "cell_type": "markdown",
   "metadata": {},
   "source": [
    "## Section 0 - Initial Preparation"
   ]
  },
  {
   "cell_type": "markdown",
   "metadata": {},
   "source": [
    "### Section 0.1 - Import required modules"
   ]
  },
  {
   "cell_type": "code",
   "execution_count": 44,
   "metadata": {},
   "outputs": [],
   "source": [
    "import pandas as pd\n",
    "from sklearn.model_selection import train_test_split\n",
    "from sklearn.linear_model import LinearRegression\n",
    "import matplotlib.pyplot as plt\n",
    "from sklearn.metrics import r2_score, mean_absolute_error, mean_squared_error"
   ]
  },
  {
   "cell_type": "markdown",
   "metadata": {},
   "source": [
    "## Section 1 - Data Understanding and Preparation"
   ]
  },
  {
   "cell_type": "markdown",
   "metadata": {},
   "source": [
    "### Section 1.x - Introduction"
   ]
  },
  {
   "cell_type": "markdown",
   "metadata": {},
   "source": [
    "Our objective is to use a sample of the Residential Property Price Register (RPPR) to make inference about the price of houses in the Republic of Ireland. We will explore the dataset, transform the dataset appropriately, train various machine learning models using the dataset, validate these models, and perform tests for generalisability (how well does our final model predict house prices). "
   ]
  },
  {
   "cell_type": "markdown",
   "metadata": {},
   "source": [
    "Both the input and target features come from the RPPR, which is a dataset containing details of the sale of all residential properties purchased in Ireland since the 1st January 2010, as declared to the Revenue Commissioners for stamp duty purposes."
   ]
  },
  {
   "cell_type": "markdown",
   "metadata": {},
   "source": [
    "### Section 1.x - Read in the cleaned dataset"
   ]
  },
  {
   "cell_type": "code",
   "execution_count": 2,
   "metadata": {},
   "outputs": [],
   "source": [
    "df = pd.read_csv(\"cleaned_data.csv\")"
   ]
  },
  {
   "cell_type": "code",
   "execution_count": 3,
   "metadata": {},
   "outputs": [
    {
     "data": {
      "text/html": [
       "<div>\n",
       "<style scoped>\n",
       "    .dataframe tbody tr th:only-of-type {\n",
       "        vertical-align: middle;\n",
       "    }\n",
       "\n",
       "    .dataframe tbody tr th {\n",
       "        vertical-align: top;\n",
       "    }\n",
       "\n",
       "    .dataframe thead th {\n",
       "        text-align: right;\n",
       "    }\n",
       "</style>\n",
       "<table border=\"1\" class=\"dataframe\">\n",
       "  <thead>\n",
       "    <tr style=\"text-align: right;\">\n",
       "      <th></th>\n",
       "      <th>Date_of_Sale</th>\n",
       "      <th>Postal_Code</th>\n",
       "      <th>County</th>\n",
       "      <th>Price_€_VAT_incl</th>\n",
       "      <th>Description_of_Property</th>\n",
       "      <th>Property_Size_Description</th>\n",
       "      <th>Month_of_Sale</th>\n",
       "      <th>Quarter_of_Sale</th>\n",
       "    </tr>\n",
       "  </thead>\n",
       "  <tbody>\n",
       "    <tr>\n",
       "      <th>0</th>\n",
       "      <td>2020-05-21</td>\n",
       "      <td>unknown</td>\n",
       "      <td>Roscommon</td>\n",
       "      <td>180000.0</td>\n",
       "      <td>Second-Hand Dwelling house /Apartment</td>\n",
       "      <td>unknown</td>\n",
       "      <td>May</td>\n",
       "      <td>2</td>\n",
       "    </tr>\n",
       "    <tr>\n",
       "      <th>1</th>\n",
       "      <td>2011-09-08</td>\n",
       "      <td>unknown</td>\n",
       "      <td>Kilkenny</td>\n",
       "      <td>73500.0</td>\n",
       "      <td>Second-Hand Dwelling house /Apartment</td>\n",
       "      <td>unknown</td>\n",
       "      <td>September</td>\n",
       "      <td>3</td>\n",
       "    </tr>\n",
       "    <tr>\n",
       "      <th>2</th>\n",
       "      <td>2021-09-24</td>\n",
       "      <td>dublin 15</td>\n",
       "      <td>Dublin</td>\n",
       "      <td>280000.0</td>\n",
       "      <td>Second-Hand Dwelling house /Apartment</td>\n",
       "      <td>unknown</td>\n",
       "      <td>September</td>\n",
       "      <td>3</td>\n",
       "    </tr>\n",
       "    <tr>\n",
       "      <th>3</th>\n",
       "      <td>2021-08-18</td>\n",
       "      <td>unknown</td>\n",
       "      <td>Louth</td>\n",
       "      <td>205000.0</td>\n",
       "      <td>Second-Hand Dwelling house /Apartment</td>\n",
       "      <td>unknown</td>\n",
       "      <td>August</td>\n",
       "      <td>3</td>\n",
       "    </tr>\n",
       "    <tr>\n",
       "      <th>4</th>\n",
       "      <td>2013-08-02</td>\n",
       "      <td>dublin 9</td>\n",
       "      <td>Dublin</td>\n",
       "      <td>282500.0</td>\n",
       "      <td>Second-Hand Dwelling house /Apartment</td>\n",
       "      <td>unknown</td>\n",
       "      <td>August</td>\n",
       "      <td>3</td>\n",
       "    </tr>\n",
       "  </tbody>\n",
       "</table>\n",
       "</div>"
      ],
      "text/plain": [
       "  Date_of_Sale Postal_Code     County  Price_€_VAT_incl  \\\n",
       "0   2020-05-21     unknown  Roscommon          180000.0   \n",
       "1   2011-09-08     unknown   Kilkenny           73500.0   \n",
       "2   2021-09-24   dublin 15     Dublin          280000.0   \n",
       "3   2021-08-18     unknown      Louth          205000.0   \n",
       "4   2013-08-02    dublin 9     Dublin          282500.0   \n",
       "\n",
       "                 Description_of_Property Property_Size_Description  \\\n",
       "0  Second-Hand Dwelling house /Apartment                   unknown   \n",
       "1  Second-Hand Dwelling house /Apartment                   unknown   \n",
       "2  Second-Hand Dwelling house /Apartment                   unknown   \n",
       "3  Second-Hand Dwelling house /Apartment                   unknown   \n",
       "4  Second-Hand Dwelling house /Apartment                   unknown   \n",
       "\n",
       "  Month_of_Sale  Quarter_of_Sale  \n",
       "0           May                2  \n",
       "1     September                3  \n",
       "2     September                3  \n",
       "3        August                3  \n",
       "4        August                3  "
      ]
     },
     "execution_count": 3,
     "metadata": {},
     "output_type": "execute_result"
    }
   ],
   "source": [
    "df.head()"
   ]
  },
  {
   "cell_type": "markdown",
   "metadata": {},
   "source": [
    "### Section 1.x: Change the data types"
   ]
  },
  {
   "cell_type": "code",
   "execution_count": 4,
   "metadata": {},
   "outputs": [
    {
     "data": {
      "text/plain": [
       "Date_of_Sale                  object\n",
       "Postal_Code                   object\n",
       "County                        object\n",
       "Price_€_VAT_incl             float64\n",
       "Description_of_Property       object\n",
       "Property_Size_Description     object\n",
       "Month_of_Sale                 object\n",
       "Quarter_of_Sale                int64\n",
       "dtype: object"
      ]
     },
     "execution_count": 4,
     "metadata": {},
     "output_type": "execute_result"
    }
   ],
   "source": [
    "df.dtypes"
   ]
  },
  {
   "cell_type": "code",
   "execution_count": 5,
   "metadata": {},
   "outputs": [],
   "source": [
    "df[\"Price_€_VAT_incl\"] = df[\"Price_€_VAT_incl\"].astype(float)"
   ]
  },
  {
   "cell_type": "code",
   "execution_count": 6,
   "metadata": {},
   "outputs": [],
   "source": [
    "df[\"Date_of_Sale\"] = pd.to_datetime(df[\"Date_of_Sale\"], format=\"%Y-%m-%d\")"
   ]
  },
  {
   "cell_type": "code",
   "execution_count": 7,
   "metadata": {},
   "outputs": [],
   "source": [
    "df[\"Quarter_of_Sale\"] = df[\"Quarter_of_Sale\"].astype(\"object\")"
   ]
  },
  {
   "cell_type": "code",
   "execution_count": 8,
   "metadata": {},
   "outputs": [
    {
     "data": {
      "text/plain": [
       "Date_of_Sale                 datetime64[ns]\n",
       "Postal_Code                        category\n",
       "County                             category\n",
       "Price_€_VAT_incl                    float64\n",
       "Description_of_Property            category\n",
       "Property_Size_Description          category\n",
       "Month_of_Sale                      category\n",
       "Quarter_of_Sale                    category\n",
       "dtype: object"
      ]
     },
     "execution_count": 8,
     "metadata": {},
     "output_type": "execute_result"
    }
   ],
   "source": [
    "# Select all columns of type 'object'\n",
    "object_columns = df.select_dtypes(['object']).columns\n",
    "\n",
    "# Convert selected columns to type 'category'\n",
    "for column in object_columns:\n",
    "    df[column] = df[column].astype('category')\n",
    "df.dtypes"
   ]
  },
  {
   "cell_type": "markdown",
   "metadata": {},
   "source": [
    "### Section 1.x - Shuffle dataset rows and split dataset into separate training and test datasets"
   ]
  },
  {
   "cell_type": "markdown",
   "metadata": {},
   "source": [
    "The training dataset will be used for model construction and validation. The test dataset will be used at the very end of our analysis to test the generalisability of our final model."
   ]
  },
  {
   "cell_type": "code",
   "execution_count": 9,
   "metadata": {},
   "outputs": [],
   "source": [
    "X = df.drop([\"Price_€_VAT_incl\", \"Date_of_Sale\"], axis=1)\n",
    "y = df[\"Price_€_VAT_incl\"]\n",
    "X_train, X_test, y_train, y_test = train_test_split(X, y, test_size=0.3, random_state=4)"
   ]
  },
  {
   "cell_type": "code",
   "execution_count": 10,
   "metadata": {},
   "outputs": [
    {
     "data": {
      "text/html": [
       "<div>\n",
       "<style scoped>\n",
       "    .dataframe tbody tr th:only-of-type {\n",
       "        vertical-align: middle;\n",
       "    }\n",
       "\n",
       "    .dataframe tbody tr th {\n",
       "        vertical-align: top;\n",
       "    }\n",
       "\n",
       "    .dataframe thead th {\n",
       "        text-align: right;\n",
       "    }\n",
       "</style>\n",
       "<table border=\"1\" class=\"dataframe\">\n",
       "  <thead>\n",
       "    <tr style=\"text-align: right;\">\n",
       "      <th></th>\n",
       "      <th>Postal_Code</th>\n",
       "      <th>County</th>\n",
       "      <th>Description_of_Property</th>\n",
       "      <th>Property_Size_Description</th>\n",
       "      <th>Month_of_Sale</th>\n",
       "      <th>Quarter_of_Sale</th>\n",
       "    </tr>\n",
       "  </thead>\n",
       "  <tbody>\n",
       "    <tr>\n",
       "      <th>9249</th>\n",
       "      <td>unknown</td>\n",
       "      <td>Cork</td>\n",
       "      <td>Second-Hand Dwelling house /Apartment</td>\n",
       "      <td>unknown</td>\n",
       "      <td>September</td>\n",
       "      <td>3</td>\n",
       "    </tr>\n",
       "    <tr>\n",
       "      <th>984</th>\n",
       "      <td>unknown</td>\n",
       "      <td>Wicklow</td>\n",
       "      <td>Second-Hand Dwelling house /Apartment</td>\n",
       "      <td>unknown</td>\n",
       "      <td>April</td>\n",
       "      <td>2</td>\n",
       "    </tr>\n",
       "    <tr>\n",
       "      <th>7192</th>\n",
       "      <td>unknown</td>\n",
       "      <td>Meath</td>\n",
       "      <td>Second-Hand Dwelling house /Apartment</td>\n",
       "      <td>unknown</td>\n",
       "      <td>November</td>\n",
       "      <td>4</td>\n",
       "    </tr>\n",
       "    <tr>\n",
       "      <th>754</th>\n",
       "      <td>unknown</td>\n",
       "      <td>Cork</td>\n",
       "      <td>Second-Hand Dwelling house /Apartment</td>\n",
       "      <td>unknown</td>\n",
       "      <td>March</td>\n",
       "      <td>1</td>\n",
       "    </tr>\n",
       "    <tr>\n",
       "      <th>8760</th>\n",
       "      <td>dublin 9</td>\n",
       "      <td>Dublin</td>\n",
       "      <td>Second-Hand Dwelling house /Apartment</td>\n",
       "      <td>unknown</td>\n",
       "      <td>October</td>\n",
       "      <td>4</td>\n",
       "    </tr>\n",
       "  </tbody>\n",
       "</table>\n",
       "</div>"
      ],
      "text/plain": [
       "     Postal_Code   County                Description_of_Property  \\\n",
       "9249     unknown     Cork  Second-Hand Dwelling house /Apartment   \n",
       "984      unknown  Wicklow  Second-Hand Dwelling house /Apartment   \n",
       "7192     unknown    Meath  Second-Hand Dwelling house /Apartment   \n",
       "754      unknown     Cork  Second-Hand Dwelling house /Apartment   \n",
       "8760    dublin 9   Dublin  Second-Hand Dwelling house /Apartment   \n",
       "\n",
       "     Property_Size_Description Month_of_Sale Quarter_of_Sale  \n",
       "9249                   unknown     September               3  \n",
       "984                    unknown         April               2  \n",
       "7192                   unknown      November               4  \n",
       "754                    unknown         March               1  \n",
       "8760                   unknown       October               4  "
      ]
     },
     "execution_count": 10,
     "metadata": {},
     "output_type": "execute_result"
    }
   ],
   "source": [
    "X_train.head()"
   ]
  },
  {
   "cell_type": "code",
   "execution_count": 11,
   "metadata": {},
   "outputs": [
    {
     "data": {
      "text/html": [
       "<div>\n",
       "<style scoped>\n",
       "    .dataframe tbody tr th:only-of-type {\n",
       "        vertical-align: middle;\n",
       "    }\n",
       "\n",
       "    .dataframe tbody tr th {\n",
       "        vertical-align: top;\n",
       "    }\n",
       "\n",
       "    .dataframe thead th {\n",
       "        text-align: right;\n",
       "    }\n",
       "</style>\n",
       "<table border=\"1\" class=\"dataframe\">\n",
       "  <thead>\n",
       "    <tr style=\"text-align: right;\">\n",
       "      <th></th>\n",
       "      <th>Postal_Code</th>\n",
       "      <th>County</th>\n",
       "      <th>Description_of_Property</th>\n",
       "      <th>Property_Size_Description</th>\n",
       "      <th>Month_of_Sale</th>\n",
       "      <th>Quarter_of_Sale</th>\n",
       "    </tr>\n",
       "  </thead>\n",
       "  <tbody>\n",
       "    <tr>\n",
       "      <th>3558</th>\n",
       "      <td>unknown</td>\n",
       "      <td>Limerick</td>\n",
       "      <td>Second-Hand Dwelling house /Apartment</td>\n",
       "      <td>unknown</td>\n",
       "      <td>September</td>\n",
       "      <td>3</td>\n",
       "    </tr>\n",
       "    <tr>\n",
       "      <th>1422</th>\n",
       "      <td>unknown</td>\n",
       "      <td>Cork</td>\n",
       "      <td>Second-Hand Dwelling house /Apartment</td>\n",
       "      <td>unknown</td>\n",
       "      <td>November</td>\n",
       "      <td>4</td>\n",
       "    </tr>\n",
       "    <tr>\n",
       "      <th>7221</th>\n",
       "      <td>unknown</td>\n",
       "      <td>Kildare</td>\n",
       "      <td>Second-Hand Dwelling house /Apartment</td>\n",
       "      <td>unknown</td>\n",
       "      <td>December</td>\n",
       "      <td>4</td>\n",
       "    </tr>\n",
       "    <tr>\n",
       "      <th>6699</th>\n",
       "      <td>unknown</td>\n",
       "      <td>Westmeath</td>\n",
       "      <td>Second-Hand Dwelling house /Apartment</td>\n",
       "      <td>unknown</td>\n",
       "      <td>July</td>\n",
       "      <td>3</td>\n",
       "    </tr>\n",
       "    <tr>\n",
       "      <th>309</th>\n",
       "      <td>dublin 18</td>\n",
       "      <td>Dublin</td>\n",
       "      <td>Second-Hand Dwelling house /Apartment</td>\n",
       "      <td>unknown</td>\n",
       "      <td>June</td>\n",
       "      <td>2</td>\n",
       "    </tr>\n",
       "  </tbody>\n",
       "</table>\n",
       "</div>"
      ],
      "text/plain": [
       "     Postal_Code     County                Description_of_Property  \\\n",
       "3558     unknown   Limerick  Second-Hand Dwelling house /Apartment   \n",
       "1422     unknown       Cork  Second-Hand Dwelling house /Apartment   \n",
       "7221     unknown    Kildare  Second-Hand Dwelling house /Apartment   \n",
       "6699     unknown  Westmeath  Second-Hand Dwelling house /Apartment   \n",
       "309    dublin 18     Dublin  Second-Hand Dwelling house /Apartment   \n",
       "\n",
       "     Property_Size_Description Month_of_Sale Quarter_of_Sale  \n",
       "3558                   unknown     September               3  \n",
       "1422                   unknown      November               4  \n",
       "7221                   unknown      December               4  \n",
       "6699                   unknown          July               3  \n",
       "309                    unknown          June               2  "
      ]
     },
     "execution_count": 11,
     "metadata": {},
     "output_type": "execute_result"
    }
   ],
   "source": [
    "X_test.head()"
   ]
  },
  {
   "cell_type": "markdown",
   "metadata": {},
   "source": [
    "### Section 1.x: Categorical feature plots"
   ]
  },
  {
   "cell_type": "markdown",
   "metadata": {},
   "source": [
    "#### Postal_Code vs Price "
   ]
  },
  {
   "cell_type": "code",
   "execution_count": 12,
   "metadata": {},
   "outputs": [
    {
     "data": {
      "text/plain": [
       "<Figure size 432x288 with 0 Axes>"
      ]
     },
     "metadata": {},
     "output_type": "display_data"
    },
    {
     "data": {
      "image/png": "[encoded data removed]",
      "text/plain": [
       "<Figure size 720x504 with 1 Axes>"
      ]
     },
     "metadata": {
      "needs_background": "light"
     },
     "output_type": "display_data"
    }
   ],
   "source": [
    "plt.figure()\n",
    "flierprops = dict(marker='o', markerfacecolor='green', markersize=6,\n",
    "                  linestyle='none')\n",
    "df.boxplot(column=['Price_€_VAT_incl'], by=['Postal_Code'], flierprops=flierprops, figsize=(10,7))\n",
    "plt.xticks(rotation=45);\n",
    "plt.tight_layout()"
   ]
  },
  {
   "cell_type": "markdown",
   "metadata": {},
   "source": [
    "#### County vs Price"
   ]
  },
  {
   "cell_type": "code",
   "execution_count": 13,
   "metadata": {},
   "outputs": [
    {
     "data": {
      "text/plain": [
       "<Figure size 432x288 with 0 Axes>"
      ]
     },
     "metadata": {},
     "output_type": "display_data"
    },
    {
     "data": {
      "image/png": "[encoded data removed]",
      "text/plain": [
       "<Figure size 720x504 with 1 Axes>"
      ]
     },
     "metadata": {
      "needs_background": "light"
     },
     "output_type": "display_data"
    }
   ],
   "source": [
    "plt.figure()\n",
    "flierprops = dict(marker='o', markerfacecolor='green', markersize=6,\n",
    "                  linestyle='none')\n",
    "df.boxplot(column=['Price_€_VAT_incl'], by=['County'], flierprops=flierprops, figsize=(10,7))\n",
    "plt.xticks(rotation=45);\n",
    "plt.tight_layout()"
   ]
  },
  {
   "cell_type": "markdown",
   "metadata": {},
   "source": [
    "#### Description of Property vs Price"
   ]
  },
  {
   "cell_type": "code",
   "execution_count": 14,
   "metadata": {},
   "outputs": [
    {
     "data": {
      "text/plain": [
       "<Figure size 432x288 with 0 Axes>"
      ]
     },
     "metadata": {},
     "output_type": "display_data"
    },
    {
     "data": {
      "image/png": "[encoded data removed]",
      "text/plain": [
       "<Figure size 720x504 with 1 Axes>"
      ]
     },
     "metadata": {
      "needs_background": "light"
     },
     "output_type": "display_data"
    }
   ],
   "source": [
    "plt.figure()\n",
    "flierprops = dict(marker='o', markerfacecolor='green', markersize=6,\n",
    "                  linestyle='none')\n",
    "df.boxplot(column=['Price_€_VAT_incl'], by=['Description_of_Property'], flierprops=flierprops, figsize=(10,7))\n",
    "plt.xticks(rotation=45);\n",
    "plt.tight_layout()"
   ]
  },
  {
   "cell_type": "markdown",
   "metadata": {},
   "source": [
    "#### Property Size Description vs Price"
   ]
  },
  {
   "cell_type": "code",
   "execution_count": 15,
   "metadata": {},
   "outputs": [
    {
     "data": {
      "text/plain": [
       "<Figure size 432x288 with 0 Axes>"
      ]
     },
     "metadata": {},
     "output_type": "display_data"
    },
    {
     "data": {
      "image/png": "[encoded data removed]",
      "text/plain": [
       "<Figure size 720x504 with 1 Axes>"
      ]
     },
     "metadata": {
      "needs_background": "light"
     },
     "output_type": "display_data"
    }
   ],
   "source": [
    "plt.figure()\n",
    "flierprops = dict(marker='o', markerfacecolor='green', markersize=6,\n",
    "                  linestyle='none')\n",
    "df.boxplot(column=['Price_€_VAT_incl'], by=['Property_Size_Description'], flierprops=flierprops, figsize=(10,7))\n",
    "plt.xticks(rotation=45);\n",
    "plt.tight_layout()"
   ]
  },
  {
   "cell_type": "markdown",
   "metadata": {},
   "source": [
    "#### Month of Sale vs Price"
   ]
  },
  {
   "cell_type": "code",
   "execution_count": 16,
   "metadata": {},
   "outputs": [
    {
     "data": {
      "text/plain": [
       "<Figure size 432x288 with 0 Axes>"
      ]
     },
     "metadata": {},
     "output_type": "display_data"
    },
    {
     "data": {
      "image/png": "[encoded data removed]",
      "text/plain": [
       "<Figure size 720x504 with 1 Axes>"
      ]
     },
     "metadata": {
      "needs_background": "light"
     },
     "output_type": "display_data"
    }
   ],
   "source": [
    "plt.figure()\n",
    "flierprops = dict(marker='o', markerfacecolor='green', markersize=6,\n",
    "                  linestyle='none')\n",
    "df.boxplot(column=['Price_€_VAT_incl'], by=['Month_of_Sale'], flierprops=flierprops, figsize=(10,7))\n",
    "plt.xticks(rotation=45);\n",
    "plt.tight_layout()"
   ]
  },
  {
   "cell_type": "markdown",
   "metadata": {},
   "source": [
    "#### Quarter of Sale vs Price"
   ]
  },
  {
   "cell_type": "code",
   "execution_count": 17,
   "metadata": {},
   "outputs": [
    {
     "data": {
      "text/plain": [
       "<Figure size 432x288 with 0 Axes>"
      ]
     },
     "metadata": {},
     "output_type": "display_data"
    },
    {
     "data": {
      "image/png": "[encoded data removed]",
      "text/plain": [
       "<Figure size 720x504 with 1 Axes>"
      ]
     },
     "metadata": {
      "needs_background": "light"
     },
     "output_type": "display_data"
    }
   ],
   "source": [
    "plt.figure()\n",
    "flierprops = dict(marker='o', markerfacecolor='green', markersize=6,\n",
    "                  linestyle='none')\n",
    "df.boxplot(column=['Price_€_VAT_incl'], by=['Quarter_of_Sale'], flierprops=flierprops, figsize=(10,7))\n",
    "plt.xticks(rotation=45);\n",
    "plt.tight_layout()"
   ]
  },
  {
   "cell_type": "markdown",
   "metadata": {},
   "source": [
    "#### Observations"
   ]
  },
  {
   "cell_type": "markdown",
   "metadata": {},
   "source": [
    "All features seem as though they have some relationship with the price feature (with the exception of month of sale and quarter of sale. The distribution of price values does not appear to vary according as month/quarter varies)"
   ]
  },
  {
   "cell_type": "markdown",
   "metadata": {},
   "source": [
    "#### Drop unused features"
   ]
  },
  {
   "cell_type": "code",
   "execution_count": 18,
   "metadata": {},
   "outputs": [],
   "source": [
    "X_train.drop([\"Month_of_Sale\", \"Quarter_of_Sale\"], axis=1, inplace=True)\n",
    "X_test.drop([\"Month_of_Sale\", \"Quarter_of_Sale\"], axis=1, inplace=True)"
   ]
  },
  {
   "cell_type": "markdown",
   "metadata": {},
   "source": [
    "### Section 1.x - Reencode categorical variables"
   ]
  },
  {
   "cell_type": "code",
   "execution_count": 19,
   "metadata": {},
   "outputs": [],
   "source": [
    "category_columns = X_train.select_dtypes(['category']).columns\n",
    "\n",
    "for each in category_columns:\n",
    "    dummies = pd.get_dummies(X_train[each], prefix=each, drop_first = False)\n",
    "    X_train = pd.concat([X_train, dummies], axis=1)\n",
    "X_train = X_train.drop(category_columns, axis=1)\n",
    "\n",
    "for each in category_columns:\n",
    "    dummies = pd.get_dummies(X_test[each], prefix=each, drop_first = False)\n",
    "    X_test = pd.concat([X_test, dummies], axis=1)\n",
    "X_test = X_test.drop(category_columns, axis=1)"
   ]
  },
  {
   "cell_type": "code",
   "execution_count": 20,
   "metadata": {},
   "outputs": [
    {
     "data": {
      "text/plain": [
       "Index(['Postal_Code_dublin 1', 'Postal_Code_dublin 10',\n",
       "       'Postal_Code_dublin 11', 'Postal_Code_dublin 12',\n",
       "       'Postal_Code_dublin 13', 'Postal_Code_dublin 14',\n",
       "       'Postal_Code_dublin 15', 'Postal_Code_dublin 16',\n",
       "       'Postal_Code_dublin 17', 'Postal_Code_dublin 18',\n",
       "       'Postal_Code_dublin 2', 'Postal_Code_dublin 20',\n",
       "       'Postal_Code_dublin 22', 'Postal_Code_dublin 24',\n",
       "       'Postal_Code_dublin 3', 'Postal_Code_dublin 4', 'Postal_Code_dublin 5',\n",
       "       'Postal_Code_dublin 6', 'Postal_Code_dublin 6w', 'Postal_Code_dublin 7',\n",
       "       'Postal_Code_dublin 8', 'Postal_Code_dublin 9', 'Postal_Code_unknown',\n",
       "       'County_Carlow', 'County_Cavan', 'County_Clare', 'County_Cork',\n",
       "       'County_Donegal', 'County_Dublin', 'County_Galway', 'County_Kerry',\n",
       "       'County_Kildare', 'County_Kilkenny', 'County_Laois', 'County_Leitrim',\n",
       "       'County_Limerick', 'County_Longford', 'County_Louth', 'County_Mayo',\n",
       "       'County_Meath', 'County_Monaghan', 'County_Offaly', 'County_Roscommon',\n",
       "       'County_Sligo', 'County_Tipperary', 'County_Waterford',\n",
       "       'County_Westmeath', 'County_Wexford', 'County_Wicklow',\n",
       "       'Description_of_Property_New Dwelling house /Apartment',\n",
       "       'Description_of_Property_Second-Hand Dwelling house /Apartment',\n",
       "       'Property_Size_Description_38 - 125', 'Property_Size_Description_< 38',\n",
       "       'Property_Size_Description_>= 125',\n",
       "       'Property_Size_Description_unknown'],\n",
       "      dtype='object')"
      ]
     },
     "execution_count": 20,
     "metadata": {},
     "output_type": "execute_result"
    }
   ],
   "source": [
    "X_train.columns"
   ]
  },
  {
   "cell_type": "code",
   "execution_count": 21,
   "metadata": {},
   "outputs": [
    {
     "data": {
      "text/plain": [
       "Postal_Code_dublin 1                                             uint8\n",
       "Postal_Code_dublin 10                                            uint8\n",
       "Postal_Code_dublin 11                                            uint8\n",
       "Postal_Code_dublin 12                                            uint8\n",
       "Postal_Code_dublin 13                                            uint8\n",
       "Postal_Code_dublin 14                                            uint8\n",
       "Postal_Code_dublin 15                                            uint8\n",
       "Postal_Code_dublin 16                                            uint8\n",
       "Postal_Code_dublin 17                                            uint8\n",
       "Postal_Code_dublin 18                                            uint8\n",
       "Postal_Code_dublin 2                                             uint8\n",
       "Postal_Code_dublin 20                                            uint8\n",
       "Postal_Code_dublin 22                                            uint8\n",
       "Postal_Code_dublin 24                                            uint8\n",
       "Postal_Code_dublin 3                                             uint8\n",
       "Postal_Code_dublin 4                                             uint8\n",
       "Postal_Code_dublin 5                                             uint8\n",
       "Postal_Code_dublin 6                                             uint8\n",
       "Postal_Code_dublin 6w                                            uint8\n",
       "Postal_Code_dublin 7                                             uint8\n",
       "Postal_Code_dublin 8                                             uint8\n",
       "Postal_Code_dublin 9                                             uint8\n",
       "Postal_Code_unknown                                              uint8\n",
       "County_Carlow                                                    uint8\n",
       "County_Cavan                                                     uint8\n",
       "County_Clare                                                     uint8\n",
       "County_Cork                                                      uint8\n",
       "County_Donegal                                                   uint8\n",
       "County_Dublin                                                    uint8\n",
       "County_Galway                                                    uint8\n",
       "County_Kerry                                                     uint8\n",
       "County_Kildare                                                   uint8\n",
       "County_Kilkenny                                                  uint8\n",
       "County_Laois                                                     uint8\n",
       "County_Leitrim                                                   uint8\n",
       "County_Limerick                                                  uint8\n",
       "County_Longford                                                  uint8\n",
       "County_Louth                                                     uint8\n",
       "County_Mayo                                                      uint8\n",
       "County_Meath                                                     uint8\n",
       "County_Monaghan                                                  uint8\n",
       "County_Offaly                                                    uint8\n",
       "County_Roscommon                                                 uint8\n",
       "County_Sligo                                                     uint8\n",
       "County_Tipperary                                                 uint8\n",
       "County_Waterford                                                 uint8\n",
       "County_Westmeath                                                 uint8\n",
       "County_Wexford                                                   uint8\n",
       "County_Wicklow                                                   uint8\n",
       "Description_of_Property_New Dwelling house /Apartment            uint8\n",
       "Description_of_Property_Second-Hand Dwelling house /Apartment    uint8\n",
       "Property_Size_Description_38 - 125                               uint8\n",
       "Property_Size_Description_< 38                                   uint8\n",
       "Property_Size_Description_>= 125                                 uint8\n",
       "Property_Size_Description_unknown                                uint8\n",
       "dtype: object"
      ]
     },
     "execution_count": 21,
     "metadata": {},
     "output_type": "execute_result"
    }
   ],
   "source": [
    "X_train.dtypes"
   ]
  },
  {
   "cell_type": "markdown",
   "metadata": {},
   "source": [
    "## Section 2: Linear Regression"
   ]
  },
  {
   "cell_type": "markdown",
   "metadata": {},
   "source": [
    "### Section 2.x: Train a linear regression model"
   ]
  },
  {
   "cell_type": "code",
   "execution_count": 22,
   "metadata": {},
   "outputs": [
    {
     "name": "stdout",
     "output_type": "stream",
     "text": [
      "\n",
      "Coeficients: \n",
      " [-1.31995827e+17 -1.31995827e+17 -1.31995827e+17 -1.31995827e+17\n",
      " -1.31995827e+17 -1.31995827e+17 -1.31995827e+17 -1.31995827e+17\n",
      " -1.31995827e+17 -1.31995827e+17 -1.31995827e+17 -1.31995827e+17\n",
      " -1.31995827e+17 -1.31995827e+17 -1.31995827e+17 -1.31995827e+17\n",
      " -1.31995827e+17 -1.31995827e+17 -1.31995827e+17 -1.31995827e+17\n",
      " -1.31995827e+17 -1.31995827e+17 -1.31995827e+17  1.19578752e+18\n",
      "  1.19578752e+18  1.19578752e+18  1.19578752e+18  1.19578752e+18\n",
      "  1.19578752e+18  1.19578752e+18  1.19578752e+18  1.19578752e+18\n",
      "  1.19578752e+18  1.19578752e+18  1.19578752e+18  1.19578752e+18\n",
      "  1.19578752e+18  1.19578752e+18  1.19578752e+18  1.19578752e+18\n",
      "  1.19578752e+18  1.19578752e+18  1.19578752e+18  1.19578752e+18\n",
      "  1.19578752e+18  1.19578752e+18  1.19578752e+18  1.19578752e+18\n",
      "  1.19578752e+18 -1.60968150e+18 -1.60968150e+18  1.43688839e+18\n",
      "  1.43688839e+18  1.43688839e+18  1.43688839e+18]\n",
      "\n",
      "Intercept: \n",
      " -8.909985743723323e+17\n"
     ]
    }
   ],
   "source": [
    "# Train, aka fit, a model using all continuous features.\n",
    "linreg = LinearRegression().fit(X_train, y_train)\n",
    "\n",
    "# Print the weights learned for each feature.\n",
    "print(\"\\nCoeficients: \\n\", linreg.coef_)\n",
    "print(\"\\nIntercept: \\n\", linreg.intercept_)"
   ]
  },
  {
   "cell_type": "code",
   "execution_count": 23,
   "metadata": {},
   "outputs": [
    {
     "data": {
      "text/html": [
       "<div>\n",
       "<style scoped>\n",
       "    .dataframe tbody tr th:only-of-type {\n",
       "        vertical-align: middle;\n",
       "    }\n",
       "\n",
       "    .dataframe tbody tr th {\n",
       "        vertical-align: top;\n",
       "    }\n",
       "\n",
       "    .dataframe thead th {\n",
       "        text-align: right;\n",
       "    }\n",
       "</style>\n",
       "<table border=\"1\" class=\"dataframe\">\n",
       "  <thead>\n",
       "    <tr style=\"text-align: right;\">\n",
       "      <th></th>\n",
       "      <th>coef</th>\n",
       "    </tr>\n",
       "    <tr>\n",
       "      <th>category</th>\n",
       "      <th></th>\n",
       "    </tr>\n",
       "  </thead>\n",
       "  <tbody>\n",
       "    <tr>\n",
       "      <th>Property_Size_Description_unknown</th>\n",
       "      <td>1.436888e+18</td>\n",
       "    </tr>\n",
       "    <tr>\n",
       "      <th>Property_Size_Description_&gt;= 125</th>\n",
       "      <td>1.436888e+18</td>\n",
       "    </tr>\n",
       "    <tr>\n",
       "      <th>Property_Size_Description_38 - 125</th>\n",
       "      <td>1.436888e+18</td>\n",
       "    </tr>\n",
       "    <tr>\n",
       "      <th>Property_Size_Description_&lt; 38</th>\n",
       "      <td>1.436888e+18</td>\n",
       "    </tr>\n",
       "    <tr>\n",
       "      <th>County_Dublin</th>\n",
       "      <td>1.195788e+18</td>\n",
       "    </tr>\n",
       "    <tr>\n",
       "      <th>County_Wicklow</th>\n",
       "      <td>1.195788e+18</td>\n",
       "    </tr>\n",
       "    <tr>\n",
       "      <th>County_Kildare</th>\n",
       "      <td>1.195788e+18</td>\n",
       "    </tr>\n",
       "    <tr>\n",
       "      <th>County_Meath</th>\n",
       "      <td>1.195788e+18</td>\n",
       "    </tr>\n",
       "    <tr>\n",
       "      <th>County_Cork</th>\n",
       "      <td>1.195788e+18</td>\n",
       "    </tr>\n",
       "    <tr>\n",
       "      <th>County_Galway</th>\n",
       "      <td>1.195788e+18</td>\n",
       "    </tr>\n",
       "    <tr>\n",
       "      <th>County_Clare</th>\n",
       "      <td>1.195788e+18</td>\n",
       "    </tr>\n",
       "    <tr>\n",
       "      <th>County_Waterford</th>\n",
       "      <td>1.195788e+18</td>\n",
       "    </tr>\n",
       "    <tr>\n",
       "      <th>County_Kilkenny</th>\n",
       "      <td>1.195788e+18</td>\n",
       "    </tr>\n",
       "    <tr>\n",
       "      <th>County_Louth</th>\n",
       "      <td>1.195788e+18</td>\n",
       "    </tr>\n",
       "    <tr>\n",
       "      <th>County_Limerick</th>\n",
       "      <td>1.195788e+18</td>\n",
       "    </tr>\n",
       "    <tr>\n",
       "      <th>County_Wexford</th>\n",
       "      <td>1.195788e+18</td>\n",
       "    </tr>\n",
       "    <tr>\n",
       "      <th>County_Carlow</th>\n",
       "      <td>1.195788e+18</td>\n",
       "    </tr>\n",
       "    <tr>\n",
       "      <th>County_Westmeath</th>\n",
       "      <td>1.195788e+18</td>\n",
       "    </tr>\n",
       "    <tr>\n",
       "      <th>County_Laois</th>\n",
       "      <td>1.195788e+18</td>\n",
       "    </tr>\n",
       "    <tr>\n",
       "      <th>County_Kerry</th>\n",
       "      <td>1.195788e+18</td>\n",
       "    </tr>\n",
       "    <tr>\n",
       "      <th>County_Tipperary</th>\n",
       "      <td>1.195788e+18</td>\n",
       "    </tr>\n",
       "    <tr>\n",
       "      <th>County_Cavan</th>\n",
       "      <td>1.195788e+18</td>\n",
       "    </tr>\n",
       "    <tr>\n",
       "      <th>County_Sligo</th>\n",
       "      <td>1.195788e+18</td>\n",
       "    </tr>\n",
       "    <tr>\n",
       "      <th>County_Offaly</th>\n",
       "      <td>1.195788e+18</td>\n",
       "    </tr>\n",
       "    <tr>\n",
       "      <th>County_Mayo</th>\n",
       "      <td>1.195788e+18</td>\n",
       "    </tr>\n",
       "    <tr>\n",
       "      <th>County_Monaghan</th>\n",
       "      <td>1.195788e+18</td>\n",
       "    </tr>\n",
       "    <tr>\n",
       "      <th>County_Donegal</th>\n",
       "      <td>1.195788e+18</td>\n",
       "    </tr>\n",
       "    <tr>\n",
       "      <th>County_Leitrim</th>\n",
       "      <td>1.195788e+18</td>\n",
       "    </tr>\n",
       "    <tr>\n",
       "      <th>County_Roscommon</th>\n",
       "      <td>1.195788e+18</td>\n",
       "    </tr>\n",
       "    <tr>\n",
       "      <th>County_Longford</th>\n",
       "      <td>1.195788e+18</td>\n",
       "    </tr>\n",
       "    <tr>\n",
       "      <th>Postal_Code_dublin 6</th>\n",
       "      <td>-1.319958e+17</td>\n",
       "    </tr>\n",
       "    <tr>\n",
       "      <th>Postal_Code_dublin 4</th>\n",
       "      <td>-1.319958e+17</td>\n",
       "    </tr>\n",
       "    <tr>\n",
       "      <th>Postal_Code_dublin 3</th>\n",
       "      <td>-1.319958e+17</td>\n",
       "    </tr>\n",
       "    <tr>\n",
       "      <th>Postal_Code_dublin 14</th>\n",
       "      <td>-1.319958e+17</td>\n",
       "    </tr>\n",
       "    <tr>\n",
       "      <th>Postal_Code_dublin 6w</th>\n",
       "      <td>-1.319958e+17</td>\n",
       "    </tr>\n",
       "    <tr>\n",
       "      <th>Postal_Code_dublin 2</th>\n",
       "      <td>-1.319958e+17</td>\n",
       "    </tr>\n",
       "    <tr>\n",
       "      <th>Postal_Code_dublin 18</th>\n",
       "      <td>-1.319958e+17</td>\n",
       "    </tr>\n",
       "    <tr>\n",
       "      <th>Postal_Code_dublin 16</th>\n",
       "      <td>-1.319958e+17</td>\n",
       "    </tr>\n",
       "    <tr>\n",
       "      <th>Postal_Code_dublin 13</th>\n",
       "      <td>-1.319958e+17</td>\n",
       "    </tr>\n",
       "    <tr>\n",
       "      <th>Postal_Code_dublin 5</th>\n",
       "      <td>-1.319958e+17</td>\n",
       "    </tr>\n",
       "    <tr>\n",
       "      <th>Postal_Code_unknown</th>\n",
       "      <td>-1.319958e+17</td>\n",
       "    </tr>\n",
       "    <tr>\n",
       "      <th>Postal_Code_dublin 9</th>\n",
       "      <td>-1.319958e+17</td>\n",
       "    </tr>\n",
       "    <tr>\n",
       "      <th>Postal_Code_dublin 15</th>\n",
       "      <td>-1.319958e+17</td>\n",
       "    </tr>\n",
       "    <tr>\n",
       "      <th>Postal_Code_dublin 8</th>\n",
       "      <td>-1.319958e+17</td>\n",
       "    </tr>\n",
       "    <tr>\n",
       "      <th>Postal_Code_dublin 1</th>\n",
       "      <td>-1.319958e+17</td>\n",
       "    </tr>\n",
       "    <tr>\n",
       "      <th>Postal_Code_dublin 7</th>\n",
       "      <td>-1.319958e+17</td>\n",
       "    </tr>\n",
       "    <tr>\n",
       "      <th>Postal_Code_dublin 22</th>\n",
       "      <td>-1.319958e+17</td>\n",
       "    </tr>\n",
       "    <tr>\n",
       "      <th>Postal_Code_dublin 20</th>\n",
       "      <td>-1.319958e+17</td>\n",
       "    </tr>\n",
       "    <tr>\n",
       "      <th>Postal_Code_dublin 24</th>\n",
       "      <td>-1.319958e+17</td>\n",
       "    </tr>\n",
       "    <tr>\n",
       "      <th>Postal_Code_dublin 12</th>\n",
       "      <td>-1.319958e+17</td>\n",
       "    </tr>\n",
       "    <tr>\n",
       "      <th>Postal_Code_dublin 11</th>\n",
       "      <td>-1.319958e+17</td>\n",
       "    </tr>\n",
       "    <tr>\n",
       "      <th>Postal_Code_dublin 17</th>\n",
       "      <td>-1.319958e+17</td>\n",
       "    </tr>\n",
       "    <tr>\n",
       "      <th>Postal_Code_dublin 10</th>\n",
       "      <td>-1.319958e+17</td>\n",
       "    </tr>\n",
       "    <tr>\n",
       "      <th>Description_of_Property_New Dwelling house /Apartment</th>\n",
       "      <td>-1.609682e+18</td>\n",
       "    </tr>\n",
       "    <tr>\n",
       "      <th>Description_of_Property_Second-Hand Dwelling house /Apartment</th>\n",
       "      <td>-1.609682e+18</td>\n",
       "    </tr>\n",
       "  </tbody>\n",
       "</table>\n",
       "</div>"
      ],
      "text/plain": [
       "                                                            coef\n",
       "category                                                        \n",
       "Property_Size_Description_unknown                   1.436888e+18\n",
       "Property_Size_Description_>= 125                    1.436888e+18\n",
       "Property_Size_Description_38 - 125                  1.436888e+18\n",
       "Property_Size_Description_< 38                      1.436888e+18\n",
       "County_Dublin                                       1.195788e+18\n",
       "County_Wicklow                                      1.195788e+18\n",
       "County_Kildare                                      1.195788e+18\n",
       "County_Meath                                        1.195788e+18\n",
       "County_Cork                                         1.195788e+18\n",
       "County_Galway                                       1.195788e+18\n",
       "County_Clare                                        1.195788e+18\n",
       "County_Waterford                                    1.195788e+18\n",
       "County_Kilkenny                                     1.195788e+18\n",
       "County_Louth                                        1.195788e+18\n",
       "County_Limerick                                     1.195788e+18\n",
       "County_Wexford                                      1.195788e+18\n",
       "County_Carlow                                       1.195788e+18\n",
       "County_Westmeath                                    1.195788e+18\n",
       "County_Laois                                        1.195788e+18\n",
       "County_Kerry                                        1.195788e+18\n",
       "County_Tipperary                                    1.195788e+18\n",
       "County_Cavan                                        1.195788e+18\n",
       "County_Sligo                                        1.195788e+18\n",
       "County_Offaly                                       1.195788e+18\n",
       "County_Mayo                                         1.195788e+18\n",
       "County_Monaghan                                     1.195788e+18\n",
       "County_Donegal                                      1.195788e+18\n",
       "County_Leitrim                                      1.195788e+18\n",
       "County_Roscommon                                    1.195788e+18\n",
       "County_Longford                                     1.195788e+18\n",
       "Postal_Code_dublin 6                               -1.319958e+17\n",
       "Postal_Code_dublin 4                               -1.319958e+17\n",
       "Postal_Code_dublin 3                               -1.319958e+17\n",
       "Postal_Code_dublin 14                              -1.319958e+17\n",
       "Postal_Code_dublin 6w                              -1.319958e+17\n",
       "Postal_Code_dublin 2                               -1.319958e+17\n",
       "Postal_Code_dublin 18                              -1.319958e+17\n",
       "Postal_Code_dublin 16                              -1.319958e+17\n",
       "Postal_Code_dublin 13                              -1.319958e+17\n",
       "Postal_Code_dublin 5                               -1.319958e+17\n",
       "Postal_Code_unknown                                -1.319958e+17\n",
       "Postal_Code_dublin 9                               -1.319958e+17\n",
       "Postal_Code_dublin 15                              -1.319958e+17\n",
       "Postal_Code_dublin 8                               -1.319958e+17\n",
       "Postal_Code_dublin 1                               -1.319958e+17\n",
       "Postal_Code_dublin 7                               -1.319958e+17\n",
       "Postal_Code_dublin 22                              -1.319958e+17\n",
       "Postal_Code_dublin 20                              -1.319958e+17\n",
       "Postal_Code_dublin 24                              -1.319958e+17\n",
       "Postal_Code_dublin 12                              -1.319958e+17\n",
       "Postal_Code_dublin 11                              -1.319958e+17\n",
       "Postal_Code_dublin 17                              -1.319958e+17\n",
       "Postal_Code_dublin 10                              -1.319958e+17\n",
       "Description_of_Property_New Dwelling house /Apa... -1.609682e+18\n",
       "Description_of_Property_Second-Hand Dwelling ho... -1.609682e+18"
      ]
     },
     "execution_count": 23,
     "metadata": {},
     "output_type": "execute_result"
    }
   ],
   "source": [
    "(pd.DataFrame({'coef':linreg.coef_, 'category':X_train.columns})\n",
    ".sort_values(by = 'coef', ascending = False)\n",
    ".set_index('category'))"
   ]
  },
  {
   "cell_type": "markdown",
   "metadata": {},
   "source": [
    "### Section 2.x: Interpretation of linear regression model"
   ]
  },
  {
   "cell_type": "markdown",
   "metadata": {},
   "source": []
  },
  {
   "cell_type": "markdown",
   "metadata": {},
   "source": [
    "### Section 2.x: Training set predictions"
   ]
  },
  {
   "cell_type": "code",
   "execution_count": 33,
   "metadata": {},
   "outputs": [],
   "source": [
    "## Get the predictions from the first 10 training examples\n",
    "first_10_x = X_train.head(10)"
   ]
  },
  {
   "cell_type": "code",
   "execution_count": 34,
   "metadata": {},
   "outputs": [
    {
     "data": {
      "text/plain": [
       "array([221184., 313856., 242176., 221184., 367872., 150528., 215040.,\n",
       "       377088., 221184., 184064.])"
      ]
     },
     "execution_count": 34,
     "metadata": {},
     "output_type": "execute_result"
    }
   ],
   "source": [
    "linreg.predict(first_10_x)"
   ]
  },
  {
   "cell_type": "code",
   "execution_count": 35,
   "metadata": {},
   "outputs": [
    {
     "data": {
      "text/plain": [
       "9249    206000.0\n",
       "984     352000.0\n",
       "7192    265000.0\n",
       "754     230000.0\n",
       "8760    260000.0\n",
       "4716     66500.0\n",
       "8864    100760.0\n",
       "83      259999.0\n",
       "5311     82500.0\n",
       "5117    152000.0\n",
       "Name: Price_€_VAT_incl, dtype: float64"
      ]
     },
     "execution_count": 35,
     "metadata": {},
     "output_type": "execute_result"
    }
   ],
   "source": [
    "y_train.head(10)"
   ]
  },
  {
   "cell_type": "markdown",
   "metadata": {},
   "source": [
    "Observations: Based on the first 10 rows of training data, our model seems to be able to predict some property prices reasonably accurately (within €10,000/€20,000). However, some predictions are inaccurate (> €100,000), which we deem unacceptable"
   ]
  },
  {
   "cell_type": "code",
   "execution_count": 49,
   "metadata": {},
   "outputs": [
    {
     "name": "stdout",
     "output_type": "stream",
     "text": [
      "R2 Score: 0.3293843709834884\n",
      "Mean Squared Error: 31113960251.62826\n",
      "Mean Absolute Error: 112947.45154515452\n"
     ]
    }
   ],
   "source": [
    "linreg_train_predictions = linreg.predict(X_train)\n",
    "print(f\"R2 Score: {r2_score(y_train, linreg_train_predictions)}\")\n",
    "print(f\"Mean Squared Error: {mean_squared_error(y_train, linreg_train_predictions)}\")\n",
    "print(f\"Mean Absolute Error: {mean_absolute_error(y_train, linreg_train_predictions)}\")"
   ]
  },
  {
   "cell_type": "markdown",
   "metadata": {},
   "source": [
    "### Section 2.x: Evaluation of linear regression model"
   ]
  },
  {
   "cell_type": "code",
   "execution_count": 37,
   "metadata": {},
   "outputs": [
    {
     "ename": "TypeError",
     "evalue": "accuracy_score() missing 1 required positional argument: 'y_pred'",
     "output_type": "error",
     "traceback": [
      "\u001b[1;31m---------------------------------------------------------------------------\u001b[0m",
      "\u001b[1;31mTypeError\u001b[0m                                 Traceback (most recent call last)",
      "\u001b[1;32mc:\\Users\\micha\\OneDrive - University College Dublin\\Documents\\1st Year Msc\\2nd Semester\\COMP47350 - Data Analytics\\Assignments\\Assignment_2\\17309836A2.ipynb Cell 57'\u001b[0m in \u001b[0;36m<cell line: 1>\u001b[1;34m()\u001b[0m\n\u001b[1;32m----> <a href='vscode-notebook-cell:/c%3A/Users/micha/OneDrive%20-%20University%20College%20Dublin/Documents/1st%20Year%20Msc/2nd%20Semester/COMP47350%20-%20Data%20Analytics/Assignments/Assignment_2/17309836A2.ipynb#ch0000070?line=0'>1</a>\u001b[0m accuracy_score(linreg)\n",
      "\u001b[1;31mTypeError\u001b[0m: accuracy_score() missing 1 required positional argument: 'y_pred'"
     ]
    }
   ],
   "source": []
  },
  {
   "cell_type": "markdown",
   "metadata": {},
   "source": [
    "## Section 3: Decision Trees"
   ]
  },
  {
   "cell_type": "markdown",
   "metadata": {},
   "source": [
    "### Section 3.x: Train a decision tree"
   ]
  },
  {
   "cell_type": "markdown",
   "metadata": {},
   "source": [
    "### Section 3.x: Interpretation of decision tree model"
   ]
  },
  {
   "cell_type": "markdown",
   "metadata": {},
   "source": [
    "### Section 3.x: Training set predictions"
   ]
  },
  {
   "cell_type": "markdown",
   "metadata": {},
   "source": [
    "### Section 3.x: Evaluation of Decision Tree"
   ]
  },
  {
   "cell_type": "markdown",
   "metadata": {},
   "source": [
    "## Section 4: Random Forest"
   ]
  },
  {
   "cell_type": "markdown",
   "metadata": {},
   "source": [
    "### Section 4.x: Train a Random Forest"
   ]
  },
  {
   "cell_type": "markdown",
   "metadata": {},
   "source": [
    "### Section 4.x: Interpretation of Random Forest"
   ]
  },
  {
   "cell_type": "markdown",
   "metadata": {},
   "source": [
    "### Section 4.x: Training set predictions"
   ]
  },
  {
   "cell_type": "markdown",
   "metadata": {},
   "source": [
    "### Section 4.x: Evaluation of Random Forest"
   ]
  },
  {
   "cell_type": "markdown",
   "metadata": {},
   "source": [
    "## Section 5: Improving Predictive Models"
   ]
  },
  {
   "cell_type": "markdown",
   "metadata": {},
   "source": [
    "### Section 5.x: Optimal model vs yearly average"
   ]
  },
  {
   "cell_type": "markdown",
   "metadata": {},
   "source": [
    "### Section 5.x: Problem understanding/improving optimal model"
   ]
  },
  {
   "cell_type": "markdown",
   "metadata": {},
   "source": [
    "### Section 5.x: Evaluation of unseen data"
   ]
  }
 ],
 "metadata": {
  "interpreter": {
   "hash": "684d9301ac9777e486c7e2086dc4c0279f3f1b82d09774547a1fa9de1c25b443"
  },
  "kernelspec": {
   "display_name": "Python 3.8.12 ('comp47350py38hw2')",
   "language": "python",
   "name": "python3"
  },
  "language_info": {
   "codemirror_mode": {
    "name": "ipython",
    "version": 3
   },
   "file_extension": ".py",
   "mimetype": "text/x-python",
   "name": "python",
   "nbconvert_exporter": "python",
   "pygments_lexer": "ipython3",
   "version": "3.8.12"
  },
  "orig_nbformat": 4
 },
 "nbformat": 4,
 "nbformat_minor": 2
}
