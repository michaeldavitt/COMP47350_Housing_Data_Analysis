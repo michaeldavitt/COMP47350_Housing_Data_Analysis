{
 "cells": [
  {
   "cell_type": "markdown",
   "metadata": {},
   "source": [
    "# Property Price Register - Machine Learning analysis"
   ]
  },
  {
   "cell_type": "markdown",
   "metadata": {},
   "source": [
    "## Section 0 - Initial Preparation"
   ]
  },
  {
   "cell_type": "markdown",
   "metadata": {},
   "source": [
    "### Section 0.1 - Import required modules"
   ]
  },
  {
   "cell_type": "code",
   "execution_count": 1,
   "metadata": {},
   "outputs": [],
   "source": [
    "import pandas as pd"
   ]
  },
  {
   "cell_type": "markdown",
   "metadata": {},
   "source": [
    "## Section 1 - Data Understanding and Preparation"
   ]
  },
  {
   "cell_type": "markdown",
   "metadata": {},
   "source": [
    "### Section 1.x - Introduction"
   ]
  },
  {
   "cell_type": "markdown",
   "metadata": {},
   "source": [
    "Our objective is to use a sample of the Residential Property Price Register (RPPR) to make inference about the price of houses in the Republic of Ireland. We will explore the dataset, transform the dataset appropriately, train various machine learning models using the dataset, validate these models, and perform tests for generalisability (how well does our final model predict house prices). "
   ]
  },
  {
   "cell_type": "markdown",
   "metadata": {},
   "source": [
    "Both the input and target features come from the RPPR, which is a dataset containing details of the sale of all residential properties purchased in Ireland since the 1st January 2010, as declared to the Revenue Commissioners for stamp duty purposes."
   ]
  },
  {
   "cell_type": "markdown",
   "metadata": {},
   "source": [
    "### Section 1.x - Read in the cleaned dataset"
   ]
  },
  {
   "cell_type": "code",
   "execution_count": 2,
   "metadata": {},
   "outputs": [],
   "source": [
    "df = pd.read_csv(\"cleaned_data.csv\")"
   ]
  },
  {
   "cell_type": "code",
   "execution_count": 3,
   "metadata": {},
   "outputs": [
    {
     "data": {
      "text/html": [
       "<div>\n",
       "<style scoped>\n",
       "    .dataframe tbody tr th:only-of-type {\n",
       "        vertical-align: middle;\n",
       "    }\n",
       "\n",
       "    .dataframe tbody tr th {\n",
       "        vertical-align: top;\n",
       "    }\n",
       "\n",
       "    .dataframe thead th {\n",
       "        text-align: right;\n",
       "    }\n",
       "</style>\n",
       "<table border=\"1\" class=\"dataframe\">\n",
       "  <thead>\n",
       "    <tr style=\"text-align: right;\">\n",
       "      <th></th>\n",
       "      <th>Postal_Code</th>\n",
       "      <th>County</th>\n",
       "      <th>Price_€_VAT_incl</th>\n",
       "      <th>Description_of_Property</th>\n",
       "      <th>Property_Size_Description</th>\n",
       "      <th>Month_of_Sale</th>\n",
       "      <th>Quarter_of_Sale</th>\n",
       "    </tr>\n",
       "  </thead>\n",
       "  <tbody>\n",
       "    <tr>\n",
       "      <th>0</th>\n",
       "      <td>unknown</td>\n",
       "      <td>Roscommon</td>\n",
       "      <td>180000.0</td>\n",
       "      <td>Second-Hand Dwelling house /Apartment</td>\n",
       "      <td>unknown</td>\n",
       "      <td>May</td>\n",
       "      <td>2</td>\n",
       "    </tr>\n",
       "    <tr>\n",
       "      <th>1</th>\n",
       "      <td>unknown</td>\n",
       "      <td>Kilkenny</td>\n",
       "      <td>73500.0</td>\n",
       "      <td>Second-Hand Dwelling house /Apartment</td>\n",
       "      <td>unknown</td>\n",
       "      <td>September</td>\n",
       "      <td>3</td>\n",
       "    </tr>\n",
       "    <tr>\n",
       "      <th>2</th>\n",
       "      <td>dublin 15</td>\n",
       "      <td>Dublin</td>\n",
       "      <td>280000.0</td>\n",
       "      <td>Second-Hand Dwelling house /Apartment</td>\n",
       "      <td>unknown</td>\n",
       "      <td>September</td>\n",
       "      <td>3</td>\n",
       "    </tr>\n",
       "    <tr>\n",
       "      <th>3</th>\n",
       "      <td>unknown</td>\n",
       "      <td>Louth</td>\n",
       "      <td>205000.0</td>\n",
       "      <td>Second-Hand Dwelling house /Apartment</td>\n",
       "      <td>unknown</td>\n",
       "      <td>August</td>\n",
       "      <td>3</td>\n",
       "    </tr>\n",
       "    <tr>\n",
       "      <th>4</th>\n",
       "      <td>dublin 9</td>\n",
       "      <td>Dublin</td>\n",
       "      <td>282500.0</td>\n",
       "      <td>Second-Hand Dwelling house /Apartment</td>\n",
       "      <td>unknown</td>\n",
       "      <td>August</td>\n",
       "      <td>3</td>\n",
       "    </tr>\n",
       "  </tbody>\n",
       "</table>\n",
       "</div>"
      ],
      "text/plain": [
       "  Postal_Code     County  Price_€_VAT_incl  \\\n",
       "0     unknown  Roscommon          180000.0   \n",
       "1     unknown   Kilkenny           73500.0   \n",
       "2   dublin 15     Dublin          280000.0   \n",
       "3     unknown      Louth          205000.0   \n",
       "4    dublin 9     Dublin          282500.0   \n",
       "\n",
       "                 Description_of_Property Property_Size_Description  \\\n",
       "0  Second-Hand Dwelling house /Apartment                   unknown   \n",
       "1  Second-Hand Dwelling house /Apartment                   unknown   \n",
       "2  Second-Hand Dwelling house /Apartment                   unknown   \n",
       "3  Second-Hand Dwelling house /Apartment                   unknown   \n",
       "4  Second-Hand Dwelling house /Apartment                   unknown   \n",
       "\n",
       "  Month_of_Sale  Quarter_of_Sale  \n",
       "0           May                2  \n",
       "1     September                3  \n",
       "2     September                3  \n",
       "3        August                3  \n",
       "4        August                3  "
      ]
     },
     "execution_count": 3,
     "metadata": {},
     "output_type": "execute_result"
    }
   ],
   "source": [
    "df.head()"
   ]
  },
  {
   "cell_type": "markdown",
   "metadata": {},
   "source": [
    "### Section 1.x: Change the data types"
   ]
  },
  {
   "cell_type": "code",
   "execution_count": 4,
   "metadata": {},
   "outputs": [
    {
     "data": {
      "text/plain": [
       "Postal_Code                   object\n",
       "County                        object\n",
       "Price_€_VAT_incl             float64\n",
       "Description_of_Property       object\n",
       "Property_Size_Description     object\n",
       "Month_of_Sale                 object\n",
       "Quarter_of_Sale                int64\n",
       "dtype: object"
      ]
     },
     "execution_count": 4,
     "metadata": {},
     "output_type": "execute_result"
    }
   ],
   "source": [
    "df.dtypes"
   ]
  },
  {
   "cell_type": "code",
   "execution_count": 5,
   "metadata": {},
   "outputs": [],
   "source": [
    "df[\"Price_€_VAT_incl\"] = df[\"Price_€_VAT_incl\"].astype(float)"
   ]
  },
  {
   "cell_type": "code",
   "execution_count": 6,
   "metadata": {},
   "outputs": [],
   "source": [
    "df[\"Quarter_of_Sale\"] = df[\"Quarter_of_Sale\"].astype(\"category\")"
   ]
  },
  {
   "cell_type": "code",
   "execution_count": 7,
   "metadata": {},
   "outputs": [
    {
     "data": {
      "text/plain": [
       "Postal_Code                  category\n",
       "County                       category\n",
       "Price_€_VAT_incl              float64\n",
       "Description_of_Property      category\n",
       "Property_Size_Description    category\n",
       "Month_of_Sale                category\n",
       "Quarter_of_Sale              category\n",
       "dtype: object"
      ]
     },
     "execution_count": 7,
     "metadata": {},
     "output_type": "execute_result"
    }
   ],
   "source": [
    "# Select all columns of type 'object'\n",
    "object_columns = df.select_dtypes(['object']).columns\n",
    "\n",
    "# Convert selected columns to type 'category'\n",
    "for column in object_columns:\n",
    "    df[column] = df[column].astype('category')\n",
    "df.dtypes"
   ]
  },
  {
   "cell_type": "markdown",
   "metadata": {},
   "source": [
    "### Section 1.x - Shuffle dataset rows and split dataset into separate training and test datasets"
   ]
  },
  {
   "cell_type": "markdown",
   "metadata": {},
   "source": [
    "The training dataset will be used for model construction and validation. The test dataset will be used at the very end of our analysis to test the generalisability of our final model."
   ]
  },
  {
   "cell_type": "code",
   "execution_count": null,
   "metadata": {},
   "outputs": [],
   "source": []
  }
 ],
 "metadata": {
  "interpreter": {
   "hash": "684d9301ac9777e486c7e2086dc4c0279f3f1b82d09774547a1fa9de1c25b443"
  },
  "kernelspec": {
   "display_name": "Python 3.8.12 ('comp47350py38hw2')",
   "language": "python",
   "name": "python3"
  },
  "language_info": {
   "codemirror_mode": {
    "name": "ipython",
    "version": 3
   },
   "file_extension": ".py",
   "mimetype": "text/x-python",
   "name": "python",
   "nbconvert_exporter": "python",
   "pygments_lexer": "ipython3",
   "version": "3.8.12"
  },
  "orig_nbformat": 4
 },
 "nbformat": 4,
 "nbformat_minor": 2
}
