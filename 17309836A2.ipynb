{
 "cells": [
  {
   "cell_type": "markdown",
   "metadata": {},
   "source": [
    "# Property Price Register - Machine Learning analysis"
   ]
  },
  {
   "cell_type": "markdown",
   "metadata": {},
   "source": [
    "## Section 0 - Initial Preparation"
   ]
  },
  {
   "cell_type": "markdown",
   "metadata": {},
   "source": [
    "### Section 0.1 - Import required modules"
   ]
  },
  {
   "cell_type": "code",
   "execution_count": 1,
   "metadata": {},
   "outputs": [],
   "source": [
    "import pandas as pd\n",
    "import matplotlib.pyplot as plt\n",
    "\n",
    "from sklearn.model_selection import train_test_split\n",
    "from sklearn.linear_model import LinearRegression\n",
    "from sklearn.tree import export_graphviz\n",
    "\n",
    "from sklearn.tree import DecisionTreeClassifier\n",
    "from sklearn.ensemble import RandomForestClassifier\n",
    "from sklearn.metrics import r2_score, mean_absolute_error, mean_squared_error\n",
    "\n",
    "from sklearn.model_selection import cross_validate\n",
    "from sklearn.model_selection import cross_val_score \n",
    "\n",
    "# import graphviz\n",
    "# from graphviz import Source\n",
    "import pydot\n",
    "from IPython.display import Image, display\n",
    "\n",
    "%matplotlib inline"
   ]
  },
  {
   "cell_type": "markdown",
   "metadata": {},
   "source": [
    "## Section 1 - Data Understanding and Preparation"
   ]
  },
  {
   "cell_type": "markdown",
   "metadata": {},
   "source": [
    "### Section 1.x - Introduction"
   ]
  },
  {
   "cell_type": "markdown",
   "metadata": {},
   "source": [
    "Our objective is to use a sample of the Residential Property Price Register (RPPR) to make inference about the price of houses in the Republic of Ireland. We will explore the dataset, transform the dataset appropriately, train various machine learning models using the dataset, validate these models, and perform tests for generalisability (how well does our final model predict house prices). "
   ]
  },
  {
   "cell_type": "markdown",
   "metadata": {},
   "source": [
    "Both the input and target features come from the RPPR, which is a dataset containing details of the sale of all residential properties purchased in Ireland since the 1st January 2010, as declared to the Revenue Commissioners for stamp duty purposes."
   ]
  },
  {
   "cell_type": "markdown",
   "metadata": {},
   "source": [
    "### Section 1.x - Read in the cleaned dataset"
   ]
  },
  {
   "cell_type": "code",
   "execution_count": 2,
   "metadata": {},
   "outputs": [],
   "source": [
    "df = pd.read_csv(\"cleaned_data.csv\")"
   ]
  },
  {
   "cell_type": "code",
   "execution_count": 3,
   "metadata": {},
   "outputs": [
    {
     "data": {
      "text/html": [
       "<div>\n",
       "<style scoped>\n",
       "    .dataframe tbody tr th:only-of-type {\n",
       "        vertical-align: middle;\n",
       "    }\n",
       "\n",
       "    .dataframe tbody tr th {\n",
       "        vertical-align: top;\n",
       "    }\n",
       "\n",
       "    .dataframe thead th {\n",
       "        text-align: right;\n",
       "    }\n",
       "</style>\n",
       "<table border=\"1\" class=\"dataframe\">\n",
       "  <thead>\n",
       "    <tr style=\"text-align: right;\">\n",
       "      <th></th>\n",
       "      <th>Date_of_Sale</th>\n",
       "      <th>Postal_Code</th>\n",
       "      <th>County</th>\n",
       "      <th>Price_€_VAT_incl</th>\n",
       "      <th>Description_of_Property</th>\n",
       "      <th>Property_Size_Description</th>\n",
       "      <th>Month_of_Sale</th>\n",
       "      <th>Quarter_of_Sale</th>\n",
       "    </tr>\n",
       "  </thead>\n",
       "  <tbody>\n",
       "    <tr>\n",
       "      <th>0</th>\n",
       "      <td>2020-05-21</td>\n",
       "      <td>unknown</td>\n",
       "      <td>Roscommon</td>\n",
       "      <td>180000.0</td>\n",
       "      <td>Second-Hand Dwelling house /Apartment</td>\n",
       "      <td>unknown</td>\n",
       "      <td>May</td>\n",
       "      <td>2</td>\n",
       "    </tr>\n",
       "    <tr>\n",
       "      <th>1</th>\n",
       "      <td>2011-09-08</td>\n",
       "      <td>unknown</td>\n",
       "      <td>Kilkenny</td>\n",
       "      <td>73500.0</td>\n",
       "      <td>Second-Hand Dwelling house /Apartment</td>\n",
       "      <td>unknown</td>\n",
       "      <td>September</td>\n",
       "      <td>3</td>\n",
       "    </tr>\n",
       "    <tr>\n",
       "      <th>2</th>\n",
       "      <td>2021-09-24</td>\n",
       "      <td>dublin 15</td>\n",
       "      <td>Dublin</td>\n",
       "      <td>280000.0</td>\n",
       "      <td>Second-Hand Dwelling house /Apartment</td>\n",
       "      <td>unknown</td>\n",
       "      <td>September</td>\n",
       "      <td>3</td>\n",
       "    </tr>\n",
       "    <tr>\n",
       "      <th>3</th>\n",
       "      <td>2021-08-18</td>\n",
       "      <td>unknown</td>\n",
       "      <td>Louth</td>\n",
       "      <td>205000.0</td>\n",
       "      <td>Second-Hand Dwelling house /Apartment</td>\n",
       "      <td>unknown</td>\n",
       "      <td>August</td>\n",
       "      <td>3</td>\n",
       "    </tr>\n",
       "    <tr>\n",
       "      <th>4</th>\n",
       "      <td>2013-08-02</td>\n",
       "      <td>dublin 9</td>\n",
       "      <td>Dublin</td>\n",
       "      <td>282500.0</td>\n",
       "      <td>Second-Hand Dwelling house /Apartment</td>\n",
       "      <td>unknown</td>\n",
       "      <td>August</td>\n",
       "      <td>3</td>\n",
       "    </tr>\n",
       "  </tbody>\n",
       "</table>\n",
       "</div>"
      ],
      "text/plain": [
       "  Date_of_Sale Postal_Code     County  Price_€_VAT_incl  \\\n",
       "0   2020-05-21     unknown  Roscommon          180000.0   \n",
       "1   2011-09-08     unknown   Kilkenny           73500.0   \n",
       "2   2021-09-24   dublin 15     Dublin          280000.0   \n",
       "3   2021-08-18     unknown      Louth          205000.0   \n",
       "4   2013-08-02    dublin 9     Dublin          282500.0   \n",
       "\n",
       "                 Description_of_Property Property_Size_Description  \\\n",
       "0  Second-Hand Dwelling house /Apartment                   unknown   \n",
       "1  Second-Hand Dwelling house /Apartment                   unknown   \n",
       "2  Second-Hand Dwelling house /Apartment                   unknown   \n",
       "3  Second-Hand Dwelling house /Apartment                   unknown   \n",
       "4  Second-Hand Dwelling house /Apartment                   unknown   \n",
       "\n",
       "  Month_of_Sale  Quarter_of_Sale  \n",
       "0           May                2  \n",
       "1     September                3  \n",
       "2     September                3  \n",
       "3        August                3  \n",
       "4        August                3  "
      ]
     },
     "execution_count": 3,
     "metadata": {},
     "output_type": "execute_result"
    }
   ],
   "source": [
    "df.head()"
   ]
  },
  {
   "cell_type": "markdown",
   "metadata": {},
   "source": [
    "### Section 1.x: Change the data types"
   ]
  },
  {
   "cell_type": "code",
   "execution_count": 4,
   "metadata": {},
   "outputs": [
    {
     "data": {
      "text/plain": [
       "Date_of_Sale                  object\n",
       "Postal_Code                   object\n",
       "County                        object\n",
       "Price_€_VAT_incl             float64\n",
       "Description_of_Property       object\n",
       "Property_Size_Description     object\n",
       "Month_of_Sale                 object\n",
       "Quarter_of_Sale                int64\n",
       "dtype: object"
      ]
     },
     "execution_count": 4,
     "metadata": {},
     "output_type": "execute_result"
    }
   ],
   "source": [
    "df.dtypes"
   ]
  },
  {
   "cell_type": "code",
   "execution_count": 5,
   "metadata": {},
   "outputs": [],
   "source": [
    "# Change the price variable to a float\n",
    "df[\"Price_€_VAT_incl\"] = df[\"Price_€_VAT_incl\"].astype(float)"
   ]
  },
  {
   "cell_type": "code",
   "execution_count": 6,
   "metadata": {},
   "outputs": [],
   "source": [
    "# Change the date of sale variable to a datetime variable\n",
    "df[\"Date_of_Sale\"] = pd.to_datetime(df[\"Date_of_Sale\"], format=\"%Y-%m-%d\")"
   ]
  },
  {
   "cell_type": "code",
   "execution_count": 7,
   "metadata": {},
   "outputs": [],
   "source": [
    "# Change the quarter of sale variable to an object\n",
    "# This is so that it can be turned into a categorical variable in the next cell\n",
    "df[\"Quarter_of_Sale\"] = df[\"Quarter_of_Sale\"].astype(\"object\")"
   ]
  },
  {
   "cell_type": "code",
   "execution_count": 8,
   "metadata": {},
   "outputs": [
    {
     "data": {
      "text/plain": [
       "Date_of_Sale                 datetime64[ns]\n",
       "Postal_Code                        category\n",
       "County                             category\n",
       "Price_€_VAT_incl                    float64\n",
       "Description_of_Property            category\n",
       "Property_Size_Description          category\n",
       "Month_of_Sale                      category\n",
       "Quarter_of_Sale                    category\n",
       "dtype: object"
      ]
     },
     "execution_count": 8,
     "metadata": {},
     "output_type": "execute_result"
    }
   ],
   "source": [
    "# Select all columns of type 'object'\n",
    "object_columns = df.select_dtypes(['object']).columns\n",
    "\n",
    "# Convert selected columns to type 'category'\n",
    "for column in object_columns:\n",
    "    df[column] = df[column].astype('category')\n",
    "df.dtypes"
   ]
  },
  {
   "cell_type": "markdown",
   "metadata": {},
   "source": [
    "### Section 1.x - Shuffle dataset rows and split dataset into separate training and test datasets"
   ]
  },
  {
   "cell_type": "markdown",
   "metadata": {},
   "source": [
    "The training dataset will be used for model construction and validation. The test dataset will be used at the very end of our analysis to test the generalisability of our final model."
   ]
  },
  {
   "cell_type": "code",
   "execution_count": 9,
   "metadata": {},
   "outputs": [],
   "source": [
    "# The input variables will be all columns except for price and date of sale\n",
    "X = df.drop([\"Price_€_VAT_incl\", \"Date_of_Sale\"], axis=1)\n",
    "\n",
    "# The target variable will be property price\n",
    "y = df[\"Price_€_VAT_incl\"]\n",
    "\n",
    "# We will use 70% of the data for model training, and the rest for model evaluation\n",
    "X_train, X_test, y_train, y_test = train_test_split(X, y, test_size=0.3, random_state=4)"
   ]
  },
  {
   "cell_type": "markdown",
   "metadata": {},
   "source": [
    "### Section 1.x: Categorical feature plots"
   ]
  },
  {
   "cell_type": "markdown",
   "metadata": {},
   "source": [
    "#### Section 1.x.x: Postal_Code vs Price "
   ]
  },
  {
   "cell_type": "code",
   "execution_count": 10,
   "metadata": {},
   "outputs": [
    {
     "data": {
      "text/plain": [
       "<Figure size 432x288 with 0 Axes>"
      ]
     },
     "metadata": {},
     "output_type": "display_data"
    },
    {
     "data": {
      "image/png": "[encoded data removed]",
      "text/plain": [
       "<Figure size 720x504 with 1 Axes>"
      ]
     },
     "metadata": {
      "needs_background": "light"
     },
     "output_type": "display_data"
    }
   ],
   "source": [
    "plt.figure()\n",
    "flierprops = dict(marker='o', markerfacecolor='green', markersize=6,\n",
    "                  linestyle='none')\n",
    "df.boxplot(column=['Price_€_VAT_incl'], by=['Postal_Code'], flierprops=flierprops, figsize=(10,7))\n",
    "plt.xticks(rotation=45);\n",
    "plt.tight_layout()"
   ]
  },
  {
   "cell_type": "markdown",
   "metadata": {},
   "source": [
    "#### Section 1.x.x: County vs Price"
   ]
  },
  {
   "cell_type": "code",
   "execution_count": 11,
   "metadata": {},
   "outputs": [
    {
     "data": {
      "text/plain": [
       "<Figure size 432x288 with 0 Axes>"
      ]
     },
     "metadata": {},
     "output_type": "display_data"
    },
    {
     "data": {
      "image/png": "[encoded data removed]",
      "text/plain": [
       "<Figure size 720x504 with 1 Axes>"
      ]
     },
     "metadata": {
      "needs_background": "light"
     },
     "output_type": "display_data"
    }
   ],
   "source": [
    "plt.figure()\n",
    "flierprops = dict(marker='o', markerfacecolor='green', markersize=6,\n",
    "                  linestyle='none')\n",
    "df.boxplot(column=['Price_€_VAT_incl'], by=['County'], flierprops=flierprops, figsize=(10,7))\n",
    "plt.xticks(rotation=45);\n",
    "plt.tight_layout()"
   ]
  },
  {
   "cell_type": "markdown",
   "metadata": {},
   "source": [
    "#### Section 1.x.x: Description of Property vs Price"
   ]
  },
  {
   "cell_type": "code",
   "execution_count": 12,
   "metadata": {},
   "outputs": [
    {
     "data": {
      "text/plain": [
       "<Figure size 432x288 with 0 Axes>"
      ]
     },
     "metadata": {},
     "output_type": "display_data"
    },
    {
     "data": {
      "image/png": "[encoded data removed]",
      "text/plain": [
       "<Figure size 720x504 with 1 Axes>"
      ]
     },
     "metadata": {
      "needs_background": "light"
     },
     "output_type": "display_data"
    }
   ],
   "source": [
    "plt.figure()\n",
    "flierprops = dict(marker='o', markerfacecolor='green', markersize=6,\n",
    "                  linestyle='none')\n",
    "df.boxplot(column=['Price_€_VAT_incl'], by=['Description_of_Property'], flierprops=flierprops, figsize=(10,7))\n",
    "plt.xticks(rotation=45);\n",
    "plt.tight_layout()"
   ]
  },
  {
   "cell_type": "markdown",
   "metadata": {},
   "source": [
    "#### Section 1.x.x: Property Size Description vs Price"
   ]
  },
  {
   "cell_type": "code",
   "execution_count": 13,
   "metadata": {},
   "outputs": [
    {
     "data": {
      "text/plain": [
       "<Figure size 432x288 with 0 Axes>"
      ]
     },
     "metadata": {},
     "output_type": "display_data"
    },
    {
     "data": {
      "image/png": "[encoded data removed]",
      "text/plain": [
       "<Figure size 720x504 with 1 Axes>"
      ]
     },
     "metadata": {
      "needs_background": "light"
     },
     "output_type": "display_data"
    }
   ],
   "source": [
    "plt.figure()\n",
    "flierprops = dict(marker='o', markerfacecolor='green', markersize=6,\n",
    "                  linestyle='none')\n",
    "df.boxplot(column=['Price_€_VAT_incl'], by=['Property_Size_Description'], flierprops=flierprops, figsize=(10,7))\n",
    "plt.xticks(rotation=45);\n",
    "plt.tight_layout()"
   ]
  },
  {
   "cell_type": "markdown",
   "metadata": {},
   "source": [
    "#### Section 1.x.x: Month of Sale vs Price"
   ]
  },
  {
   "cell_type": "code",
   "execution_count": 14,
   "metadata": {},
   "outputs": [
    {
     "data": {
      "text/plain": [
       "<Figure size 432x288 with 0 Axes>"
      ]
     },
     "metadata": {},
     "output_type": "display_data"
    },
    {
     "data": {
      "image/png": "[encoded data removed]",
      "text/plain": [
       "<Figure size 720x504 with 1 Axes>"
      ]
     },
     "metadata": {
      "needs_background": "light"
     },
     "output_type": "display_data"
    }
   ],
   "source": [
    "plt.figure()\n",
    "flierprops = dict(marker='o', markerfacecolor='green', markersize=6,\n",
    "                  linestyle='none')\n",
    "df.boxplot(column=['Price_€_VAT_incl'], by=['Month_of_Sale'], flierprops=flierprops, figsize=(10,7))\n",
    "plt.xticks(rotation=45);\n",
    "plt.tight_layout()"
   ]
  },
  {
   "cell_type": "markdown",
   "metadata": {},
   "source": [
    "#### Section 1.x.x: Quarter of Sale vs Price"
   ]
  },
  {
   "cell_type": "code",
   "execution_count": 15,
   "metadata": {},
   "outputs": [
    {
     "data": {
      "text/plain": [
       "<Figure size 432x288 with 0 Axes>"
      ]
     },
     "metadata": {},
     "output_type": "display_data"
    },
    {
     "data": {
      "image/png": "[encoded data removed]",
      "text/plain": [
       "<Figure size 720x504 with 1 Axes>"
      ]
     },
     "metadata": {
      "needs_background": "light"
     },
     "output_type": "display_data"
    }
   ],
   "source": [
    "plt.figure()\n",
    "flierprops = dict(marker='o', markerfacecolor='green', markersize=6,\n",
    "                  linestyle='none')\n",
    "df.boxplot(column=['Price_€_VAT_incl'], by=['Quarter_of_Sale'], flierprops=flierprops, figsize=(10,7))\n",
    "plt.xticks(rotation=45);\n",
    "plt.tight_layout()"
   ]
  },
  {
   "cell_type": "markdown",
   "metadata": {},
   "source": [
    "Observations: All features seem as though they have some relationship with the price feature (with the exception of month of sale and quarter of sale. The distribution of price values does not appear to vary according as month/quarter varies). We can conclude from this that all variables except month of sale and quarter of sale should be dropped from our final model"
   ]
  },
  {
   "cell_type": "markdown",
   "metadata": {},
   "source": [
    "#### Section 1.x.x: Drop unused features"
   ]
  },
  {
   "cell_type": "code",
   "execution_count": 16,
   "metadata": {},
   "outputs": [],
   "source": [
    "X_train.drop([\"Month_of_Sale\", \"Quarter_of_Sale\"], axis=1, inplace=True)\n",
    "X_test.drop([\"Month_of_Sale\", \"Quarter_of_Sale\"], axis=1, inplace=True)"
   ]
  },
  {
   "cell_type": "markdown",
   "metadata": {},
   "source": [
    "### Section 1.x - Reencode categorical variables"
   ]
  },
  {
   "cell_type": "code",
   "execution_count": 17,
   "metadata": {},
   "outputs": [],
   "source": [
    "category_columns = X_train.select_dtypes(['category']).columns\n",
    "\n",
    "for each in category_columns:\n",
    "    dummies = pd.get_dummies(X_train[each], prefix=each, drop_first = True)\n",
    "    X_train = pd.concat([X_train, dummies], axis=1)\n",
    "X_train = X_train.drop(category_columns, axis=1)\n",
    "\n",
    "for each in category_columns:\n",
    "    dummies = pd.get_dummies(X_test[each], prefix=each, drop_first = True)\n",
    "    X_test = pd.concat([X_test, dummies], axis=1)\n",
    "X_test = X_test.drop(category_columns, axis=1)"
   ]
  },
  {
   "cell_type": "markdown",
   "metadata": {},
   "source": [
    "## Section 2: Linear Regression"
   ]
  },
  {
   "cell_type": "markdown",
   "metadata": {},
   "source": [
    "### Section 2.x: Train a linear regression model"
   ]
  },
  {
   "cell_type": "code",
   "execution_count": 18,
   "metadata": {},
   "outputs": [],
   "source": [
    "# Train, aka fit, a model using all continuous features.\n",
    "linreg = LinearRegression().fit(X_train, y_train)"
   ]
  },
  {
   "cell_type": "code",
   "execution_count": 19,
   "metadata": {},
   "outputs": [
    {
     "data": {
      "text/html": [
       "<div>\n",
       "<style scoped>\n",
       "    .dataframe tbody tr th:only-of-type {\n",
       "        vertical-align: middle;\n",
       "    }\n",
       "\n",
       "    .dataframe tbody tr th {\n",
       "        vertical-align: top;\n",
       "    }\n",
       "\n",
       "    .dataframe thead th {\n",
       "        text-align: right;\n",
       "    }\n",
       "</style>\n",
       "<table border=\"1\" class=\"dataframe\">\n",
       "  <thead>\n",
       "    <tr style=\"text-align: right;\">\n",
       "      <th></th>\n",
       "      <th>coef</th>\n",
       "    </tr>\n",
       "    <tr>\n",
       "      <th>category</th>\n",
       "      <th></th>\n",
       "    </tr>\n",
       "  </thead>\n",
       "  <tbody>\n",
       "    <tr>\n",
       "      <th>Postal_Code_dublin 6</th>\n",
       "      <td>360711.324014</td>\n",
       "    </tr>\n",
       "    <tr>\n",
       "      <th>Postal_Code_dublin 4</th>\n",
       "      <td>269247.767293</td>\n",
       "    </tr>\n",
       "    <tr>\n",
       "      <th>County_Dublin</th>\n",
       "      <td>232910.067935</td>\n",
       "    </tr>\n",
       "    <tr>\n",
       "      <th>Postal_Code_dublin 3</th>\n",
       "      <td>221238.236578</td>\n",
       "    </tr>\n",
       "    <tr>\n",
       "      <th>Postal_Code_dublin 14</th>\n",
       "      <td>214253.224484</td>\n",
       "    </tr>\n",
       "    <tr>\n",
       "      <th>Postal_Code_dublin 6w</th>\n",
       "      <td>195917.466226</td>\n",
       "    </tr>\n",
       "    <tr>\n",
       "      <th>Postal_Code_dublin 18</th>\n",
       "      <td>171512.939003</td>\n",
       "    </tr>\n",
       "    <tr>\n",
       "      <th>Postal_Code_dublin 2</th>\n",
       "      <td>167089.657116</td>\n",
       "    </tr>\n",
       "    <tr>\n",
       "      <th>County_Wicklow</th>\n",
       "      <td>158942.607573</td>\n",
       "    </tr>\n",
       "    <tr>\n",
       "      <th>Postal_Code_dublin 16</th>\n",
       "      <td>153022.277608</td>\n",
       "    </tr>\n",
       "    <tr>\n",
       "      <th>Property_Size_Description_unknown</th>\n",
       "      <td>141150.419751</td>\n",
       "    </tr>\n",
       "    <tr>\n",
       "      <th>Postal_Code_dublin 13</th>\n",
       "      <td>136214.398011</td>\n",
       "    </tr>\n",
       "    <tr>\n",
       "      <th>Property_Size_Description_&gt;= 125</th>\n",
       "      <td>131521.179431</td>\n",
       "    </tr>\n",
       "    <tr>\n",
       "      <th>County_Kildare</th>\n",
       "      <td>97572.935982</td>\n",
       "    </tr>\n",
       "    <tr>\n",
       "      <th>Postal_Code_unknown</th>\n",
       "      <td>85556.471829</td>\n",
       "    </tr>\n",
       "    <tr>\n",
       "      <th>Postal_Code_dublin 5</th>\n",
       "      <td>79139.965472</td>\n",
       "    </tr>\n",
       "    <tr>\n",
       "      <th>County_Meath</th>\n",
       "      <td>77269.640324</td>\n",
       "    </tr>\n",
       "    <tr>\n",
       "      <th>Postal_Code_dublin 9</th>\n",
       "      <td>65983.935947</td>\n",
       "    </tr>\n",
       "    <tr>\n",
       "      <th>County_Cork</th>\n",
       "      <td>59447.918993</td>\n",
       "    </tr>\n",
       "    <tr>\n",
       "      <th>County_Galway</th>\n",
       "      <td>49444.692450</td>\n",
       "    </tr>\n",
       "    <tr>\n",
       "      <th>County_Waterford</th>\n",
       "      <td>23877.240676</td>\n",
       "    </tr>\n",
       "    <tr>\n",
       "      <th>County_Kilkenny</th>\n",
       "      <td>19372.317695</td>\n",
       "    </tr>\n",
       "    <tr>\n",
       "      <th>County_Louth</th>\n",
       "      <td>18446.630245</td>\n",
       "    </tr>\n",
       "    <tr>\n",
       "      <th>Postal_Code_dublin 15</th>\n",
       "      <td>17887.307277</td>\n",
       "    </tr>\n",
       "    <tr>\n",
       "      <th>County_Limerick</th>\n",
       "      <td>13645.267132</td>\n",
       "    </tr>\n",
       "    <tr>\n",
       "      <th>County_Westmeath</th>\n",
       "      <td>5302.730686</td>\n",
       "    </tr>\n",
       "    <tr>\n",
       "      <th>County_Clare</th>\n",
       "      <td>5211.713770</td>\n",
       "    </tr>\n",
       "    <tr>\n",
       "      <th>Postal_Code_dublin 7</th>\n",
       "      <td>3074.457506</td>\n",
       "    </tr>\n",
       "    <tr>\n",
       "      <th>County_Wexford</th>\n",
       "      <td>2670.227241</td>\n",
       "    </tr>\n",
       "    <tr>\n",
       "      <th>County_Kerry</th>\n",
       "      <td>-202.354509</td>\n",
       "    </tr>\n",
       "    <tr>\n",
       "      <th>Postal_Code_dublin 8</th>\n",
       "      <td>-7125.374043</td>\n",
       "    </tr>\n",
       "    <tr>\n",
       "      <th>County_Laois</th>\n",
       "      <td>-8551.663841</td>\n",
       "    </tr>\n",
       "    <tr>\n",
       "      <th>Property_Size_Description_&lt; 38</th>\n",
       "      <td>-13048.646132</td>\n",
       "    </tr>\n",
       "    <tr>\n",
       "      <th>Postal_Code_dublin 22</th>\n",
       "      <td>-13226.430122</td>\n",
       "    </tr>\n",
       "    <tr>\n",
       "      <th>County_Offaly</th>\n",
       "      <td>-18027.616911</td>\n",
       "    </tr>\n",
       "    <tr>\n",
       "      <th>County_Tipperary</th>\n",
       "      <td>-19352.321646</td>\n",
       "    </tr>\n",
       "    <tr>\n",
       "      <th>County_Monaghan</th>\n",
       "      <td>-21089.318287</td>\n",
       "    </tr>\n",
       "    <tr>\n",
       "      <th>County_Sligo</th>\n",
       "      <td>-21834.288576</td>\n",
       "    </tr>\n",
       "    <tr>\n",
       "      <th>Postal_Code_dublin 20</th>\n",
       "      <td>-23403.534701</td>\n",
       "    </tr>\n",
       "    <tr>\n",
       "      <th>Postal_Code_dublin 24</th>\n",
       "      <td>-28518.740761</td>\n",
       "    </tr>\n",
       "    <tr>\n",
       "      <th>County_Mayo</th>\n",
       "      <td>-34250.645547</td>\n",
       "    </tr>\n",
       "    <tr>\n",
       "      <th>County_Donegal</th>\n",
       "      <td>-40345.105332</td>\n",
       "    </tr>\n",
       "    <tr>\n",
       "      <th>Postal_Code_dublin 12</th>\n",
       "      <td>-41933.994150</td>\n",
       "    </tr>\n",
       "    <tr>\n",
       "      <th>County_Cavan</th>\n",
       "      <td>-42992.995191</td>\n",
       "    </tr>\n",
       "    <tr>\n",
       "      <th>County_Roscommon</th>\n",
       "      <td>-57125.400358</td>\n",
       "    </tr>\n",
       "    <tr>\n",
       "      <th>Postal_Code_dublin 17</th>\n",
       "      <td>-59089.701862</td>\n",
       "    </tr>\n",
       "    <tr>\n",
       "      <th>County_Longford</th>\n",
       "      <td>-67543.355847</td>\n",
       "    </tr>\n",
       "    <tr>\n",
       "      <th>County_Leitrim</th>\n",
       "      <td>-67587.246926</td>\n",
       "    </tr>\n",
       "    <tr>\n",
       "      <th>Postal_Code_dublin 11</th>\n",
       "      <td>-88121.931627</td>\n",
       "    </tr>\n",
       "    <tr>\n",
       "      <th>Description_of_Property_Second-Hand Dwelling house /Apartment</th>\n",
       "      <td>-125820.374131</td>\n",
       "    </tr>\n",
       "    <tr>\n",
       "      <th>Postal_Code_dublin 10</th>\n",
       "      <td>-139569.528618</td>\n",
       "    </tr>\n",
       "  </tbody>\n",
       "</table>\n",
       "</div>"
      ],
      "text/plain": [
       "                                                             coef\n",
       "category                                                         \n",
       "Postal_Code_dublin 6                                360711.324014\n",
       "Postal_Code_dublin 4                                269247.767293\n",
       "County_Dublin                                       232910.067935\n",
       "Postal_Code_dublin 3                                221238.236578\n",
       "Postal_Code_dublin 14                               214253.224484\n",
       "Postal_Code_dublin 6w                               195917.466226\n",
       "Postal_Code_dublin 18                               171512.939003\n",
       "Postal_Code_dublin 2                                167089.657116\n",
       "County_Wicklow                                      158942.607573\n",
       "Postal_Code_dublin 16                               153022.277608\n",
       "Property_Size_Description_unknown                   141150.419751\n",
       "Postal_Code_dublin 13                               136214.398011\n",
       "Property_Size_Description_>= 125                    131521.179431\n",
       "County_Kildare                                       97572.935982\n",
       "Postal_Code_unknown                                  85556.471829\n",
       "Postal_Code_dublin 5                                 79139.965472\n",
       "County_Meath                                         77269.640324\n",
       "Postal_Code_dublin 9                                 65983.935947\n",
       "County_Cork                                          59447.918993\n",
       "County_Galway                                        49444.692450\n",
       "County_Waterford                                     23877.240676\n",
       "County_Kilkenny                                      19372.317695\n",
       "County_Louth                                         18446.630245\n",
       "Postal_Code_dublin 15                                17887.307277\n",
       "County_Limerick                                      13645.267132\n",
       "County_Westmeath                                      5302.730686\n",
       "County_Clare                                          5211.713770\n",
       "Postal_Code_dublin 7                                  3074.457506\n",
       "County_Wexford                                        2670.227241\n",
       "County_Kerry                                          -202.354509\n",
       "Postal_Code_dublin 8                                 -7125.374043\n",
       "County_Laois                                         -8551.663841\n",
       "Property_Size_Description_< 38                      -13048.646132\n",
       "Postal_Code_dublin 22                               -13226.430122\n",
       "County_Offaly                                       -18027.616911\n",
       "County_Tipperary                                    -19352.321646\n",
       "County_Monaghan                                     -21089.318287\n",
       "County_Sligo                                        -21834.288576\n",
       "Postal_Code_dublin 20                               -23403.534701\n",
       "Postal_Code_dublin 24                               -28518.740761\n",
       "County_Mayo                                         -34250.645547\n",
       "County_Donegal                                      -40345.105332\n",
       "Postal_Code_dublin 12                               -41933.994150\n",
       "County_Cavan                                        -42992.995191\n",
       "County_Roscommon                                    -57125.400358\n",
       "Postal_Code_dublin 17                               -59089.701862\n",
       "County_Longford                                     -67543.355847\n",
       "County_Leitrim                                      -67587.246926\n",
       "Postal_Code_dublin 11                               -88121.931627\n",
       "Description_of_Property_Second-Hand Dwelling ho... -125820.374131\n",
       "Postal_Code_dublin 10                              -139569.528618"
      ]
     },
     "execution_count": 19,
     "metadata": {},
     "output_type": "execute_result"
    }
   ],
   "source": [
    "(pd.DataFrame({'coef':linreg.coef_, 'category':X_train.columns})\n",
    ".sort_values(by = 'coef', ascending = False)\n",
    ".set_index('category'))"
   ]
  },
  {
   "cell_type": "markdown",
   "metadata": {},
   "source": [
    "### Section 2.x: Interpretation of linear regression model"
   ]
  },
  {
   "cell_type": "markdown",
   "metadata": {},
   "source": [
    "From our initial coefficients, we can see that being located in certain postal code districts and counties can significantly bring up/down the average property price. For example, the property price decreases by €139,569 on average when you move from the base case (Dublin 1) to Dublin 10.\n",
    "\n",
    "We also see that the value of properties go down when you move from a new house to a second-hand dwelling house/apartment, which is what we would expect (people are inclined to pay less for second-hand houses). The property price is also impacted by size. People appear to be enclined to pay more for a bigger property, and less for a smaller property, which also aligns with our expectations."
   ]
  },
  {
   "cell_type": "markdown",
   "metadata": {},
   "source": [
    "### Section 2.x: Training set predictions"
   ]
  },
  {
   "cell_type": "code",
   "execution_count": 20,
   "metadata": {},
   "outputs": [],
   "source": [
    "## Get the predictions from the first 10 training examples\n",
    "first_10_x = X_train.head(10)"
   ]
  },
  {
   "cell_type": "code",
   "execution_count": 21,
   "metadata": {},
   "outputs": [
    {
     "data": {
      "text/plain": [
       "array([219443.85150538, 318938.54008561, 237265.57283625, 219443.85150538,\n",
       "       373333.46456511, 159793.57800288, 209440.62496269, 377575.95482706,\n",
       "       219443.85150538, 179368.25020693])"
      ]
     },
     "execution_count": 21,
     "metadata": {},
     "output_type": "execute_result"
    }
   ],
   "source": [
    "linreg.predict(first_10_x)"
   ]
  },
  {
   "cell_type": "code",
   "execution_count": 22,
   "metadata": {},
   "outputs": [
    {
     "data": {
      "text/plain": [
       "9249    206000.0\n",
       "984     352000.0\n",
       "7192    265000.0\n",
       "754     230000.0\n",
       "8760    260000.0\n",
       "4716     66500.0\n",
       "8864    100760.0\n",
       "83      259999.0\n",
       "5311     82500.0\n",
       "5117    152000.0\n",
       "Name: Price_€_VAT_incl, dtype: float64"
      ]
     },
     "execution_count": 22,
     "metadata": {},
     "output_type": "execute_result"
    }
   ],
   "source": [
    "y_train.head(10)"
   ]
  },
  {
   "cell_type": "markdown",
   "metadata": {},
   "source": [
    "Observations: Based on the first 10 rows of training data, our model seems to be able to predict some property prices reasonably accurately (within €10,000/€20,000). However, some predictions are inaccurate (> €100,000), which we deem unacceptable"
   ]
  },
  {
   "cell_type": "code",
   "execution_count": 23,
   "metadata": {},
   "outputs": [
    {
     "name": "stdout",
     "output_type": "stream",
     "text": [
      "R2 Score: 0.33094972836263026\n",
      "Mean Squared Error: 31041333749.69952\n",
      "Mean Absolute Error: 112648.37210394115\n"
     ]
    }
   ],
   "source": [
    "linreg_train_predictions = linreg.predict(X_train)\n",
    "print(f\"R2 Score: {r2_score(y_train, linreg_train_predictions)}\")\n",
    "print(f\"Mean Squared Error: {mean_squared_error(y_train, linreg_train_predictions)}\")\n",
    "print(f\"Mean Absolute Error: {mean_absolute_error(y_train, linreg_train_predictions)}\")"
   ]
  },
  {
   "cell_type": "markdown",
   "metadata": {},
   "source": [
    "### Section 2.x: Evaluation of linear regression model"
   ]
  },
  {
   "cell_type": "code",
   "execution_count": 24,
   "metadata": {},
   "outputs": [
    {
     "name": "stdout",
     "output_type": "stream",
     "text": [
      "R2 Score: 0.3414363946875306\n",
      "Mean Squared Error: 31817242605.090416\n",
      "Mean Absolute Error: 115479.51607864258\n"
     ]
    }
   ],
   "source": [
    "linreg_test_predictions = linreg.predict(X_test)\n",
    "print(f\"R2 Score: {r2_score(y_test, linreg_test_predictions)}\")\n",
    "print(f\"Mean Squared Error: {mean_squared_error(y_test, linreg_test_predictions)}\")\n",
    "print(f\"Mean Absolute Error: {mean_absolute_error(y_test, linreg_test_predictions)}\")"
   ]
  },
  {
   "cell_type": "markdown",
   "metadata": {},
   "source": [
    "Base Cases: County: Carlow, Postal Code: Dublin 1, Property Size Description: 38-125, Description of property: New Dwelling house/Apartment."
   ]
  },
  {
   "cell_type": "markdown",
   "metadata": {},
   "source": [
    "### Section 2.x: Cross Validation of linear regression model"
   ]
  },
  {
   "cell_type": "code",
   "execution_count": 25,
   "metadata": {},
   "outputs": [
    {
     "name": "stdout",
     "output_type": "stream",
     "text": [
      "\n",
      "F1 CV scores: [0.33110748 0.31262002 0.30969972]\n",
      "\n",
      "F1 CV mean score: 0.3178090730613095\n",
      "\n",
      "F1 CV std score: 0.009478669013808314\n"
     ]
    }
   ],
   "source": [
    "lin_reg_cv_scores = cross_val_score(LinearRegression(), X_train, y_train, scoring=\"r2\", cv=3)\n",
    "print(\"\\nF1 CV scores:\", lin_reg_cv_scores)\n",
    "print(\"\\nF1 CV mean score:\", lin_reg_cv_scores.mean())\n",
    "print(\"\\nF1 CV std score:\", lin_reg_cv_scores.std())"
   ]
  },
  {
   "cell_type": "markdown",
   "metadata": {},
   "source": [
    "Observations: Cross validation results in a poorer performing model on average, suggesting that our use of hold-out sampling resulted in overfitting to the data."
   ]
  },
  {
   "cell_type": "markdown",
   "metadata": {},
   "source": [
    "## Section 3: Decision Trees"
   ]
  },
  {
   "cell_type": "markdown",
   "metadata": {},
   "source": [
    "### Section 3.x: Train a decision tree"
   ]
  },
  {
   "cell_type": "code",
   "execution_count": 26,
   "metadata": {},
   "outputs": [
    {
     "name": "stdout",
     "output_type": "stream",
     "text": [
      "DecisionTreeClassifier(max_depth=3, random_state=1)\n"
     ]
    }
   ],
   "source": [
    "# Instantiate sklearn estimator, fit with training set.\n",
    "# Train a classification tree with max_depth=3 on all data.\n",
    "dtc = DecisionTreeClassifier(max_depth=3, random_state=1)\n",
    "dtc.fit(X_train, y_train)\n",
    "print(dtc)"
   ]
  },
  {
   "cell_type": "markdown",
   "metadata": {},
   "source": [
    "### Section 3.x: Interpretation of decision tree model"
   ]
  },
  {
   "cell_type": "code",
   "execution_count": 27,
   "metadata": {},
   "outputs": [
    {
     "data": {
      "text/html": [
       "<div>\n",
       "<style scoped>\n",
       "    .dataframe tbody tr th:only-of-type {\n",
       "        vertical-align: middle;\n",
       "    }\n",
       "\n",
       "    .dataframe tbody tr th {\n",
       "        vertical-align: top;\n",
       "    }\n",
       "\n",
       "    .dataframe thead th {\n",
       "        text-align: right;\n",
       "    }\n",
       "</style>\n",
       "<table border=\"1\" class=\"dataframe\">\n",
       "  <thead>\n",
       "    <tr style=\"text-align: right;\">\n",
       "      <th></th>\n",
       "      <th>feature</th>\n",
       "      <th>importance</th>\n",
       "    </tr>\n",
       "  </thead>\n",
       "  <tbody>\n",
       "    <tr>\n",
       "      <th>26</th>\n",
       "      <td>County_Dublin</td>\n",
       "      <td>0.352310</td>\n",
       "    </tr>\n",
       "    <tr>\n",
       "      <th>47</th>\n",
       "      <td>Description_of_Property_Second-Hand Dwelling h...</td>\n",
       "      <td>0.260716</td>\n",
       "    </tr>\n",
       "    <tr>\n",
       "      <th>29</th>\n",
       "      <td>County_Kildare</td>\n",
       "      <td>0.171816</td>\n",
       "    </tr>\n",
       "    <tr>\n",
       "      <th>1</th>\n",
       "      <td>Postal_Code_dublin 11</td>\n",
       "      <td>0.110154</td>\n",
       "    </tr>\n",
       "    <tr>\n",
       "      <th>16</th>\n",
       "      <td>Postal_Code_dublin 6</td>\n",
       "      <td>0.105004</td>\n",
       "    </tr>\n",
       "    <tr>\n",
       "      <th>37</th>\n",
       "      <td>County_Meath</td>\n",
       "      <td>0.000000</td>\n",
       "    </tr>\n",
       "    <tr>\n",
       "      <th>28</th>\n",
       "      <td>County_Kerry</td>\n",
       "      <td>0.000000</td>\n",
       "    </tr>\n",
       "    <tr>\n",
       "      <th>30</th>\n",
       "      <td>County_Kilkenny</td>\n",
       "      <td>0.000000</td>\n",
       "    </tr>\n",
       "    <tr>\n",
       "      <th>31</th>\n",
       "      <td>County_Laois</td>\n",
       "      <td>0.000000</td>\n",
       "    </tr>\n",
       "    <tr>\n",
       "      <th>32</th>\n",
       "      <td>County_Leitrim</td>\n",
       "      <td>0.000000</td>\n",
       "    </tr>\n",
       "    <tr>\n",
       "      <th>33</th>\n",
       "      <td>County_Limerick</td>\n",
       "      <td>0.000000</td>\n",
       "    </tr>\n",
       "    <tr>\n",
       "      <th>34</th>\n",
       "      <td>County_Longford</td>\n",
       "      <td>0.000000</td>\n",
       "    </tr>\n",
       "    <tr>\n",
       "      <th>35</th>\n",
       "      <td>County_Louth</td>\n",
       "      <td>0.000000</td>\n",
       "    </tr>\n",
       "    <tr>\n",
       "      <th>36</th>\n",
       "      <td>County_Mayo</td>\n",
       "      <td>0.000000</td>\n",
       "    </tr>\n",
       "    <tr>\n",
       "      <th>0</th>\n",
       "      <td>Postal_Code_dublin 10</td>\n",
       "      <td>0.000000</td>\n",
       "    </tr>\n",
       "    <tr>\n",
       "      <th>27</th>\n",
       "      <td>County_Galway</td>\n",
       "      <td>0.000000</td>\n",
       "    </tr>\n",
       "    <tr>\n",
       "      <th>39</th>\n",
       "      <td>County_Offaly</td>\n",
       "      <td>0.000000</td>\n",
       "    </tr>\n",
       "    <tr>\n",
       "      <th>40</th>\n",
       "      <td>County_Roscommon</td>\n",
       "      <td>0.000000</td>\n",
       "    </tr>\n",
       "    <tr>\n",
       "      <th>41</th>\n",
       "      <td>County_Sligo</td>\n",
       "      <td>0.000000</td>\n",
       "    </tr>\n",
       "    <tr>\n",
       "      <th>42</th>\n",
       "      <td>County_Tipperary</td>\n",
       "      <td>0.000000</td>\n",
       "    </tr>\n",
       "    <tr>\n",
       "      <th>43</th>\n",
       "      <td>County_Waterford</td>\n",
       "      <td>0.000000</td>\n",
       "    </tr>\n",
       "    <tr>\n",
       "      <th>44</th>\n",
       "      <td>County_Westmeath</td>\n",
       "      <td>0.000000</td>\n",
       "    </tr>\n",
       "    <tr>\n",
       "      <th>45</th>\n",
       "      <td>County_Wexford</td>\n",
       "      <td>0.000000</td>\n",
       "    </tr>\n",
       "    <tr>\n",
       "      <th>46</th>\n",
       "      <td>County_Wicklow</td>\n",
       "      <td>0.000000</td>\n",
       "    </tr>\n",
       "    <tr>\n",
       "      <th>48</th>\n",
       "      <td>Property_Size_Description_&lt; 38</td>\n",
       "      <td>0.000000</td>\n",
       "    </tr>\n",
       "    <tr>\n",
       "      <th>49</th>\n",
       "      <td>Property_Size_Description_&gt;= 125</td>\n",
       "      <td>0.000000</td>\n",
       "    </tr>\n",
       "    <tr>\n",
       "      <th>38</th>\n",
       "      <td>County_Monaghan</td>\n",
       "      <td>0.000000</td>\n",
       "    </tr>\n",
       "    <tr>\n",
       "      <th>25</th>\n",
       "      <td>County_Donegal</td>\n",
       "      <td>0.000000</td>\n",
       "    </tr>\n",
       "    <tr>\n",
       "      <th>24</th>\n",
       "      <td>County_Cork</td>\n",
       "      <td>0.000000</td>\n",
       "    </tr>\n",
       "    <tr>\n",
       "      <th>11</th>\n",
       "      <td>Postal_Code_dublin 22</td>\n",
       "      <td>0.000000</td>\n",
       "    </tr>\n",
       "    <tr>\n",
       "      <th>2</th>\n",
       "      <td>Postal_Code_dublin 12</td>\n",
       "      <td>0.000000</td>\n",
       "    </tr>\n",
       "    <tr>\n",
       "      <th>3</th>\n",
       "      <td>Postal_Code_dublin 13</td>\n",
       "      <td>0.000000</td>\n",
       "    </tr>\n",
       "    <tr>\n",
       "      <th>4</th>\n",
       "      <td>Postal_Code_dublin 14</td>\n",
       "      <td>0.000000</td>\n",
       "    </tr>\n",
       "    <tr>\n",
       "      <th>5</th>\n",
       "      <td>Postal_Code_dublin 15</td>\n",
       "      <td>0.000000</td>\n",
       "    </tr>\n",
       "    <tr>\n",
       "      <th>6</th>\n",
       "      <td>Postal_Code_dublin 16</td>\n",
       "      <td>0.000000</td>\n",
       "    </tr>\n",
       "    <tr>\n",
       "      <th>7</th>\n",
       "      <td>Postal_Code_dublin 17</td>\n",
       "      <td>0.000000</td>\n",
       "    </tr>\n",
       "    <tr>\n",
       "      <th>8</th>\n",
       "      <td>Postal_Code_dublin 18</td>\n",
       "      <td>0.000000</td>\n",
       "    </tr>\n",
       "    <tr>\n",
       "      <th>9</th>\n",
       "      <td>Postal_Code_dublin 2</td>\n",
       "      <td>0.000000</td>\n",
       "    </tr>\n",
       "    <tr>\n",
       "      <th>10</th>\n",
       "      <td>Postal_Code_dublin 20</td>\n",
       "      <td>0.000000</td>\n",
       "    </tr>\n",
       "    <tr>\n",
       "      <th>12</th>\n",
       "      <td>Postal_Code_dublin 24</td>\n",
       "      <td>0.000000</td>\n",
       "    </tr>\n",
       "    <tr>\n",
       "      <th>23</th>\n",
       "      <td>County_Clare</td>\n",
       "      <td>0.000000</td>\n",
       "    </tr>\n",
       "    <tr>\n",
       "      <th>13</th>\n",
       "      <td>Postal_Code_dublin 3</td>\n",
       "      <td>0.000000</td>\n",
       "    </tr>\n",
       "    <tr>\n",
       "      <th>14</th>\n",
       "      <td>Postal_Code_dublin 4</td>\n",
       "      <td>0.000000</td>\n",
       "    </tr>\n",
       "    <tr>\n",
       "      <th>15</th>\n",
       "      <td>Postal_Code_dublin 5</td>\n",
       "      <td>0.000000</td>\n",
       "    </tr>\n",
       "    <tr>\n",
       "      <th>17</th>\n",
       "      <td>Postal_Code_dublin 6w</td>\n",
       "      <td>0.000000</td>\n",
       "    </tr>\n",
       "    <tr>\n",
       "      <th>18</th>\n",
       "      <td>Postal_Code_dublin 7</td>\n",
       "      <td>0.000000</td>\n",
       "    </tr>\n",
       "    <tr>\n",
       "      <th>19</th>\n",
       "      <td>Postal_Code_dublin 8</td>\n",
       "      <td>0.000000</td>\n",
       "    </tr>\n",
       "    <tr>\n",
       "      <th>20</th>\n",
       "      <td>Postal_Code_dublin 9</td>\n",
       "      <td>0.000000</td>\n",
       "    </tr>\n",
       "    <tr>\n",
       "      <th>21</th>\n",
       "      <td>Postal_Code_unknown</td>\n",
       "      <td>0.000000</td>\n",
       "    </tr>\n",
       "    <tr>\n",
       "      <th>22</th>\n",
       "      <td>County_Cavan</td>\n",
       "      <td>0.000000</td>\n",
       "    </tr>\n",
       "    <tr>\n",
       "      <th>50</th>\n",
       "      <td>Property_Size_Description_unknown</td>\n",
       "      <td>0.000000</td>\n",
       "    </tr>\n",
       "  </tbody>\n",
       "</table>\n",
       "</div>"
      ],
      "text/plain": [
       "                                              feature  importance\n",
       "26                                      County_Dublin    0.352310\n",
       "47  Description_of_Property_Second-Hand Dwelling h...    0.260716\n",
       "29                                     County_Kildare    0.171816\n",
       "1                               Postal_Code_dublin 11    0.110154\n",
       "16                               Postal_Code_dublin 6    0.105004\n",
       "37                                       County_Meath    0.000000\n",
       "28                                       County_Kerry    0.000000\n",
       "30                                    County_Kilkenny    0.000000\n",
       "31                                       County_Laois    0.000000\n",
       "32                                     County_Leitrim    0.000000\n",
       "33                                    County_Limerick    0.000000\n",
       "34                                    County_Longford    0.000000\n",
       "35                                       County_Louth    0.000000\n",
       "36                                        County_Mayo    0.000000\n",
       "0                               Postal_Code_dublin 10    0.000000\n",
       "27                                      County_Galway    0.000000\n",
       "39                                      County_Offaly    0.000000\n",
       "40                                   County_Roscommon    0.000000\n",
       "41                                       County_Sligo    0.000000\n",
       "42                                   County_Tipperary    0.000000\n",
       "43                                   County_Waterford    0.000000\n",
       "44                                   County_Westmeath    0.000000\n",
       "45                                     County_Wexford    0.000000\n",
       "46                                     County_Wicklow    0.000000\n",
       "48                     Property_Size_Description_< 38    0.000000\n",
       "49                   Property_Size_Description_>= 125    0.000000\n",
       "38                                    County_Monaghan    0.000000\n",
       "25                                     County_Donegal    0.000000\n",
       "24                                        County_Cork    0.000000\n",
       "11                              Postal_Code_dublin 22    0.000000\n",
       "2                               Postal_Code_dublin 12    0.000000\n",
       "3                               Postal_Code_dublin 13    0.000000\n",
       "4                               Postal_Code_dublin 14    0.000000\n",
       "5                               Postal_Code_dublin 15    0.000000\n",
       "6                               Postal_Code_dublin 16    0.000000\n",
       "7                               Postal_Code_dublin 17    0.000000\n",
       "8                               Postal_Code_dublin 18    0.000000\n",
       "9                                Postal_Code_dublin 2    0.000000\n",
       "10                              Postal_Code_dublin 20    0.000000\n",
       "12                              Postal_Code_dublin 24    0.000000\n",
       "23                                       County_Clare    0.000000\n",
       "13                               Postal_Code_dublin 3    0.000000\n",
       "14                               Postal_Code_dublin 4    0.000000\n",
       "15                               Postal_Code_dublin 5    0.000000\n",
       "17                              Postal_Code_dublin 6w    0.000000\n",
       "18                               Postal_Code_dublin 7    0.000000\n",
       "19                               Postal_Code_dublin 8    0.000000\n",
       "20                               Postal_Code_dublin 9    0.000000\n",
       "21                                Postal_Code_unknown    0.000000\n",
       "22                                       County_Cavan    0.000000\n",
       "50                  Property_Size_Description_unknown    0.000000"
      ]
     },
     "execution_count": 27,
     "metadata": {},
     "output_type": "execute_result"
    }
   ],
   "source": [
    "# Compute the importance of each feature based on the trained decision tree classifier\n",
    "feature_importance = pd.DataFrame({'feature': X_train.columns, 'importance':dtc.feature_importances_})\n",
    "feature_importance.sort_values('importance', ascending=False)"
   ]
  },
  {
   "cell_type": "code",
   "execution_count": 28,
   "metadata": {},
   "outputs": [],
   "source": [
    "# create a Graphviz file which has extension .dot\n",
    "with open(\"decision_tree.dot\", 'w') as f:\n",
    "    f = export_graphviz(dtc, out_file=f, feature_names=X_train.columns)"
   ]
  },
  {
   "cell_type": "code",
   "execution_count": 29,
   "metadata": {},
   "outputs": [
    {
     "data": {
      "image/png": "[encoded data removed]",
      "text/plain": [
       "<IPython.core.display.Image object>"
      ]
     },
     "metadata": {},
     "output_type": "display_data"
    }
   ],
   "source": [
    "graphs = pydot.graph_from_dot_file('decision_tree.dot')\n",
    "graph = graphs[0]\n",
    "\n",
    "def view_pydot(pdot):\n",
    "    plt = Image(pdot.create_png())\n",
    "    display(plt)\n",
    "\n",
    "view_pydot(graph)"
   ]
  },
  {
   "cell_type": "markdown",
   "metadata": {},
   "source": [
    "Observations: Being located in county Dublin appears to be the biggest indicator of property price according to this model."
   ]
  },
  {
   "cell_type": "markdown",
   "metadata": {},
   "source": [
    "### Section 3.x: Training set predictions"
   ]
  },
  {
   "cell_type": "code",
   "execution_count": 30,
   "metadata": {},
   "outputs": [
    {
     "data": {
      "text/plain": [
       "array([ 125000.,  125000.,  125000.,  125000., 1390400.,  125000.,\n",
       "        125000., 1390400.,  125000.,  125000.])"
      ]
     },
     "execution_count": 30,
     "metadata": {},
     "output_type": "execute_result"
    }
   ],
   "source": [
    "dtc.predict(first_10_x)"
   ]
  },
  {
   "cell_type": "code",
   "execution_count": 31,
   "metadata": {},
   "outputs": [
    {
     "data": {
      "text/plain": [
       "9249    206000.0\n",
       "984     352000.0\n",
       "7192    265000.0\n",
       "754     230000.0\n",
       "8760    260000.0\n",
       "4716     66500.0\n",
       "8864    100760.0\n",
       "83      259999.0\n",
       "5311     82500.0\n",
       "5117    152000.0\n",
       "Name: Price_€_VAT_incl, dtype: float64"
      ]
     },
     "execution_count": 31,
     "metadata": {},
     "output_type": "execute_result"
    }
   ],
   "source": [
    "y_train.head(10)"
   ]
  },
  {
   "cell_type": "code",
   "execution_count": 32,
   "metadata": {},
   "outputs": [
    {
     "name": "stdout",
     "output_type": "stream",
     "text": [
      "R2 Score: -6.39830143066955\n",
      "Mean Squared Error: 343252448471.8641\n",
      "Mean Absolute Error: 381251.69336933695\n"
     ]
    }
   ],
   "source": [
    "dtc_train_predictions = dtc.predict(X_train)\n",
    "print(f\"R2 Score: {r2_score(y_train, dtc_train_predictions)}\")\n",
    "print(f\"Mean Squared Error: {mean_squared_error(y_train, dtc_train_predictions)}\")\n",
    "print(f\"Mean Absolute Error: {mean_absolute_error(y_train, dtc_train_predictions)}\")"
   ]
  },
  {
   "cell_type": "markdown",
   "metadata": {},
   "source": [
    "### Section 3.x: Evaluation of Decision Tree"
   ]
  },
  {
   "cell_type": "code",
   "execution_count": 33,
   "metadata": {},
   "outputs": [
    {
     "name": "stdout",
     "output_type": "stream",
     "text": [
      "R2 Score: -6.398584843938861\n",
      "Mean Squared Error: 357448493987.54126\n",
      "Mean Absolute Error: 394301.10951714485\n"
     ]
    }
   ],
   "source": [
    "dtc_test_predictions = dtc.predict(X_test)\n",
    "print(f\"R2 Score: {r2_score(y_test, dtc_test_predictions)}\")\n",
    "print(f\"Mean Squared Error: {mean_squared_error(y_test, dtc_test_predictions)}\")\n",
    "print(f\"Mean Absolute Error: {mean_absolute_error(y_test, dtc_test_predictions)}\")"
   ]
  },
  {
   "cell_type": "markdown",
   "metadata": {},
   "source": [
    "Observations: Performance of this model was very poor. Performance would likely be improved by increasing the maximum depth parameter, however, this could result in overfitting to the data"
   ]
  },
  {
   "cell_type": "markdown",
   "metadata": {},
   "source": [
    "### Section 3.x: Cross validation of a decision tree"
   ]
  },
  {
   "cell_type": "code",
   "execution_count": 34,
   "metadata": {},
   "outputs": [
    {
     "name": "stderr",
     "output_type": "stream",
     "text": [
      "C:\\Users\\micha\\anaconda3\\envs\\comp47350py38hw2\\lib\\site-packages\\sklearn\\model_selection\\_split.py:676: UserWarning: The least populated class in y has only 1 members, which is less than n_splits=3.\n",
      "  warnings.warn(\n"
     ]
    },
    {
     "name": "stdout",
     "output_type": "stream",
     "text": [
      "\n",
      "CV scores: [-5.20413032 -6.28078461 -6.57269966]\n",
      "\n",
      "CV mean score: -6.019204861741701\n",
      "\n",
      "CV std score: 0.5885368779918012\n"
     ]
    }
   ],
   "source": [
    "dtc_cv_scores = cross_val_score(DecisionTreeClassifier(max_depth=3, random_state=1), X_train, y_train, scoring=\"r2\", cv=3)\n",
    "print(\"\\nCV scores:\", dtc_cv_scores)\n",
    "print(\"\\nCV mean score:\", dtc_cv_scores.mean())\n",
    "print(\"\\nCV std score:\", dtc_cv_scores.std())"
   ]
  },
  {
   "cell_type": "markdown",
   "metadata": {},
   "source": [
    "## Section 4: Random Forest"
   ]
  },
  {
   "cell_type": "markdown",
   "metadata": {},
   "source": [
    "### Section 4.x: Train a Random Forest"
   ]
  },
  {
   "cell_type": "code",
   "execution_count": 35,
   "metadata": {},
   "outputs": [
    {
     "data": {
      "text/plain": [
       "RandomForestClassifier(oob_score=True, random_state=1)"
      ]
     },
     "execution_count": 35,
     "metadata": {},
     "output_type": "execute_result"
    }
   ],
   "source": [
    "# Train RF with 100 trees\n",
    "rfc = RandomForestClassifier(n_estimators=100, max_features='auto', oob_score=True, random_state=1)\n",
    "rfc.fit(X_train, y_train)"
   ]
  },
  {
   "cell_type": "markdown",
   "metadata": {},
   "source": [
    "### Section 4.x: Interpretation of Random Forest"
   ]
  },
  {
   "cell_type": "code",
   "execution_count": 36,
   "metadata": {},
   "outputs": [
    {
     "data": {
      "text/html": [
       "<div>\n",
       "<style scoped>\n",
       "    .dataframe tbody tr th:only-of-type {\n",
       "        vertical-align: middle;\n",
       "    }\n",
       "\n",
       "    .dataframe tbody tr th {\n",
       "        vertical-align: top;\n",
       "    }\n",
       "\n",
       "    .dataframe thead th {\n",
       "        text-align: right;\n",
       "    }\n",
       "</style>\n",
       "<table border=\"1\" class=\"dataframe\">\n",
       "  <thead>\n",
       "    <tr style=\"text-align: right;\">\n",
       "      <th></th>\n",
       "      <th>feature</th>\n",
       "      <th>importance</th>\n",
       "    </tr>\n",
       "  </thead>\n",
       "  <tbody>\n",
       "    <tr>\n",
       "      <th>49</th>\n",
       "      <td>Property_Size_Description_&gt;= 125</td>\n",
       "      <td>0.080956</td>\n",
       "    </tr>\n",
       "    <tr>\n",
       "      <th>50</th>\n",
       "      <td>Property_Size_Description_unknown</td>\n",
       "      <td>0.066728</td>\n",
       "    </tr>\n",
       "    <tr>\n",
       "      <th>47</th>\n",
       "      <td>Description_of_Property_Second-Hand Dwelling h...</td>\n",
       "      <td>0.064077</td>\n",
       "    </tr>\n",
       "    <tr>\n",
       "      <th>48</th>\n",
       "      <td>Property_Size_Description_&lt; 38</td>\n",
       "      <td>0.048438</td>\n",
       "    </tr>\n",
       "    <tr>\n",
       "      <th>26</th>\n",
       "      <td>County_Dublin</td>\n",
       "      <td>0.024665</td>\n",
       "    </tr>\n",
       "    <tr>\n",
       "      <th>24</th>\n",
       "      <td>County_Cork</td>\n",
       "      <td>0.021294</td>\n",
       "    </tr>\n",
       "    <tr>\n",
       "      <th>45</th>\n",
       "      <td>County_Wexford</td>\n",
       "      <td>0.021046</td>\n",
       "    </tr>\n",
       "    <tr>\n",
       "      <th>37</th>\n",
       "      <td>County_Meath</td>\n",
       "      <td>0.020255</td>\n",
       "    </tr>\n",
       "    <tr>\n",
       "      <th>33</th>\n",
       "      <td>County_Limerick</td>\n",
       "      <td>0.020223</td>\n",
       "    </tr>\n",
       "    <tr>\n",
       "      <th>42</th>\n",
       "      <td>County_Tipperary</td>\n",
       "      <td>0.019801</td>\n",
       "    </tr>\n",
       "    <tr>\n",
       "      <th>29</th>\n",
       "      <td>County_Kildare</td>\n",
       "      <td>0.019644</td>\n",
       "    </tr>\n",
       "    <tr>\n",
       "      <th>46</th>\n",
       "      <td>County_Wicklow</td>\n",
       "      <td>0.019403</td>\n",
       "    </tr>\n",
       "    <tr>\n",
       "      <th>27</th>\n",
       "      <td>County_Galway</td>\n",
       "      <td>0.019383</td>\n",
       "    </tr>\n",
       "    <tr>\n",
       "      <th>35</th>\n",
       "      <td>County_Louth</td>\n",
       "      <td>0.019132</td>\n",
       "    </tr>\n",
       "    <tr>\n",
       "      <th>43</th>\n",
       "      <td>County_Waterford</td>\n",
       "      <td>0.019013</td>\n",
       "    </tr>\n",
       "    <tr>\n",
       "      <th>40</th>\n",
       "      <td>County_Roscommon</td>\n",
       "      <td>0.018937</td>\n",
       "    </tr>\n",
       "    <tr>\n",
       "      <th>28</th>\n",
       "      <td>County_Kerry</td>\n",
       "      <td>0.018616</td>\n",
       "    </tr>\n",
       "    <tr>\n",
       "      <th>21</th>\n",
       "      <td>Postal_Code_unknown</td>\n",
       "      <td>0.018415</td>\n",
       "    </tr>\n",
       "    <tr>\n",
       "      <th>23</th>\n",
       "      <td>County_Clare</td>\n",
       "      <td>0.018264</td>\n",
       "    </tr>\n",
       "    <tr>\n",
       "      <th>25</th>\n",
       "      <td>County_Donegal</td>\n",
       "      <td>0.018216</td>\n",
       "    </tr>\n",
       "    <tr>\n",
       "      <th>44</th>\n",
       "      <td>County_Westmeath</td>\n",
       "      <td>0.018141</td>\n",
       "    </tr>\n",
       "    <tr>\n",
       "      <th>5</th>\n",
       "      <td>Postal_Code_dublin 15</td>\n",
       "      <td>0.017881</td>\n",
       "    </tr>\n",
       "    <tr>\n",
       "      <th>36</th>\n",
       "      <td>County_Mayo</td>\n",
       "      <td>0.017165</td>\n",
       "    </tr>\n",
       "    <tr>\n",
       "      <th>31</th>\n",
       "      <td>County_Laois</td>\n",
       "      <td>0.016938</td>\n",
       "    </tr>\n",
       "    <tr>\n",
       "      <th>32</th>\n",
       "      <td>County_Leitrim</td>\n",
       "      <td>0.016743</td>\n",
       "    </tr>\n",
       "    <tr>\n",
       "      <th>39</th>\n",
       "      <td>County_Offaly</td>\n",
       "      <td>0.015833</td>\n",
       "    </tr>\n",
       "    <tr>\n",
       "      <th>22</th>\n",
       "      <td>County_Cavan</td>\n",
       "      <td>0.015767</td>\n",
       "    </tr>\n",
       "    <tr>\n",
       "      <th>6</th>\n",
       "      <td>Postal_Code_dublin 16</td>\n",
       "      <td>0.015742</td>\n",
       "    </tr>\n",
       "    <tr>\n",
       "      <th>8</th>\n",
       "      <td>Postal_Code_dublin 18</td>\n",
       "      <td>0.015518</td>\n",
       "    </tr>\n",
       "    <tr>\n",
       "      <th>30</th>\n",
       "      <td>County_Kilkenny</td>\n",
       "      <td>0.015493</td>\n",
       "    </tr>\n",
       "    <tr>\n",
       "      <th>38</th>\n",
       "      <td>County_Monaghan</td>\n",
       "      <td>0.015490</td>\n",
       "    </tr>\n",
       "    <tr>\n",
       "      <th>41</th>\n",
       "      <td>County_Sligo</td>\n",
       "      <td>0.015144</td>\n",
       "    </tr>\n",
       "    <tr>\n",
       "      <th>20</th>\n",
       "      <td>Postal_Code_dublin 9</td>\n",
       "      <td>0.014993</td>\n",
       "    </tr>\n",
       "    <tr>\n",
       "      <th>12</th>\n",
       "      <td>Postal_Code_dublin 24</td>\n",
       "      <td>0.014899</td>\n",
       "    </tr>\n",
       "    <tr>\n",
       "      <th>3</th>\n",
       "      <td>Postal_Code_dublin 13</td>\n",
       "      <td>0.014218</td>\n",
       "    </tr>\n",
       "    <tr>\n",
       "      <th>17</th>\n",
       "      <td>Postal_Code_dublin 6w</td>\n",
       "      <td>0.014062</td>\n",
       "    </tr>\n",
       "    <tr>\n",
       "      <th>4</th>\n",
       "      <td>Postal_Code_dublin 14</td>\n",
       "      <td>0.014012</td>\n",
       "    </tr>\n",
       "    <tr>\n",
       "      <th>34</th>\n",
       "      <td>County_Longford</td>\n",
       "      <td>0.013547</td>\n",
       "    </tr>\n",
       "    <tr>\n",
       "      <th>1</th>\n",
       "      <td>Postal_Code_dublin 11</td>\n",
       "      <td>0.013465</td>\n",
       "    </tr>\n",
       "    <tr>\n",
       "      <th>7</th>\n",
       "      <td>Postal_Code_dublin 17</td>\n",
       "      <td>0.012869</td>\n",
       "    </tr>\n",
       "    <tr>\n",
       "      <th>14</th>\n",
       "      <td>Postal_Code_dublin 4</td>\n",
       "      <td>0.012416</td>\n",
       "    </tr>\n",
       "    <tr>\n",
       "      <th>16</th>\n",
       "      <td>Postal_Code_dublin 6</td>\n",
       "      <td>0.012347</td>\n",
       "    </tr>\n",
       "    <tr>\n",
       "      <th>9</th>\n",
       "      <td>Postal_Code_dublin 2</td>\n",
       "      <td>0.012230</td>\n",
       "    </tr>\n",
       "    <tr>\n",
       "      <th>15</th>\n",
       "      <td>Postal_Code_dublin 5</td>\n",
       "      <td>0.011890</td>\n",
       "    </tr>\n",
       "    <tr>\n",
       "      <th>11</th>\n",
       "      <td>Postal_Code_dublin 22</td>\n",
       "      <td>0.010813</td>\n",
       "    </tr>\n",
       "    <tr>\n",
       "      <th>2</th>\n",
       "      <td>Postal_Code_dublin 12</td>\n",
       "      <td>0.010740</td>\n",
       "    </tr>\n",
       "    <tr>\n",
       "      <th>13</th>\n",
       "      <td>Postal_Code_dublin 3</td>\n",
       "      <td>0.010432</td>\n",
       "    </tr>\n",
       "    <tr>\n",
       "      <th>19</th>\n",
       "      <td>Postal_Code_dublin 8</td>\n",
       "      <td>0.010290</td>\n",
       "    </tr>\n",
       "    <tr>\n",
       "      <th>18</th>\n",
       "      <td>Postal_Code_dublin 7</td>\n",
       "      <td>0.009978</td>\n",
       "    </tr>\n",
       "    <tr>\n",
       "      <th>10</th>\n",
       "      <td>Postal_Code_dublin 20</td>\n",
       "      <td>0.008702</td>\n",
       "    </tr>\n",
       "    <tr>\n",
       "      <th>0</th>\n",
       "      <td>Postal_Code_dublin 10</td>\n",
       "      <td>0.005737</td>\n",
       "    </tr>\n",
       "  </tbody>\n",
       "</table>\n",
       "</div>"
      ],
      "text/plain": [
       "                                              feature  importance\n",
       "49                   Property_Size_Description_>= 125    0.080956\n",
       "50                  Property_Size_Description_unknown    0.066728\n",
       "47  Description_of_Property_Second-Hand Dwelling h...    0.064077\n",
       "48                     Property_Size_Description_< 38    0.048438\n",
       "26                                      County_Dublin    0.024665\n",
       "24                                        County_Cork    0.021294\n",
       "45                                     County_Wexford    0.021046\n",
       "37                                       County_Meath    0.020255\n",
       "33                                    County_Limerick    0.020223\n",
       "42                                   County_Tipperary    0.019801\n",
       "29                                     County_Kildare    0.019644\n",
       "46                                     County_Wicklow    0.019403\n",
       "27                                      County_Galway    0.019383\n",
       "35                                       County_Louth    0.019132\n",
       "43                                   County_Waterford    0.019013\n",
       "40                                   County_Roscommon    0.018937\n",
       "28                                       County_Kerry    0.018616\n",
       "21                                Postal_Code_unknown    0.018415\n",
       "23                                       County_Clare    0.018264\n",
       "25                                     County_Donegal    0.018216\n",
       "44                                   County_Westmeath    0.018141\n",
       "5                               Postal_Code_dublin 15    0.017881\n",
       "36                                        County_Mayo    0.017165\n",
       "31                                       County_Laois    0.016938\n",
       "32                                     County_Leitrim    0.016743\n",
       "39                                      County_Offaly    0.015833\n",
       "22                                       County_Cavan    0.015767\n",
       "6                               Postal_Code_dublin 16    0.015742\n",
       "8                               Postal_Code_dublin 18    0.015518\n",
       "30                                    County_Kilkenny    0.015493\n",
       "38                                    County_Monaghan    0.015490\n",
       "41                                       County_Sligo    0.015144\n",
       "20                               Postal_Code_dublin 9    0.014993\n",
       "12                              Postal_Code_dublin 24    0.014899\n",
       "3                               Postal_Code_dublin 13    0.014218\n",
       "17                              Postal_Code_dublin 6w    0.014062\n",
       "4                               Postal_Code_dublin 14    0.014012\n",
       "34                                    County_Longford    0.013547\n",
       "1                               Postal_Code_dublin 11    0.013465\n",
       "7                               Postal_Code_dublin 17    0.012869\n",
       "14                               Postal_Code_dublin 4    0.012416\n",
       "16                               Postal_Code_dublin 6    0.012347\n",
       "9                                Postal_Code_dublin 2    0.012230\n",
       "15                               Postal_Code_dublin 5    0.011890\n",
       "11                              Postal_Code_dublin 22    0.010813\n",
       "2                               Postal_Code_dublin 12    0.010740\n",
       "13                               Postal_Code_dublin 3    0.010432\n",
       "19                               Postal_Code_dublin 8    0.010290\n",
       "18                               Postal_Code_dublin 7    0.009978\n",
       "10                              Postal_Code_dublin 20    0.008702\n",
       "0                               Postal_Code_dublin 10    0.005737"
      ]
     },
     "execution_count": 36,
     "metadata": {},
     "output_type": "execute_result"
    }
   ],
   "source": [
    "feature_importance = pd.DataFrame({'feature': X_train.columns, 'importance':rfc.feature_importances_})\n",
    "feature_importance.sort_values('importance', ascending=False)"
   ]
  },
  {
   "cell_type": "code",
   "execution_count": 37,
   "metadata": {},
   "outputs": [
    {
     "data": {
      "text/plain": [
       "Text(0.5, 0, 'Random Forest Feature Importance')"
      ]
     },
     "execution_count": 37,
     "metadata": {},
     "output_type": "execute_result"
    },
    {
     "data": {
      "image/png": "[encoded data removed]",
      "text/plain": [
       "<Figure size 720x1080 with 1 Axes>"
      ]
     },
     "metadata": {
      "needs_background": "light"
     },
     "output_type": "display_data"
    }
   ],
   "source": [
    "# https://mljar.com/blog/feature-importance-in-random-forest/\n",
    "sorted_idx = rfc.feature_importances_.argsort()\n",
    "plt.figure(figsize=(10,15))\n",
    "plt.barh(X_train.columns[sorted_idx], rfc.feature_importances_[sorted_idx])\n",
    "plt.xlabel(\"Random Forest Feature Importance\")"
   ]
  },
  {
   "cell_type": "markdown",
   "metadata": {},
   "source": [
    "Observations: The size and description of the property appear to be the most important features according to the reandom forest classifier. The locational features were less important in comparison."
   ]
  },
  {
   "cell_type": "markdown",
   "metadata": {},
   "source": [
    "### Section 4.x: Training set predictions"
   ]
  },
  {
   "cell_type": "code",
   "execution_count": 38,
   "metadata": {},
   "outputs": [
    {
     "data": {
      "text/plain": [
       "array([220000., 210000., 185000., 220000., 430000., 180000., 120000.,\n",
       "       285000., 220000., 235000.])"
      ]
     },
     "execution_count": 38,
     "metadata": {},
     "output_type": "execute_result"
    }
   ],
   "source": [
    "rfc.predict(first_10_x)"
   ]
  },
  {
   "cell_type": "code",
   "execution_count": 39,
   "metadata": {},
   "outputs": [
    {
     "data": {
      "text/plain": [
       "9249    206000.0\n",
       "984     352000.0\n",
       "7192    265000.0\n",
       "754     230000.0\n",
       "8760    260000.0\n",
       "4716     66500.0\n",
       "8864    100760.0\n",
       "83      259999.0\n",
       "5311     82500.0\n",
       "5117    152000.0\n",
       "Name: Price_€_VAT_incl, dtype: float64"
      ]
     },
     "execution_count": 39,
     "metadata": {},
     "output_type": "execute_result"
    }
   ],
   "source": [
    "y_train.head(10)"
   ]
  },
  {
   "cell_type": "code",
   "execution_count": 40,
   "metadata": {},
   "outputs": [
    {
     "name": "stdout",
     "output_type": "stream",
     "text": [
      "R2 Score: -2.062704273351314\n",
      "Mean Squared Error: 142097581536.0822\n",
      "Mean Absolute Error: 202007.3420342034\n"
     ]
    }
   ],
   "source": [
    "rfc_train_predictions = rfc.predict(X_train)\n",
    "print(f\"R2 Score: {r2_score(y_train, rfc_train_predictions)}\")\n",
    "print(f\"Mean Squared Error: {mean_squared_error(y_train, rfc_train_predictions)}\")\n",
    "print(f\"Mean Absolute Error: {mean_absolute_error(y_train, rfc_train_predictions)}\")"
   ]
  },
  {
   "cell_type": "markdown",
   "metadata": {},
   "source": [
    "### Section 4.x: Evaluation of Random Forest"
   ]
  },
  {
   "cell_type": "code",
   "execution_count": 41,
   "metadata": {},
   "outputs": [
    {
     "name": "stdout",
     "output_type": "stream",
     "text": [
      "R2 Score: -2.0275038015962012\n",
      "Mean Squared Error: 146268063048.39084\n",
      "Mean Absolute Error: 210821.28866340098\n"
     ]
    }
   ],
   "source": [
    "rfc_test_predictions = rfc.predict(X_test)\n",
    "print(f\"R2 Score: {r2_score(y_test, rfc_test_predictions)}\")\n",
    "print(f\"Mean Squared Error: {mean_squared_error(y_test, rfc_test_predictions)}\")\n",
    "print(f\"Mean Absolute Error: {mean_absolute_error(y_test, rfc_test_predictions)}\")"
   ]
  },
  {
   "cell_type": "markdown",
   "metadata": {},
   "source": [
    "Observations: The random forest classifier performs better than the decision tree classifier, however, performance is still poor."
   ]
  },
  {
   "cell_type": "markdown",
   "metadata": {},
   "source": [
    "### Section 4.x: Cross validation of random forest"
   ]
  },
  {
   "cell_type": "code",
   "execution_count": 42,
   "metadata": {},
   "outputs": [
    {
     "name": "stderr",
     "output_type": "stream",
     "text": [
      "C:\\Users\\micha\\anaconda3\\envs\\comp47350py38hw2\\lib\\site-packages\\sklearn\\model_selection\\_split.py:676: UserWarning: The least populated class in y has only 1 members, which is less than n_splits=3.\n",
      "  warnings.warn(\n"
     ]
    },
    {
     "name": "stdout",
     "output_type": "stream",
     "text": [
      "\n",
      "CV scores: [-2.02559868 -2.24583167 -1.87547339]\n",
      "\n",
      "CV mean score: -2.048967911554089\n",
      "\n",
      "CV std score: 0.15209844007153275\n"
     ]
    }
   ],
   "source": [
    "dtc_cv_scores = cross_val_score(RandomForestClassifier(n_estimators=100, max_features='auto', oob_score=True, random_state=1), X_train, y_train, scoring=\"r2\", cv=3)\n",
    "print(\"\\nCV scores:\", dtc_cv_scores)\n",
    "print(\"\\nCV mean score:\", dtc_cv_scores.mean())\n",
    "print(\"\\nCV std score:\", dtc_cv_scores.std())"
   ]
  },
  {
   "cell_type": "markdown",
   "metadata": {},
   "source": [
    "Observations: The results from cross validation did not differ drastically to the results from hold-out sampling"
   ]
  },
  {
   "cell_type": "markdown",
   "metadata": {},
   "source": [
    "## Section 5: Improving Predictive Models"
   ]
  },
  {
   "cell_type": "markdown",
   "metadata": {},
   "source": [
    "### Section 5.x: Optimal model vs yearly average"
   ]
  },
  {
   "cell_type": "code",
   "execution_count": 43,
   "metadata": {},
   "outputs": [
    {
     "data": {
      "text/plain": [
       "DummyRegressor()"
      ]
     },
     "execution_count": 43,
     "metadata": {},
     "output_type": "execute_result"
    }
   ],
   "source": [
    "from sklearn.dummy import DummyRegressor\n",
    "\n",
    "baseline_model = DummyRegressor(strategy=\"mean\")\n",
    "baseline_model.fit(X_train, y_train)"
   ]
  },
  {
   "cell_type": "code",
   "execution_count": 44,
   "metadata": {},
   "outputs": [
    {
     "name": "stdout",
     "output_type": "stream",
     "text": [
      "R2 Score: -9.300901363995528e-05\n",
      "Mean Squared Error: 48317583356.802864\n",
      "Mean Absolute Error: 147827.9174609903\n"
     ]
    }
   ],
   "source": [
    "baseline_predictions = baseline_model.predict(X_test)\n",
    "print(f\"R2 Score: {r2_score(y_test, baseline_predictions)}\")\n",
    "print(f\"Mean Squared Error: {mean_squared_error(y_test, baseline_predictions)}\")\n",
    "print(f\"Mean Absolute Error: {mean_absolute_error(y_test, baseline_predictions)}\")"
   ]
  },
  {
   "cell_type": "markdown",
   "metadata": {},
   "source": [
    "### Section 5.x: Problem understanding/improving optimal model"
   ]
  },
  {
   "cell_type": "code",
   "execution_count": null,
   "metadata": {},
   "outputs": [],
   "source": []
  },
  {
   "cell_type": "markdown",
   "metadata": {},
   "source": [
    "### Section 5.x: Evaluation of our best model on unseen data"
   ]
  },
  {
   "cell_type": "markdown",
   "metadata": {},
   "source": [
    "#### Section 5.x.x: Read in the unseen data"
   ]
  },
  {
   "cell_type": "code",
   "execution_count": 45,
   "metadata": {},
   "outputs": [],
   "source": [
    "unseen_df = pd.read_csv(\"cleaned_unseen_data.csv\")"
   ]
  },
  {
   "cell_type": "markdown",
   "metadata": {},
   "source": [
    "#### Section 5.x.x: Change the data types"
   ]
  },
  {
   "cell_type": "code",
   "execution_count": 46,
   "metadata": {},
   "outputs": [],
   "source": [
    "# Change the price variable to a float\n",
    "unseen_df[\"Price_€_VAT_incl\"] = unseen_df[\"Price_€_VAT_incl\"].astype(float)"
   ]
  },
  {
   "cell_type": "code",
   "execution_count": 47,
   "metadata": {},
   "outputs": [],
   "source": [
    "# Change the date of sale variable to a datetime variable\n",
    "unseen_df[\"Date_of_Sale\"] = pd.to_datetime(unseen_df[\"Date_of_Sale\"], format=\"%Y-%m-%d\")"
   ]
  },
  {
   "cell_type": "code",
   "execution_count": 48,
   "metadata": {},
   "outputs": [],
   "source": [
    "# Change the quarter of sale variable to an object\n",
    "# This is so that it can be turned into a categorical variable in the next cell\n",
    "unseen_df[\"Quarter_of_Sale\"] = unseen_df[\"Quarter_of_Sale\"].astype(\"object\")"
   ]
  },
  {
   "cell_type": "code",
   "execution_count": 49,
   "metadata": {},
   "outputs": [
    {
     "data": {
      "text/plain": [
       "Date_of_Sale                 datetime64[ns]\n",
       "Postal_Code                        category\n",
       "County                             category\n",
       "Price_€_VAT_incl                    float64\n",
       "Description_of_Property            category\n",
       "Property_Size_Description          category\n",
       "Month_of_Sale                      category\n",
       "Quarter_of_Sale                    category\n",
       "dtype: object"
      ]
     },
     "execution_count": 49,
     "metadata": {},
     "output_type": "execute_result"
    }
   ],
   "source": [
    "# Select all columns of type 'object'\n",
    "object_columns = unseen_df.select_dtypes(['object']).columns\n",
    "\n",
    "# Convert selected columns to type 'category'\n",
    "for column in object_columns:\n",
    "    unseen_df[column] = unseen_df[column].astype('category')\n",
    "unseen_df.dtypes"
   ]
  },
  {
   "cell_type": "code",
   "execution_count": 50,
   "metadata": {},
   "outputs": [],
   "source": [
    "# The input variables will be all columns except for price and date of sale\n",
    "X_unseen = unseen_df.drop([\"Price_€_VAT_incl\", \"Date_of_Sale\"], axis=1)\n",
    "\n",
    "# The target variable will be property price\n",
    "y_unseen = unseen_df[\"Price_€_VAT_incl\"]"
   ]
  },
  {
   "cell_type": "code",
   "execution_count": 51,
   "metadata": {},
   "outputs": [],
   "source": [
    "X_unseen.drop([\"Month_of_Sale\", \"Quarter_of_Sale\"], axis=1, inplace=True)"
   ]
  },
  {
   "cell_type": "code",
   "execution_count": 52,
   "metadata": {},
   "outputs": [],
   "source": [
    "category_columns = X_unseen.select_dtypes(['category']).columns\n",
    "\n",
    "for each in category_columns:\n",
    "    dummies = pd.get_dummies(X_unseen[each], prefix=each, drop_first = True)\n",
    "    X_unseen = pd.concat([X_unseen, dummies], axis=1)\n",
    "X_unseen = X_unseen.drop(category_columns, axis=1)"
   ]
  },
  {
   "cell_type": "code",
   "execution_count": 53,
   "metadata": {},
   "outputs": [
    {
     "data": {
      "text/plain": [
       "Index(['Postal_Code_dublin 10', 'Postal_Code_dublin 11',\n",
       "       'Postal_Code_dublin 12', 'Postal_Code_dublin 13',\n",
       "       'Postal_Code_dublin 14', 'Postal_Code_dublin 15',\n",
       "       'Postal_Code_dublin 16', 'Postal_Code_dublin 17',\n",
       "       'Postal_Code_dublin 18', 'Postal_Code_dublin 2',\n",
       "       'Postal_Code_dublin 20', 'Postal_Code_dublin 22',\n",
       "       'Postal_Code_dublin 24', 'Postal_Code_dublin 3', 'Postal_Code_dublin 4',\n",
       "       'Postal_Code_dublin 5', 'Postal_Code_dublin 6', 'Postal_Code_dublin 6w',\n",
       "       'Postal_Code_dublin 7', 'Postal_Code_dublin 8', 'Postal_Code_dublin 9',\n",
       "       'Postal_Code_unknown', 'County_Cavan', 'County_Clare', 'County_Cork',\n",
       "       'County_Donegal', 'County_Dublin', 'County_Galway', 'County_Kerry',\n",
       "       'County_Kildare', 'County_Kilkenny', 'County_Laois', 'County_Leitrim',\n",
       "       'County_Limerick', 'County_Longford', 'County_Louth', 'County_Mayo',\n",
       "       'County_Meath', 'County_Monaghan', 'County_Offaly', 'County_Roscommon',\n",
       "       'County_Sligo', 'County_Tipperary', 'County_Waterford',\n",
       "       'County_Westmeath', 'County_Wexford', 'County_Wicklow',\n",
       "       'Description_of_Property_Second-Hand Dwelling house /Apartment'],\n",
       "      dtype='object')"
      ]
     },
     "execution_count": 53,
     "metadata": {},
     "output_type": "execute_result"
    }
   ],
   "source": [
    "X_unseen.columns"
   ]
  },
  {
   "cell_type": "code",
   "execution_count": 54,
   "metadata": {},
   "outputs": [
    {
     "data": {
      "text/html": [
       "<div>\n",
       "<style scoped>\n",
       "    .dataframe tbody tr th:only-of-type {\n",
       "        vertical-align: middle;\n",
       "    }\n",
       "\n",
       "    .dataframe tbody tr th {\n",
       "        vertical-align: top;\n",
       "    }\n",
       "\n",
       "    .dataframe thead th {\n",
       "        text-align: right;\n",
       "    }\n",
       "</style>\n",
       "<table border=\"1\" class=\"dataframe\">\n",
       "  <thead>\n",
       "    <tr style=\"text-align: right;\">\n",
       "      <th></th>\n",
       "      <th>Postal_Code_dublin 10</th>\n",
       "      <th>Postal_Code_dublin 11</th>\n",
       "      <th>Postal_Code_dublin 12</th>\n",
       "      <th>Postal_Code_dublin 13</th>\n",
       "      <th>Postal_Code_dublin 14</th>\n",
       "      <th>Postal_Code_dublin 15</th>\n",
       "      <th>Postal_Code_dublin 16</th>\n",
       "      <th>Postal_Code_dublin 17</th>\n",
       "      <th>Postal_Code_dublin 18</th>\n",
       "      <th>Postal_Code_dublin 2</th>\n",
       "      <th>...</th>\n",
       "      <th>County_Monaghan</th>\n",
       "      <th>County_Offaly</th>\n",
       "      <th>County_Roscommon</th>\n",
       "      <th>County_Sligo</th>\n",
       "      <th>County_Tipperary</th>\n",
       "      <th>County_Waterford</th>\n",
       "      <th>County_Westmeath</th>\n",
       "      <th>County_Wexford</th>\n",
       "      <th>County_Wicklow</th>\n",
       "      <th>Description_of_Property_Second-Hand Dwelling house /Apartment</th>\n",
       "    </tr>\n",
       "  </thead>\n",
       "  <tbody>\n",
       "    <tr>\n",
       "      <th>0</th>\n",
       "      <td>0</td>\n",
       "      <td>0</td>\n",
       "      <td>0</td>\n",
       "      <td>0</td>\n",
       "      <td>0</td>\n",
       "      <td>0</td>\n",
       "      <td>0</td>\n",
       "      <td>0</td>\n",
       "      <td>0</td>\n",
       "      <td>0</td>\n",
       "      <td>...</td>\n",
       "      <td>0</td>\n",
       "      <td>0</td>\n",
       "      <td>0</td>\n",
       "      <td>0</td>\n",
       "      <td>0</td>\n",
       "      <td>0</td>\n",
       "      <td>0</td>\n",
       "      <td>0</td>\n",
       "      <td>0</td>\n",
       "      <td>1</td>\n",
       "    </tr>\n",
       "    <tr>\n",
       "      <th>1</th>\n",
       "      <td>0</td>\n",
       "      <td>0</td>\n",
       "      <td>0</td>\n",
       "      <td>0</td>\n",
       "      <td>0</td>\n",
       "      <td>0</td>\n",
       "      <td>0</td>\n",
       "      <td>0</td>\n",
       "      <td>0</td>\n",
       "      <td>0</td>\n",
       "      <td>...</td>\n",
       "      <td>0</td>\n",
       "      <td>0</td>\n",
       "      <td>0</td>\n",
       "      <td>0</td>\n",
       "      <td>0</td>\n",
       "      <td>0</td>\n",
       "      <td>0</td>\n",
       "      <td>0</td>\n",
       "      <td>0</td>\n",
       "      <td>1</td>\n",
       "    </tr>\n",
       "    <tr>\n",
       "      <th>2</th>\n",
       "      <td>0</td>\n",
       "      <td>0</td>\n",
       "      <td>0</td>\n",
       "      <td>0</td>\n",
       "      <td>0</td>\n",
       "      <td>0</td>\n",
       "      <td>0</td>\n",
       "      <td>0</td>\n",
       "      <td>0</td>\n",
       "      <td>0</td>\n",
       "      <td>...</td>\n",
       "      <td>0</td>\n",
       "      <td>0</td>\n",
       "      <td>0</td>\n",
       "      <td>0</td>\n",
       "      <td>0</td>\n",
       "      <td>0</td>\n",
       "      <td>0</td>\n",
       "      <td>0</td>\n",
       "      <td>0</td>\n",
       "      <td>0</td>\n",
       "    </tr>\n",
       "    <tr>\n",
       "      <th>3</th>\n",
       "      <td>0</td>\n",
       "      <td>0</td>\n",
       "      <td>0</td>\n",
       "      <td>0</td>\n",
       "      <td>0</td>\n",
       "      <td>0</td>\n",
       "      <td>0</td>\n",
       "      <td>0</td>\n",
       "      <td>0</td>\n",
       "      <td>0</td>\n",
       "      <td>...</td>\n",
       "      <td>0</td>\n",
       "      <td>0</td>\n",
       "      <td>0</td>\n",
       "      <td>0</td>\n",
       "      <td>0</td>\n",
       "      <td>0</td>\n",
       "      <td>0</td>\n",
       "      <td>1</td>\n",
       "      <td>0</td>\n",
       "      <td>1</td>\n",
       "    </tr>\n",
       "    <tr>\n",
       "      <th>4</th>\n",
       "      <td>0</td>\n",
       "      <td>0</td>\n",
       "      <td>0</td>\n",
       "      <td>0</td>\n",
       "      <td>0</td>\n",
       "      <td>0</td>\n",
       "      <td>0</td>\n",
       "      <td>0</td>\n",
       "      <td>0</td>\n",
       "      <td>0</td>\n",
       "      <td>...</td>\n",
       "      <td>0</td>\n",
       "      <td>0</td>\n",
       "      <td>0</td>\n",
       "      <td>0</td>\n",
       "      <td>0</td>\n",
       "      <td>0</td>\n",
       "      <td>0</td>\n",
       "      <td>0</td>\n",
       "      <td>0</td>\n",
       "      <td>1</td>\n",
       "    </tr>\n",
       "  </tbody>\n",
       "</table>\n",
       "<p>5 rows × 48 columns</p>\n",
       "</div>"
      ],
      "text/plain": [
       "   Postal_Code_dublin 10  Postal_Code_dublin 11  Postal_Code_dublin 12  \\\n",
       "0                      0                      0                      0   \n",
       "1                      0                      0                      0   \n",
       "2                      0                      0                      0   \n",
       "3                      0                      0                      0   \n",
       "4                      0                      0                      0   \n",
       "\n",
       "   Postal_Code_dublin 13  Postal_Code_dublin 14  Postal_Code_dublin 15  \\\n",
       "0                      0                      0                      0   \n",
       "1                      0                      0                      0   \n",
       "2                      0                      0                      0   \n",
       "3                      0                      0                      0   \n",
       "4                      0                      0                      0   \n",
       "\n",
       "   Postal_Code_dublin 16  Postal_Code_dublin 17  Postal_Code_dublin 18  \\\n",
       "0                      0                      0                      0   \n",
       "1                      0                      0                      0   \n",
       "2                      0                      0                      0   \n",
       "3                      0                      0                      0   \n",
       "4                      0                      0                      0   \n",
       "\n",
       "   Postal_Code_dublin 2  ...  County_Monaghan  County_Offaly  \\\n",
       "0                     0  ...                0              0   \n",
       "1                     0  ...                0              0   \n",
       "2                     0  ...                0              0   \n",
       "3                     0  ...                0              0   \n",
       "4                     0  ...                0              0   \n",
       "\n",
       "   County_Roscommon  County_Sligo  County_Tipperary  County_Waterford  \\\n",
       "0                 0             0                 0                 0   \n",
       "1                 0             0                 0                 0   \n",
       "2                 0             0                 0                 0   \n",
       "3                 0             0                 0                 0   \n",
       "4                 0             0                 0                 0   \n",
       "\n",
       "   County_Westmeath  County_Wexford  County_Wicklow  \\\n",
       "0                 0               0               0   \n",
       "1                 0               0               0   \n",
       "2                 0               0               0   \n",
       "3                 0               1               0   \n",
       "4                 0               0               0   \n",
       "\n",
       "   Description_of_Property_Second-Hand Dwelling house /Apartment  \n",
       "0                                                  1              \n",
       "1                                                  1              \n",
       "2                                                  0              \n",
       "3                                                  1              \n",
       "4                                                  1              \n",
       "\n",
       "[5 rows x 48 columns]"
      ]
     },
     "execution_count": 54,
     "metadata": {},
     "output_type": "execute_result"
    }
   ],
   "source": [
    "X_unseen.head()"
   ]
  }
 ],
 "metadata": {
  "interpreter": {
   "hash": "684d9301ac9777e486c7e2086dc4c0279f3f1b82d09774547a1fa9de1c25b443"
  },
  "kernelspec": {
   "display_name": "Python 3.8.12 ('comp47350py38hw2')",
   "language": "python",
   "name": "python3"
  },
  "language_info": {
   "codemirror_mode": {
    "name": "ipython",
    "version": 3
   },
   "file_extension": ".py",
   "mimetype": "text/x-python",
   "name": "python",
   "nbconvert_exporter": "python",
   "pygments_lexer": "ipython3",
   "version": "3.8.12"
  },
  "orig_nbformat": 4
 },
 "nbformat": 4,
 "nbformat_minor": 2
}
