{
 "cells": [
  {
   "cell_type": "markdown",
   "metadata": {},
   "source": [
    "# Property Price Register - Machine Learning analysis"
   ]
  }
 ],
 "metadata": {
  "interpreter": {
   "hash": "684d9301ac9777e486c7e2086dc4c0279f3f1b82d09774547a1fa9de1c25b443"
  },
  "kernelspec": {
   "display_name": "Python 3.8.12 ('comp47350py38hw2')",
   "language": "python",
   "name": "python3"
  },
  "language_info": {
   "name": "python",
   "version": "3.8.12"
  },
  "orig_nbformat": 4
 },
 "nbformat": 4,
 "nbformat_minor": 2
}
